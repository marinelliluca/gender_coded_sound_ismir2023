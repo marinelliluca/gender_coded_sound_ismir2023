{
 "cells": [
  {
   "cell_type": "code",
   "execution_count": null,
   "metadata": {},
   "outputs": [],
   "source": [
    "%matplotlib inline\n",
    "\n",
    "import os\n",
    "import numpy as np\n",
    "import pandas as pd\n",
    "import seaborn as sns\n",
    "import matplotlib.pyplot as plt\n",
    "import umap\n",
    "from sklearn.preprocessing import StandardScaler\n",
    "\n",
    "sns.set_theme(style=\"darkgrid\")\n",
    "sns.set(font_scale = 1.8)\n",
    "colors = sns.color_palette(\"colorblind\")"
   ]
  },
  {
   "cell_type": "code",
   "execution_count": null,
   "metadata": {},
   "outputs": [],
   "source": [
    "modality = 'video' # 'music' or 'video'\n",
    "\n",
    "embedding_dimensions = {\n",
    "    'video': 2048, # 256 if using the fast pathway\n",
    "    'music': 256,\n",
    "}\n",
    "\n",
    "fn_suffix = {\n",
    "    'music': '_backend',\n",
    "    'video': '_slow',\n",
    "}"
   ]
  },
  {
   "attachments": {},
   "cell_type": "markdown",
   "metadata": {},
   "source": [
    "## Load ground truth"
   ]
  },
  {
   "cell_type": "code",
   "execution_count": null,
   "metadata": {},
   "outputs": [],
   "source": [
    "groundtruth_df = pd.read_csv(\"groundtruth.csv\")\n",
    "groundtruth_df.set_index(\"stimulus_id\", inplace=True)"
   ]
  },
  {
   "cell_type": "code",
   "execution_count": null,
   "metadata": {},
   "outputs": [],
   "source": [
    "merge_cases = [\n",
    "    {\n",
    "        \"merged_name\": \"Outdoor and Sports\",\n",
    "        \"cases_to_merge\": [\"Outdoor and Sports\", \"Ride-Ons, Bikes, Scooters and Skateboards\"]\n",
    "    },\n",
    "    {\n",
    "        \"merged_name\": \"None of the Above\",\n",
    "        \"cases_to_merge\": [\"None of the Above\", \"Video Gaming\"]\n",
    "    },\n",
    "    {\n",
    "        \"merged_name\": \"Toy Vehicles, Building and Construction\",\n",
    "        \"cases_to_merge\": [\"Toy Vehicles (Powered and Non-Powered)\", \"Building and Construction\"]\n",
    "    }\n",
    "]\n",
    "\n",
    "for merging_dict in merge_cases:\n",
    "    for case in merging_dict[\"cases_to_merge\"]:\n",
    "        groundtruth_df.loc[groundtruth_df.product_category==case, \"product_category\"] = merging_dict[\"merged_name\"]\n",
    "\n",
    "groundtruth_df.head()"
   ]
  },
  {
   "cell_type": "code",
   "execution_count": null,
   "metadata": {},
   "outputs": [],
   "source": [
    "not_found = 0\n",
    "for stimulus_id in groundtruth_df.index:\n",
    "    if os.path.exists(f\"{modality}/embeddings/{stimulus_id}{fn_suffix[modality]}.npy\"):\n",
    "        continue\n",
    "    else:\n",
    "        print(f\"Embedding for {stimulus_id} not found\")\n",
    "        not_found += 1\n",
    "\n",
    "assert not_found == 0"
   ]
  },
  {
   "attachments": {},
   "cell_type": "markdown",
   "metadata": {},
   "source": [
    "## Load embeddings"
   ]
  },
  {
   "cell_type": "code",
   "execution_count": null,
   "metadata": {},
   "outputs": [],
   "source": [
    "embedding_dim = embedding_dimensions[modality]\n",
    "\n",
    "all_embeddings = np.empty((groundtruth_df.shape[0], embedding_dim))\n",
    "\n",
    "for i,stimulus_id in enumerate(groundtruth_df.index):\n",
    "    embedding = np.load(f\"{modality}/embeddings/{stimulus_id}{fn_suffix[modality]}.npy\")\n",
    "    all_embeddings[i] = embedding.mean(axis=0)\n",
    "\n",
    "all_embeddings.shape"
   ]
  },
  {
   "cell_type": "code",
   "execution_count": null,
   "metadata": {},
   "outputs": [],
   "source": [
    "reducer = umap.UMAP(n_neighbors=20, random_state=42)\n",
    "embeddings = StandardScaler().fit_transform(all_embeddings)\n",
    "embeddings = reducer.fit_transform(embeddings)"
   ]
  },
  {
   "cell_type": "code",
   "execution_count": null,
   "metadata": {},
   "outputs": [],
   "source": [
    "palette = {'Mixed':'C2','Girls/women':'C3','Boys/men':'C0','No actors':'C1'}\n",
    "\n",
    "mask = groundtruth_df.all_genders.isin([\"Girls/women\", \"Mixed\", \"Boys/men\"])\n",
    "\n",
    "plt.figure(figsize=(12,8))\n",
    "g = sns.scatterplot(\n",
    "        x= embeddings[mask,0], # type: ignore\n",
    "        y= embeddings[mask,1], # type: ignore\n",
    "        hue= groundtruth_df.loc[mask, \"all_genders\"],\n",
    "        palette= palette, s=50\n",
    "    )\n",
    "g.set(xticklabels=[], yticklabels=[], xticks=[], yticks=[])\n",
    "g.grid(False)\n",
    "g.legend(title=\"Target\")\n",
    "plt.show()\n"
   ]
  },
  {
   "cell_type": "code",
   "execution_count": null,
   "metadata": {},
   "outputs": [],
   "source": []
  }
 ],
 "metadata": {
  "kernelspec": {
   "display_name": "embeddings_pipeline_dev",
   "language": "python",
   "name": "python3"
  },
  "language_info": {
   "codemirror_mode": {
    "name": "ipython",
    "version": 3
   },
   "file_extension": ".py",
   "mimetype": "text/x-python",
   "name": "python",
   "nbconvert_exporter": "python",
   "pygments_lexer": "ipython3",
   "version": "3.10.9"
  },
  "orig_nbformat": 4,
  "vscode": {
   "interpreter": {
    "hash": "25afc36bdd1f351ba26e01c2272523456c0ab32d7af87ae9c52e485253265920"
   }
  }
 },
 "nbformat": 4,
 "nbformat_minor": 2
}
