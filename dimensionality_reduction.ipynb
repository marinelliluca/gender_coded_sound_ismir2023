{
 "cells": [
  {
   "cell_type": "code",
   "execution_count": null,
   "metadata": {},
   "outputs": [],
   "source": [
    "%matplotlib inline\n",
    "\n",
    "import os\n",
    "import numpy as np\n",
    "import pandas as pd\n",
    "import seaborn as sns\n",
    "import matplotlib.pyplot as plt\n",
    "import umap"
   ]
  },
  {
   "cell_type": "code",
   "execution_count": null,
   "metadata": {},
   "outputs": [],
   "source": [
    "modality = 'music'\n",
    "\n",
    "embedding_dimensions = {\n",
    "    'video': 'placeholder',\n",
    "    'music': 256,\n",
    "}"
   ]
  },
  {
   "cell_type": "code",
   "execution_count": null,
   "metadata": {},
   "outputs": [],
   "source": [
    "groundtruth_df = pd.read_csv(\"groundtruth.csv\")\n",
    "groundtruth_df.set_index(\"stimulus_id\", inplace=True)\n",
    "groundtruth_df.head()"
   ]
  },
  {
   "cell_type": "code",
   "execution_count": null,
   "metadata": {},
   "outputs": [],
   "source": [
    "not_found = 0\n",
    "for stimulus_id in groundtruth_df.index:\n",
    "    if os.path.exists(f\"music/embeddings/{stimulus_id}_frontend.npy\"):\n",
    "        continue\n",
    "    else:\n",
    "        print(f\"Embedding for {stimulus_id} not found\")\n",
    "        not_found += 1\n",
    "\n",
    "assert not_found == 0"
   ]
  },
  {
   "attachments": {},
   "cell_type": "markdown",
   "metadata": {},
   "source": [
    "## Load embeddings"
   ]
  },
  {
   "cell_type": "code",
   "execution_count": null,
   "metadata": {},
   "outputs": [],
   "source": [
    "embedding_dim = embedding_dimensions[modality]\n",
    "\n",
    "all_embeddings = np.empty((groundtruth_df.shape[0], embedding_dim))\n",
    "\n",
    "for i,stimulus_id in enumerate(groundtruth_df.index):\n",
    "    embedding = np.load(f\"music/embeddings/{stimulus_id}_backend.npy\")\n",
    "    all_embeddings[i] = embedding.mean(axis=0)\n",
    "\n",
    "all_embeddings.shape"
   ]
  },
  {
   "cell_type": "code",
   "execution_count": null,
   "metadata": {},
   "outputs": [],
   "source": []
  }
 ],
 "metadata": {
  "kernelspec": {
   "display_name": "embeddings_pipeline_dev",
   "language": "python",
   "name": "python3"
  },
  "language_info": {
   "codemirror_mode": {
    "name": "ipython",
    "version": 3
   },
   "file_extension": ".py",
   "mimetype": "text/x-python",
   "name": "python",
   "nbconvert_exporter": "python",
   "pygments_lexer": "ipython3",
   "version": "3.10.9"
  },
  "orig_nbformat": 4,
  "vscode": {
   "interpreter": {
    "hash": "25afc36bdd1f351ba26e01c2272523456c0ab32d7af87ae9c52e485253265920"
   }
  }
 },
 "nbformat": 4,
 "nbformat_minor": 2
}
