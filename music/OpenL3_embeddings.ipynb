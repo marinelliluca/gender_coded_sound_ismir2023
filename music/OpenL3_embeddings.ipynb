{
 "cells": [
  {
   "cell_type": "code",
   "execution_count": null,
   "metadata": {},
   "outputs": [],
   "source": [
    "import numpy as np\n",
    "import glob\n",
    "import librosa\n",
    "import torchopenl3\n",
    "\n",
    "from tqdm.notebook import tqdm"
   ]
  },
  {
   "attachments": {},
   "cell_type": "markdown",
   "metadata": {},
   "source": [
    "Please cite the following TorchOpenL3 in your work:\n",
    "\n",
    "[1] Gyanendra Das, Humair Raj Khan, Joseph Turian (2021). torchopenl3 (version 1.0.1). DOI 10.5281/zenodo.5168808, https://github.com/torchopenl3/torchopenl3."
   ]
  },
  {
   "cell_type": "code",
   "execution_count": null,
   "metadata": {},
   "outputs": [],
   "source": [
    "which = 'env' # 'music' or 'env'\n",
    "sr = 48000 # 48KHz as in the paper"
   ]
  },
  {
   "cell_type": "code",
   "execution_count": null,
   "metadata": {},
   "outputs": [],
   "source": [
    "for audio_fn in tqdm(glob.glob(\"/homes/lm004/commercials/annotated_commercials/*.mp3\")):\n",
    "    y, sr = librosa.core.load(audio_fn, sr=sr, res_type='kaiser_fast')\n",
    "    audio_embedding, _ = torchopenl3.get_audio_embedding(y, sr, input_repr=\"mel128\", content_type=which, \n",
    "                                                        embedding_size=512, hop_size=0.5, center=False)\n",
    "    \n",
    "    stimulus_id = audio_fn.split('/')[-1].replace('_trimmed.mp3','')\n",
    "\n",
    "    np.save(open(f\"embeddings_openl3/{stimulus_id}_{which}.npy\", 'wb'), \n",
    "            audio_embedding.detach().cpu().numpy().squeeze())"
   ]
  },
  {
   "cell_type": "code",
   "execution_count": null,
   "metadata": {},
   "outputs": [],
   "source": [
    "for audio_fn in tqdm(glob.glob(\"/homes/lm004/commercials/annotated_commercials/*.mp3\")):\n",
    "\n",
    "    stimulus_id = audio_fn.split('/')[-1].replace('_trimmed.mp3','')\n",
    "\n",
    "    audio_fn = audio_fn.replace('.mp3','/accompaniment.wav')\n",
    "\n",
    "    y, sr = librosa.core.load(audio_fn, sr=sr, res_type='kaiser_fast')\n",
    "    audio_embedding, _ = torchopenl3.get_audio_embedding(y, sr, input_repr=\"mel128\", content_type=which, \n",
    "                                                         embedding_size=512, hop_size=0.5, center=False)\n",
    "\n",
    "    np.save(open(f\"embeddings_openl3_novoice/{stimulus_id}_{which}.npy\", 'wb'), \n",
    "            audio_embedding.detach().cpu().numpy().squeeze())"
   ]
  },
  {
   "cell_type": "code",
   "execution_count": null,
   "metadata": {},
   "outputs": [],
   "source": []
  }
 ],
 "metadata": {
  "kernelspec": {
   "display_name": "dl4am",
   "language": "python",
   "name": "python3"
  },
  "language_info": {
   "codemirror_mode": {
    "name": "ipython",
    "version": 3
   },
   "file_extension": ".py",
   "mimetype": "text/x-python",
   "name": "python",
   "nbconvert_exporter": "python",
   "pygments_lexer": "ipython3",
   "version": "3.10.9"
  },
  "orig_nbformat": 4
 },
 "nbformat": 4,
 "nbformat_minor": 2
}
