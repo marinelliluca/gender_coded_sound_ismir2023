{
 "cells": [
  {
   "cell_type": "code",
   "execution_count": 1,
   "metadata": {},
   "outputs": [],
   "source": [
    "import numpy as np\n",
    "import glob\n",
    "import librosa\n",
    "import torchopenl3\n",
    "\n",
    "from tqdm.notebook import tqdm"
   ]
  },
  {
   "attachments": {},
   "cell_type": "markdown",
   "metadata": {},
   "source": [
    "Please cite the following TorchOpenL3 in your work:\n",
    "\n",
    "[1] Gyanendra Das, Humair Raj Khan, Joseph Turian (2021). torchopenl3 (version 1.0.1). DOI 10.5281/zenodo.5168808, https://github.com/torchopenl3/torchopenl3."
   ]
  },
  {
   "cell_type": "code",
   "execution_count": 2,
   "metadata": {},
   "outputs": [],
   "source": [
    "which = 'music' # 'music' or 'env'\n",
    "sr = 48000 # 48KHz as in the paper"
   ]
  },
  {
   "cell_type": "code",
   "execution_count": 3,
   "metadata": {},
   "outputs": [
    {
     "data": {
      "application/vnd.jupyter.widget-view+json": {
       "model_id": "85245e7ff38d44ec93d7fc29415789df",
       "version_major": 2,
       "version_minor": 0
      },
      "text/plain": [
       "  0%|          | 0/606 [00:00<?, ?it/s]"
      ]
     },
     "metadata": {},
     "output_type": "display_data"
    },
    {
     "name": "stderr",
     "output_type": "stream",
     "text": [
      "Downloading: \"https://github.com/torchopenl3/torchopenl3-models/raw/master/torchopenl3_mel128_music_512.pth.tar\" to /homes/lm004/.cache/torch/hub/checkpoints/torchopenl3_mel128_music_512.pth.tar\n"
     ]
    },
    {
     "data": {
      "application/vnd.jupyter.widget-view+json": {
       "model_id": "946d5001a73245e8a05ec23337a00dfc",
       "version_major": 2,
       "version_minor": 0
      },
      "text/plain": [
       "  0%|          | 0.00/34.4M [00:00<?, ?B/s]"
      ]
     },
     "metadata": {},
     "output_type": "display_data"
    }
   ],
   "source": [
    "for audio_fn in tqdm(glob.glob(\"/import/c4dm-datasets-ext/toy_commercials/annotated_commercials/*.mp3\")):\n",
    "    y, sr = librosa.core.load(audio_fn, sr=sr, res_type='kaiser_fast')\n",
    "    audio_embedding, _ = torchopenl3.get_audio_embedding(y, sr, input_repr=\"mel128\", content_type=which, \n",
    "                                                        embedding_size=512, hop_size=0.5, center=False)\n",
    "    \n",
    "    stimulus_id = audio_fn.split('/')[-1].replace('_trimmed.mp3','')\n",
    "\n",
    "    np.save(open(f\"embeddings_openl3/{stimulus_id}_{which}.npy\", 'wb'), \n",
    "            audio_embedding.detach().cpu().numpy().squeeze())"
   ]
  },
  {
   "cell_type": "code",
   "execution_count": 4,
   "metadata": {},
   "outputs": [
    {
     "data": {
      "application/vnd.jupyter.widget-view+json": {
       "model_id": "21276bcdf4cc4ccdbd08114544338a44",
       "version_major": 2,
       "version_minor": 0
      },
      "text/plain": [
       "  0%|          | 0/606 [00:00<?, ?it/s]"
      ]
     },
     "metadata": {},
     "output_type": "display_data"
    }
   ],
   "source": [
    "for audio_fn in tqdm(glob.glob(\"/import/c4dm-datasets-ext/toy_commercials/annotated_commercials/*.mp3\")):\n",
    "\n",
    "    stimulus_id = audio_fn.split('/')[-1].replace('_trimmed.mp3','')\n",
    "\n",
    "    audio_fn = audio_fn.replace('.mp3','/accompaniment.wav')\n",
    "\n",
    "    y, sr = librosa.core.load(audio_fn, sr=sr, res_type='kaiser_fast')\n",
    "    audio_embedding, _ = torchopenl3.get_audio_embedding(y, sr, input_repr=\"mel128\", content_type=which, \n",
    "                                                         embedding_size=512, hop_size=0.5, center=False)\n",
    "\n",
    "    np.save(open(f\"embeddings_openl3_novoice/{stimulus_id}_{which}.npy\", 'wb'), \n",
    "            audio_embedding.detach().cpu().numpy().squeeze())"
   ]
  },
  {
   "cell_type": "code",
   "execution_count": null,
   "metadata": {},
   "outputs": [],
   "source": []
  }
 ],
 "metadata": {
  "kernelspec": {
   "display_name": "dl4am",
   "language": "python",
   "name": "python3"
  },
  "language_info": {
   "codemirror_mode": {
    "name": "ipython",
    "version": 3
   },
   "file_extension": ".py",
   "mimetype": "text/x-python",
   "name": "python",
   "nbconvert_exporter": "python",
   "pygments_lexer": "ipython3",
   "version": "3.10.9"
  },
  "orig_nbformat": 4
 },
 "nbformat": 4,
 "nbformat_minor": 2
}
