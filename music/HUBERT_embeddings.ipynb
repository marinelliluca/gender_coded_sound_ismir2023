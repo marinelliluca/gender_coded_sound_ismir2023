{
 "cells": [
  {
   "cell_type": "code",
   "execution_count": 1,
   "metadata": {},
   "outputs": [],
   "source": [
    "import numpy as np\n",
    "import os\n",
    "import glob\n",
    "import librosa\n",
    "import torch\n",
    "import torchaudio\n",
    "\n",
    "os.environ[\"CUDA_DEVICE_ORDER\"] = \"PCI_BUS_ID\"\n",
    "os.environ[\"CUDA_VISIBLE_DEVICES\"] = \"3\""
   ]
  },
  {
   "attachments": {},
   "cell_type": "markdown",
   "metadata": {},
   "source": [
    "From \n",
    "- https://pytorch.org/audio/0.10.0/pipelines.html#wav2vec-2-0-hubert-representation-learning \n",
    "- https://pytorch.org/audio/0.10.0/pipelines.html#wav2vec-2-0-hubert-fine-tuned-asr "
   ]
  },
  {
   "cell_type": "code",
   "execution_count": 2,
   "metadata": {},
   "outputs": [],
   "source": [
    "# Load the model\n",
    "bundle = torchaudio.pipelines.HUBERT_ASR_LARGE # or HUBERT_ASR_XLARGE \n",
    "\n",
    "model = bundle.get_model()\n",
    "\n",
    "# encoder_embed_dim = 768 # HUBERT_BASE (see https://pytorch.org/audio/0.10.0/_modules/torchaudio/pipelines/_wav2vec2.html#Wav2Vec2Bundle)\n",
    "encoder_embed_dim = 1024 # HUBERT_LARGE"
   ]
  },
  {
   "attachments": {},
   "cell_type": "markdown",
   "metadata": {},
   "source": [
    "#### Register forward hook to get the output of the encoder and acoustic features only\n",
    "\n",
    "The function extract_features() returns too many layers"
   ]
  },
  {
   "cell_type": "code",
   "execution_count": 3,
   "metadata": {},
   "outputs": [
    {
     "data": {
      "text/plain": [
       "<torch.utils.hooks.RemovableHandle at 0x7f0058141870>"
      ]
     },
     "execution_count": 3,
     "metadata": {},
     "output_type": "execute_result"
    }
   ],
   "source": [
    "def get_features(name):\n",
    "    def hook(model, input, output):\n",
    "        if name == \"acoustic\":\n",
    "            output, _ = output # second output is optional \n",
    "        features[name] = output.detach() # type: ignore (pylance bug)\n",
    "    return hook\n",
    "\n",
    "model.feature_extractor.register_forward_hook(get_features(\"acoustic\"))\n",
    "model.encoder.register_forward_hook(get_features(\"transformer\"))"
   ]
  },
  {
   "cell_type": "code",
   "execution_count": 4,
   "metadata": {},
   "outputs": [],
   "source": [
    "for audio_fn in glob.glob(\"/homes/lm004/commercials/annotated_commercials/*.mp3\"):\n",
    "    features = {}\n",
    "\n",
    "    y, _ = librosa.core.load(audio_fn, sr=bundle.sample_rate, res_type='kaiser_fast')\n",
    "    y = torch.unsqueeze(torch.from_numpy(y), dim=0)\n",
    "\n",
    "    boh = model(y)\n",
    "\n",
    "    break"
   ]
  },
  {
   "cell_type": "code",
   "execution_count": 7,
   "metadata": {},
   "outputs": [
    {
     "data": {
      "text/plain": [
       "torch.Size([1, 490, 512])"
      ]
     },
     "execution_count": 7,
     "metadata": {},
     "output_type": "execute_result"
    }
   ],
   "source": [
    "features['acoustic'].shape # (1, 490, 512)\n"
   ]
  },
  {
   "cell_type": "code",
   "execution_count": 6,
   "metadata": {},
   "outputs": [
    {
     "data": {
      "text/plain": [
       "torch.Size([1, 490, 1024])"
      ]
     },
     "execution_count": 6,
     "metadata": {},
     "output_type": "execute_result"
    }
   ],
   "source": [
    "features['transformer'].shape # (1, 490, 1024)"
   ]
  },
  {
   "cell_type": "code",
   "execution_count": 22,
   "metadata": {},
   "outputs": [],
   "source": [
    "features_rate = 0.02 # 20ms, see paper\n",
    "assert int(y.shape[1]//(features_rate*bundle.sample_rate)) == features['transformer'].shape[1]\n",
    "assert int(y.shape[1]//(features_rate*bundle.sample_rate)) == features['acoustic'].shape[1]"
   ]
  },
  {
   "cell_type": "code",
   "execution_count": null,
   "metadata": {},
   "outputs": [],
   "source": []
  }
 ],
 "metadata": {
  "kernelspec": {
   "display_name": "embeddings_pipeline_dev",
   "language": "python",
   "name": "python3"
  },
  "language_info": {
   "codemirror_mode": {
    "name": "ipython",
    "version": 3
   },
   "file_extension": ".py",
   "mimetype": "text/x-python",
   "name": "python",
   "nbconvert_exporter": "python",
   "pygments_lexer": "ipython3",
   "version": "3.10.9"
  },
  "orig_nbformat": 4
 },
 "nbformat": 4,
 "nbformat_minor": 2
}
