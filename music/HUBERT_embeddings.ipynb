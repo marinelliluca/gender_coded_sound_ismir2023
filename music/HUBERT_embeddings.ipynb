{
 "cells": [
  {
   "cell_type": "code",
   "execution_count": null,
   "metadata": {},
   "outputs": [],
   "source": [
    "import numpy as np\n",
    "import os\n",
    "import glob\n",
    "import librosa\n",
    "import torch\n",
    "import torchaudio\n",
    "\n",
    "os.environ[\"CUDA_DEVICE_ORDER\"] = \"PCI_BUS_ID\"\n",
    "os.environ[\"CUDA_VISIBLE_DEVICES\"] = \"3\""
   ]
  },
  {
   "attachments": {},
   "cell_type": "markdown",
   "metadata": {},
   "source": [
    "From https://pytorch.org/audio/0.10.0/pipelines.html#wav2vec-2-0-hubert-representation-learning "
   ]
  },
  {
   "cell_type": "code",
   "execution_count": null,
   "metadata": {},
   "outputs": [],
   "source": [
    "# Load the model\n",
    "bundle = torchaudio.pipelines.HUBERT_BASE # or HUBERT_LARGE \n",
    "\n",
    "encoder_embed_dim = 768 # HUBERT_BASE\n",
    "encoder_embed_dim = 1024 # HUBERT_LARGE\n",
    "\n",
    "model = bundle.get_model()"
   ]
  },
  {
   "cell_type": "code",
   "execution_count": null,
   "metadata": {},
   "outputs": [],
   "source": [
    "for audio_fn in glob.glob(\"/homes/lm004/commercials/annotated_commercials/*.mp3\"):\n",
    "    y, _ = librosa.core.load(audio_fn, sr=bundle.sample_rate, res_type='kaiser_fast')\n",
    "\n",
    "    # Extract acoustic embeddings\n",
    "    embeddings, _ = model.extract_features(torch.unsqueeze(torch.from_numpy(y), dim=0))\n",
    "\n",
    "    break"
   ]
  },
  {
   "attachments": {},
   "cell_type": "markdown",
   "metadata": {},
   "source": [
    "## it returns a list of tensors, what should I do with it?"
   ]
  },
  {
   "cell_type": "markdown",
   "metadata": {},
   "source": []
  }
 ],
 "metadata": {
  "kernelspec": {
   "display_name": "embeddings_pipeline_dev",
   "language": "python",
   "name": "python3"
  },
  "language_info": {
   "codemirror_mode": {
    "name": "ipython",
    "version": 3
   },
   "file_extension": ".py",
   "mimetype": "text/x-python",
   "name": "python",
   "nbconvert_exporter": "python",
   "pygments_lexer": "ipython3",
   "version": "3.10.9"
  },
  "orig_nbformat": 4
 },
 "nbformat": 4,
 "nbformat_minor": 2
}
