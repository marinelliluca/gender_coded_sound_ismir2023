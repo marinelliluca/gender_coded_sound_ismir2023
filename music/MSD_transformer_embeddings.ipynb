{
 "cells": [
  {
   "cell_type": "code",
   "execution_count": 1,
   "metadata": {},
   "outputs": [],
   "source": [
    "import sys\n",
    "sys.path.append('..')\n",
    "from utils import compute_melspectrogram, load_parameters, AssembleModel\n",
    "\n",
    "import torch\n",
    "import numpy as np\n",
    "import os\n",
    "import glob\n",
    "import numpy as np\n",
    "os.environ[\"CUDA_DEVICE_ORDER\"] = \"PCI_BUS_ID\"\n",
    "os.environ[\"CUDA_VISIBLE_DEVICES\"] = \"3\"\n",
    "\n",
    "from tqdm.notebook import tqdm"
   ]
  },
  {
   "cell_type": "code",
   "execution_count": 2,
   "metadata": {},
   "outputs": [],
   "source": [
    "# define model parameters\n",
    "main_dict = {\"frontend_dict\":\n",
    "             {\"list_out_channels\":[128,128,256,256,256,256], \n",
    "              \"list_kernel_sizes\":[(3,3),(3,3),(3,3),(3,3),(3,3),(3,3)],\n",
    "              \"list_pool_sizes\":  [(3,2),(2,2),(2,2),(2,1),(2,1),(2,1)], \n",
    "              \"list_avgpool_flags\":[False,False,False,False,False,True]},\n",
    "             \n",
    "             \"backend_dict\":\n",
    "             {\"n_class\":50,\n",
    "              \"recurrent_units\": None, \n",
    "              \"bidirectional\":False},\n",
    "            }"
   ]
  },
  {
   "cell_type": "code",
   "execution_count": null,
   "metadata": {},
   "outputs": [],
   "source": [
    "def first_10_tags(filename, model, tagList, device):\n",
    "\n",
    "    input_length = 5*16000//256 # 5 seconds of audio at 16000 Hz // 256 hop length\n",
    "\n",
    "    whole_spec = compute_melspectrogram(filename)\n",
    "\n",
    "    n_chunks = whole_spec.shape[1] // input_length\n",
    "    spec = np.zeros((n_chunks,whole_spec.shape[0],input_length)) # stack of chunks\n",
    "    for i in range(n_chunks):\n",
    "        spec[i]=whole_spec[:,i*input_length:(i+1)*input_length]\n",
    "\n",
    "    spec = torch.Tensor(spec[:,np.newaxis,:,:]).to(device)\n",
    "    \n",
    "    out = model(spec)\n",
    "    \n",
    "    out = out.detach().cpu().numpy()\n",
    "    \n",
    "    y_pred = out.mean(axis=0)\n",
    "    \n",
    "    print(np.array(tagList)[np.argsort(y_pred)[::-1]][:10].tolist())\n",
    "    print(np.sort(y_pred)[::-1][:10].tolist())"
   ]
  },
  {
   "cell_type": "code",
   "execution_count": null,
   "metadata": {},
   "outputs": [],
   "source": [
    "with open('MSD_50tagList.txt') as f:\n",
    "    tagList = f.readlines()\n",
    "    \n",
    "tagList = [line.replace('\\n','') for line in tagList]"
   ]
  },
  {
   "cell_type": "code",
   "execution_count": 3,
   "metadata": {},
   "outputs": [],
   "source": [
    "model = load_parameters(AssembleModel(main_dict),\"MSD_transformer_autotagger.pth\")"
   ]
  },
  {
   "attachments": {},
   "cell_type": "markdown",
   "metadata": {},
   "source": [
    "#### Setup\n",
    "\n",
    "Set the model to eval mode and move to desired device."
   ]
  },
  {
   "cell_type": "code",
   "execution_count": 4,
   "metadata": {},
   "outputs": [],
   "source": [
    "# Set to GPU or CPU\n",
    "device = \"cuda\"\n",
    "model = model.eval()\n",
    "model = model.to(device)"
   ]
  },
  {
   "attachments": {},
   "cell_type": "markdown",
   "metadata": {},
   "source": [
    "Test"
   ]
  },
  {
   "cell_type": "code",
   "execution_count": null,
   "metadata": {},
   "outputs": [],
   "source": [
    "first_10_tags(\"/homes/lm004/commercials/annotated_commercials/_ob7euNGFxw_trimmed.mp3\", model, tagList, device)"
   ]
  },
  {
   "attachments": {},
   "cell_type": "markdown",
   "metadata": {},
   "source": [
    "#### Get embeddings"
   ]
  },
  {
   "cell_type": "code",
   "execution_count": 5,
   "metadata": {},
   "outputs": [],
   "source": [
    "def get_features(name):\n",
    "    def hook(model, input, output):\n",
    "        features[name] = output.detach() # type: ignore (pylance bug)\n",
    "    return hook"
   ]
  },
  {
   "attachments": {},
   "cell_type": "markdown",
   "metadata": {},
   "source": [
    "##### REGISTER HOOKS"
   ]
  },
  {
   "cell_type": "code",
   "execution_count": 6,
   "metadata": {},
   "outputs": [
    {
     "data": {
      "text/plain": [
       "<torch.utils.hooks.RemovableHandle at 0x7f72fea264d0>"
      ]
     },
     "execution_count": 6,
     "metadata": {},
     "output_type": "execute_result"
    }
   ],
   "source": [
    "model.module.frontend.register_forward_hook(get_features('frontend')) # type: ignore\n",
    "model.module.backend.dense1.register_forward_hook(get_features('backend')) # type: ignore"
   ]
  },
  {
   "cell_type": "markdown",
   "metadata": {},
   "source": [
    "    for audio_fn in glob.glob(\"/homes/lm004/commercials/annotated_commercials/*.mp3\"):\n",
    "        features = {}\n",
    "        \n",
    "        input_length = 5*16000//256 # 5 seconds of audio at 16000 Hz // 256 hop length\n",
    "        whole_spec = compute_melspectrogram(audio_fn)\n",
    "\n",
    "        n_chunks = whole_spec.shape[1] // input_length\n",
    "        spec = np.zeros((n_chunks,whole_spec.shape[0],input_length)) # stack of chunks\n",
    "        for i in range(n_chunks):\n",
    "            spec[i]=whole_spec[:,i*input_length:(i+1)*input_length]\n",
    "\n",
    "        spec = torch.Tensor(spec[:,np.newaxis,:,:]).to(device)\n",
    "        \n",
    "        _ = model(spec)\n",
    "\n",
    "        stimulus_id = audio_fn.split('/')[-1].replace('_trimmed.mp3','')\n",
    "\n",
    "        # NB: not saving for safety, uncomment to save\n",
    "\n",
    "        # np.save(open(f\"embeddings_msd/{stimulus_id}_frontend.npy\", 'wb'), features['frontend'].cpu().numpy())\n",
    "        # np.save(open(f\"embeddings_msd/{stimulus_id}_backend.npy\", 'wb'), features['backend'].cpu().numpy())"
   ]
  },
  {
   "attachments": {},
   "cell_type": "markdown",
   "metadata": {},
   "source": [
    "##### Now for the separated accompaniment (no voices)"
   ]
  },
  {
   "cell_type": "code",
   "execution_count": 7,
   "metadata": {},
   "outputs": [
    {
     "data": {
      "application/vnd.jupyter.widget-view+json": {
       "model_id": "df34a68b3c5b4d2992a7ae9180195755",
       "version_major": 2,
       "version_minor": 0
      },
      "text/plain": [
       "  0%|          | 0/606 [00:00<?, ?it/s]"
      ]
     },
     "metadata": {},
     "output_type": "display_data"
    }
   ],
   "source": [
    "for audio_fn in tqdm(glob.glob(\"/homes/lm004/commercials/annotated_commercials/*.mp3\")):\n",
    "    features = {}\n",
    "    \n",
    "    stimulus_id = audio_fn.split('/')[-1].replace('_trimmed.mp3','')\n",
    "\n",
    "    audio_fn = audio_fn.replace('.mp3','/accompaniment.wav')\n",
    "\n",
    "    input_length = 5*16000//256 # 5 seconds of audio at 16000 Hz // 256 hop length\n",
    "    whole_spec = compute_melspectrogram(audio_fn)\n",
    "\n",
    "    n_chunks = whole_spec.shape[1] // input_length\n",
    "    spec = np.zeros((n_chunks,whole_spec.shape[0],input_length)) # stack of chunks\n",
    "    for i in range(n_chunks):\n",
    "        spec[i]=whole_spec[:,i*input_length:(i+1)*input_length]\n",
    "\n",
    "    spec = torch.Tensor(spec[:,np.newaxis,:,:]).to(device)\n",
    "    \n",
    "    _ = model(spec)\n",
    "\n",
    "    # NB: not saving for safety, uncomment to save\n",
    "\n",
    "    np.save(open(f\"embeddings_msd_novoice/{stimulus_id}_frontend.npy\", 'wb'), features['frontend'].cpu().numpy())\n",
    "    np.save(open(f\"embeddings_msd_novoice/{stimulus_id}_backend.npy\", 'wb'), features['backend'].cpu().numpy())\n",
    "    "
   ]
  },
  {
   "cell_type": "code",
   "execution_count": null,
   "metadata": {},
   "outputs": [],
   "source": []
  }
 ],
 "metadata": {
  "kernelspec": {
   "display_name": "dl4am",
   "language": "python",
   "name": "python3"
  },
  "language_info": {
   "codemirror_mode": {
    "name": "ipython",
    "version": 3
   },
   "file_extension": ".py",
   "mimetype": "text/x-python",
   "name": "python",
   "nbconvert_exporter": "python",
   "pygments_lexer": "ipython3",
   "version": "3.10.9"
  },
  "orig_nbformat": 4,
  "vscode": {
   "interpreter": {
    "hash": "57f670cad65e9728b38f0b6405beb8d829da162e038c1fe2f2c0259b302a3dd4"
   }
  }
 },
 "nbformat": 4,
 "nbformat_minor": 2
}
