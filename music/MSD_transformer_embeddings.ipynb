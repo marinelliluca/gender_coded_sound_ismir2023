{
 "cells": [
  {
   "cell_type": "code",
   "execution_count": 1,
   "metadata": {},
   "outputs": [],
   "source": [
    "import torch\n",
    "import numpy as np\n",
    "import os\n",
    "import sys\n",
    "sys.path.append('..')\n",
    "from utils import compute_melspectrogram, load_parameters, AssembleModel\n",
    "os.environ[\"CUDA_DEVICE_ORDER\"] = \"PCI_BUS_ID\"\n",
    "os.environ[\"CUDA_VISIBLE_DEVICES\"] = \"3\""
   ]
  },
  {
   "cell_type": "code",
   "execution_count": 2,
   "metadata": {},
   "outputs": [],
   "source": [
    "# define model parameters\n",
    "main_dict = {\"frontend_dict\":\n",
    "             {\"list_out_channels\":[128,128,256,256,256,256], \n",
    "              \"list_kernel_sizes\":[(3,3),(3,3),(3,3),(3,3),(3,3),(3,3)],\n",
    "              \"list_pool_sizes\":  [(3,2),(2,2),(2,2),(2,1),(2,1),(2,1)], \n",
    "              \"list_avgpool_flags\":[False,False,False,False,False,True]},\n",
    "             \n",
    "             \"backend_dict\":\n",
    "             {\"n_class\":50,\n",
    "              \"recurrent_units\": None, \n",
    "              \"bidirectional\":False},\n",
    "            }"
   ]
  },
  {
   "cell_type": "code",
   "execution_count": 3,
   "metadata": {},
   "outputs": [],
   "source": [
    "def first_10_tags(filename, model, tagList, device):\n",
    "\n",
    "    input_length = 5*16000//256 # 5 seconds of audio at 16000 Hz // 256 hop length\n",
    "\n",
    "    whole_spec = compute_melspectrogram(filename)\n",
    "\n",
    "    n_chunks = whole_spec.shape[1] // input_length\n",
    "    spec = np.zeros((n_chunks,whole_spec.shape[0],input_length)) # stack of chunks\n",
    "    for i in range(n_chunks):\n",
    "        spec[i]=whole_spec[:,i*input_length:(i+1)*input_length]\n",
    "\n",
    "    spec = torch.Tensor(spec[:,np.newaxis,:,:]).to(device)\n",
    "    \n",
    "    out = model(spec)\n",
    "    \n",
    "    out = out.detach().cpu().numpy()\n",
    "    \n",
    "    y_pred = out.mean(axis=0)\n",
    "    \n",
    "    print(np.array(tagList)[np.argsort(y_pred)[::-1]][:10].tolist())\n",
    "    print(np.sort(y_pred)[::-1][:10].tolist())"
   ]
  },
  {
   "cell_type": "code",
   "execution_count": 4,
   "metadata": {},
   "outputs": [],
   "source": [
    "with open('MSD_50tagList.txt') as f:\n",
    "    tagList = f.readlines()\n",
    "    \n",
    "tagList = [line.replace('\\n','') for line in tagList]"
   ]
  },
  {
   "cell_type": "code",
   "execution_count": 5,
   "metadata": {},
   "outputs": [],
   "source": [
    "model = load_parameters(AssembleModel(main_dict),\"MSD_transformer_autotagger.pth\")"
   ]
  },
  {
   "attachments": {},
   "cell_type": "markdown",
   "metadata": {},
   "source": [
    "#### Setup\n",
    "\n",
    "Set the model to eval mode and move to desired device."
   ]
  },
  {
   "cell_type": "code",
   "execution_count": 6,
   "metadata": {},
   "outputs": [],
   "source": [
    "# Set to GPU or CPU\n",
    "device = \"cuda\"\n",
    "model = model.eval()\n",
    "model = model.to(device)"
   ]
  },
  {
   "attachments": {},
   "cell_type": "markdown",
   "metadata": {},
   "source": [
    "Test"
   ]
  },
  {
   "cell_type": "code",
   "execution_count": 7,
   "metadata": {},
   "outputs": [
    {
     "name": "stdout",
     "output_type": "stream",
     "text": [
      "['rock', 'pop', 'female vocalists', 'alternative', '80s', 'classic rock', '90s', 'punk', 'female vocalist', '70s']\n",
      "[0.45790448784828186, 0.32461264729499817, 0.32165440917015076, 0.08789288997650146, 0.0852094516158104, 0.08267597109079361, 0.07152702659368515, 0.06634392589330673, 0.04985625669360161, 0.04895253852009773]\n"
     ]
    }
   ],
   "source": [
    "first_10_tags(\"/homes/lm004/commercials/annotated_commercials/_ob7euNGFxw_trimmed.mp3\", model, tagList, device)"
   ]
  },
  {
   "attachments": {},
   "cell_type": "markdown",
   "metadata": {},
   "source": [
    "#### Get embeddings"
   ]
  },
  {
   "cell_type": "code",
   "execution_count": null,
   "metadata": {},
   "outputs": [],
   "source": [
    "def get_features(name):\n",
    "    def hook(model, input, output):\n",
    "        features[name] = output.detach() # type: ignore\n",
    "    return hook"
   ]
  },
  {
   "attachments": {},
   "cell_type": "markdown",
   "metadata": {},
   "source": [
    "##### REGISTER HOOK"
   ]
  },
  {
   "cell_type": "code",
   "execution_count": 8,
   "metadata": {},
   "outputs": [
    {
     "data": {
      "text/plain": [
       "<bound method Module.register_forward_hook of BlockChoi(\n",
       "  (conv): Conv2dSame(256, 256, kernel_size=(3, 3), stride=(1, 1))\n",
       "  (bn): BatchNorm2d(256, eps=1e-05, momentum=0.1, affine=True, track_running_stats=True)\n",
       "  (activation): ELU(alpha=1.0)\n",
       "  (pool): AvgPool2d(kernel_size=(2, 1), stride=(2, 1), padding=0)\n",
       "  (dropout): Dropout(p=0.1, inplace=False)\n",
       ")>"
      ]
     },
     "execution_count": 8,
     "metadata": {},
     "output_type": "execute_result"
    }
   ],
   "source": [
    "model.module.frontend.conv_block6.register_forward_hook # type: ignore"
   ]
  },
  {
   "cell_type": "code",
   "execution_count": null,
   "metadata": {},
   "outputs": [],
   "source": []
  }
 ],
 "metadata": {
  "kernelspec": {
   "display_name": "dl4am",
   "language": "python",
   "name": "python3"
  },
  "language_info": {
   "codemirror_mode": {
    "name": "ipython",
    "version": 3
   },
   "file_extension": ".py",
   "mimetype": "text/x-python",
   "name": "python",
   "nbconvert_exporter": "python",
   "pygments_lexer": "ipython3",
   "version": "3.6.6"
  },
  "orig_nbformat": 4,
  "vscode": {
   "interpreter": {
    "hash": "57f670cad65e9728b38f0b6405beb8d829da162e038c1fe2f2c0259b302a3dd4"
   }
  }
 },
 "nbformat": 4,
 "nbformat_minor": 2
}
