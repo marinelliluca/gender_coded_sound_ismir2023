{
 "cells": [
  {
   "cell_type": "code",
   "execution_count": 1,
   "metadata": {},
   "outputs": [],
   "source": [
    "import torch\n",
    "import torch.nn as nn\n",
    "from frontend import Frontend_mine\n",
    "from backend import Backend\n",
    "import warnings\n",
    "import librosa\n",
    "import numpy as np\n",
    "import os\n",
    "os.environ[\"CUDA_DEVICE_ORDER\"] = \"PCI_BUS_ID\"\n",
    "os.environ[\"CUDA_VISIBLE_DEVICES\"] = \"3\""
   ]
  },
  {
   "cell_type": "code",
   "execution_count": 2,
   "metadata": {},
   "outputs": [],
   "source": [
    "# define here all the parameters\n",
    "main_dict = {\"frontend_dict\":\n",
    "             {\"list_out_channels\":[128,128,256,256,256,256], \n",
    "              \"list_kernel_sizes\":[(3,3),(3,3),(3,3),(3,3),(3,3),(3,3)],\n",
    "              \"list_pool_sizes\":  [(3,2),(2,2),(2,2),(2,1),(2,1),(2,1)], \n",
    "              \"list_avgpool_flags\":[False,False,False,False,False,True]},\n",
    "             \n",
    "             \"backend_dict\":\n",
    "             {\"n_class\":50,\n",
    "              \"recurrent_units\": None, \n",
    "              \"bidirectional\":False}, #  pass recurrent_units = None to deactivate\n",
    "            }"
   ]
  },
  {
   "cell_type": "code",
   "execution_count": 3,
   "metadata": {},
   "outputs": [],
   "source": [
    "def compute_melspectrogram(audio_fn):\n",
    "    with warnings.catch_warnings():\n",
    "        warnings.simplefilter(\"ignore\")\n",
    "        x, _ = librosa.core.load(audio_fn, sr=16000, res_type='kaiser_fast')\n",
    "        spec = librosa.core.amplitude_to_db(librosa.feature.melspectrogram(x, \n",
    "                                                                           sr=16000, \n",
    "                                                                           n_fft=512, \n",
    "                                                                           hop_length=256, \n",
    "                                                                           n_mels=96))\n",
    "    return spec\n",
    "\n",
    "def load_parameters(model, filename): \n",
    "    model = torch.nn.DataParallel(model)\n",
    "    S = torch.load(filename)\n",
    "    model.load_state_dict(S)\n",
    "    return model\n",
    "\n",
    "class AssembleModel(nn.Module):\n",
    "    \n",
    "    def __init__(self, main_dict):\n",
    "        super(AssembleModel, self).__init__()\n",
    "        \n",
    "\n",
    "        self.frontend = Frontend_mine(main_dict[\"frontend_dict\"])\n",
    "        self.backend = Backend(main_dict)\n",
    "\n",
    "\n",
    "    def forward(self, spec):\n",
    "        \n",
    "        x = self.backend(self.frontend(spec))\n",
    "        \n",
    "        return x"
   ]
  },
  {
   "cell_type": "code",
   "execution_count": 4,
   "metadata": {},
   "outputs": [],
   "source": [
    "autotagger = load_parameters(AssembleModel(main_dict),\"MSD_transformer_autotagger.pth\")"
   ]
  },
  {
   "cell_type": "code",
   "execution_count": 5,
   "metadata": {},
   "outputs": [],
   "source": [
    "with open('MSD_50tagList.txt') as f:\n",
    "    tagList = f.readlines()\n",
    "    \n",
    "tagList = [line.replace('\\n','') for line in tagList]"
   ]
  },
  {
   "cell_type": "code",
   "execution_count": 6,
   "metadata": {},
   "outputs": [],
   "source": [
    "def first_10_tags(filename):\n",
    "\n",
    "    input_length = 5*16000//256\n",
    "\n",
    "    whole_spec = compute_melspectrogram(filename)\n",
    "\n",
    "    n_chunks = whole_spec.shape[1] // input_length\n",
    "    spec = np.zeros((n_chunks,whole_spec.shape[0],input_length)) # stack of chunks\n",
    "    for i in range(n_chunks):\n",
    "        spec[i]=whole_spec[:,i*input_length:(i+1)*input_length]\n",
    "\n",
    "    spec = spec[:,np.newaxis,:,:]\n",
    "    \n",
    "    out = autotagger(torch.Tensor(spec))\n",
    "    \n",
    "    out = out.detach().cpu().numpy()\n",
    "    \n",
    "    y_pred = out.mean(axis=0)\n",
    "    \n",
    "    print(np.array(tagList)[np.argsort(y_pred)[::-1]][:10].tolist())\n",
    "    print(np.sort(y_pred)[::-1][:10].tolist())"
   ]
  },
  {
   "cell_type": "code",
   "execution_count": 11,
   "metadata": {},
   "outputs": [
    {
     "name": "stdout",
     "output_type": "stream",
     "text": [
      "['rock', 'female vocalists', 'pop', 'indie', 'alternative', 'indie rock', 'alternative rock', 'punk', 'classic rock', 'indie pop']\n",
      "[0.41414475440979004, 0.21096672117710114, 0.19580526649951935, 0.17829637229442596, 0.14380823075771332, 0.06705977767705917, 0.052302002906799316, 0.04887886345386505, 0.046104371547698975, 0.04410814121365547]\n"
     ]
    }
   ],
   "source": [
    "first_10_tags(\"/homes/lm004/commercials/annotated_commercials/_ob7euNGFxw_trimmed.mp3\")"
   ]
  },
  {
   "cell_type": "code",
   "execution_count": null,
   "metadata": {},
   "outputs": [],
   "source": []
  }
 ],
 "metadata": {
  "kernelspec": {
   "display_name": "dl4am",
   "language": "python",
   "name": "python3"
  },
  "language_info": {
   "codemirror_mode": {
    "name": "ipython",
    "version": 3
   },
   "file_extension": ".py",
   "mimetype": "text/x-python",
   "name": "python",
   "nbconvert_exporter": "python",
   "pygments_lexer": "ipython3",
   "version": "3.6.6"
  },
  "orig_nbformat": 4,
  "vscode": {
   "interpreter": {
    "hash": "57f670cad65e9728b38f0b6405beb8d829da162e038c1fe2f2c0259b302a3dd4"
   }
  }
 },
 "nbformat": 4,
 "nbformat_minor": 2
}
