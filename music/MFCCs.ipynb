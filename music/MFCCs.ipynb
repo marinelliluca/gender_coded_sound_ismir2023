{
 "cells": [
  {
   "cell_type": "code",
   "execution_count": null,
   "metadata": {},
   "outputs": [],
   "source": [
    "import numpy as np\n",
    "import os\n",
    "import glob\n",
    "import librosa\n",
    "from tqdm.notebook import tqdm"
   ]
  },
  {
   "cell_type": "markdown",
   "metadata": {},
   "source": [
    "    for audio_fn in tqdm(glob.glob(\"/import/c4dm-datasets-ext/toy_commercials/annotated_commercials/*.mp3\")):\n",
    "        y, sr = librosa.core.load(audio_fn, sr=16000, res_type='kaiser_fast')\n",
    "        mfcc = librosa.feature.mfcc(y=y, sr=sr)\n",
    "        mfcc_delta = librosa.feature.delta(mfcc)\n",
    "        mfcc_delta2 = librosa.feature.delta(mfcc, order=2)\n",
    "\n",
    "        stimulus_id = audio_fn.split('/')[-1].replace('_trimmed.mp3','')\n",
    "        \n",
    "        np.save(open(f\"embeddings_mfcc/{stimulus_id}.npy\", 'wb'), \n",
    "                np.vstack([mfcc, mfcc_delta, mfcc_delta2]).T)"
   ]
  },
  {
   "cell_type": "code",
   "execution_count": null,
   "metadata": {},
   "outputs": [],
   "source": [
    "for audio_fn in tqdm(glob.glob(\"/import/c4dm-datasets-ext/toy_commercials/annotated_commercials/*.mp3\")):\n",
    "\n",
    "    stimulus_id = audio_fn.split('/')[-1].replace('_trimmed.mp3','')\n",
    "\n",
    "    audio_fn = audio_fn.replace('.mp3','/accompaniment.wav')\n",
    "\n",
    "    y, sr = librosa.core.load(audio_fn, sr=16000, res_type='kaiser_fast')\n",
    "\n",
    "    mfcc = librosa.feature.mfcc(y=y, sr=sr)\n",
    "    mfcc_delta = librosa.feature.delta(mfcc)\n",
    "    mfcc_delta2 = librosa.feature.delta(mfcc, order=2)\n",
    "\n",
    "    np.save(open(f\"embeddings_mfcc_novoice/{stimulus_id}.npy\", 'wb'), \n",
    "            np.vstack([mfcc, mfcc_delta, mfcc_delta2]).T)"
   ]
  }
 ],
 "metadata": {
  "kernelspec": {
   "display_name": "embeddings_pipeline_dev",
   "language": "python",
   "name": "python3"
  },
  "language_info": {
   "codemirror_mode": {
    "name": "ipython",
    "version": 3
   },
   "file_extension": ".py",
   "mimetype": "text/x-python",
   "name": "python",
   "nbconvert_exporter": "python",
   "pygments_lexer": "ipython3",
   "version": "3.10.9"
  },
  "orig_nbformat": 4
 },
 "nbformat": 4,
 "nbformat_minor": 2
}
