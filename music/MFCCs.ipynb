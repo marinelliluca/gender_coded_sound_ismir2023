{
 "cells": [
  {
   "cell_type": "code",
   "execution_count": null,
   "metadata": {},
   "outputs": [],
   "source": [
    "import numpy as np\n",
    "import os\n",
    "import glob\n",
    "import librosa"
   ]
  },
  {
   "cell_type": "code",
   "execution_count": null,
   "metadata": {},
   "outputs": [],
   "source": [
    "for audio_fn in glob.glob(\"/homes/lm004/commercials/annotated_commercials/*.mp3\"):\n",
    "    y, sr = librosa.core.load(audio_fn, sr=16000, res_type='kaiser_fast')\n",
    "    mfcc = librosa.feature.mfcc(y=y, sr=sr)\n",
    "    mfcc_delta = librosa.feature.delta(mfcc)\n",
    "    mfcc_delta2 = librosa.feature.delta(mfcc, order=2)\n",
    "\n",
    "    stimulus_id = audio_fn.split('/')[-1].replace('_trimmed.mp3','')\n",
    "\n",
    "    # Save the MFCCs\n",
    "\n",
    "    # NB: not saving for safety, uncomment to save\n",
    "\n",
    "    # np.save(open(f\"embeddings_MFCCs/{stimulus_id}_mfcc.npy\", 'wb'), mfcc)\n",
    "    # np.save(open(f\"embeddings_MFCCs/{stimulus_id}_mfcc_delta.npy\", 'wb'), mfcc_delta)\n",
    "    # np.save(open(f\"embeddings_MFCCs/{stimulus_id}_mfcc_delta2.npy\", 'wb'), mfcc_delta2)"
   ]
  },
  {
   "cell_type": "code",
   "execution_count": null,
   "metadata": {},
   "outputs": [],
   "source": []
  }
 ],
 "metadata": {
  "kernelspec": {
   "display_name": "embeddings_pipeline_dev",
   "language": "python",
   "name": "python3"
  },
  "language_info": {
   "codemirror_mode": {
    "name": "ipython",
    "version": 3
   },
   "file_extension": ".py",
   "mimetype": "text/x-python",
   "name": "python",
   "nbconvert_exporter": "python",
   "pygments_lexer": "ipython3",
   "version": "3.6.6"
  },
  "orig_nbformat": 4
 },
 "nbformat": 4,
 "nbformat_minor": 2
}
