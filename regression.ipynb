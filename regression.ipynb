{
 "cells": [
  {
   "cell_type": "code",
   "execution_count": null,
   "metadata": {},
   "outputs": [],
   "source": [
    "%matplotlib inline\n",
    "import os\n",
    "import numpy as np\n",
    "import pandas as pd\n",
    "import matplotlib.pyplot as plt\n",
    "\n",
    "import torch\n",
    "from pytorch_lightning import Trainer\n",
    "from torch.utils.data import DataLoader, TensorDataset\n",
    "from utils import EmbeddingsDatasetReg, MultipleRegression\n",
    "\n",
    "from sklearn.model_selection import KFold"
   ]
  },
  {
   "cell_type": "code",
   "execution_count": null,
   "metadata": {},
   "outputs": [],
   "source": [
    "n_classes = 2\n",
    "modality = 'music' # 'music', 'speech', or 'video'\n",
    "which = 'openl3' # 'mfcc', 'msd' or 'openl3' for music, 'slow_fast' for video, 'hubert' for speech\n",
    "voice = True \n",
    "\n",
    "fn_suffix = {\n",
    "    'music': {\n",
    "        'mfcc': '',\n",
    "        'msd': '_backend', \n",
    "        'openl3': '_music', # '_music' or '_env'\n",
    "    },\n",
    "    'video': {\n",
    "        'slow_fast': '_slow', # '_slow' or '_fast'\n",
    "    },\n",
    "    'speech': {\n",
    "        'hubert': '_wave_encoder', # '_wave_encoder' or '_transformer'\n",
    "    }\n",
    "}\n",
    "\n",
    "embedding_dimensions = {\n",
    "    'video': {\n",
    "        'slow_fast': 2048 if fn_suffix['video']['slow_fast']=='_slow' else 256,\n",
    "    },\n",
    "    'music': {\n",
    "        'mfcc': 60,\n",
    "        'msd': 256,\n",
    "        'openl3': 512,\n",
    "    },\n",
    "    'speech': {\n",
    "        'hubert': 1024 if fn_suffix['speech']['hubert']=='_transformer' else 512,\n",
    "    }\n",
    "}"
   ]
  },
  {
   "cell_type": "markdown",
   "metadata": {},
   "source": [
    "## Load ground truth"
   ]
  },
  {
   "cell_type": "code",
   "execution_count": null,
   "metadata": {},
   "outputs": [],
   "source": [
    "groundtruth_df = pd.read_csv(\"groundtruth_merged.csv\")\n",
    "groundtruth_df.set_index(\"stimulus_id\", inplace=True)\n",
    "groundtruth_df.head()"
   ]
  },
  {
   "cell_type": "code",
   "execution_count": null,
   "metadata": {},
   "outputs": [],
   "source": [
    "not_found = 0\n",
    "for stimulus_id in groundtruth_df.index:\n",
    "    if os.path.exists(f\"{modality}/embeddings_{which}/{stimulus_id}{fn_suffix[modality][which]}.npy\"):\n",
    "        continue\n",
    "    else:\n",
    "        print(f\"Embedding for {stimulus_id} not found\")\n",
    "        not_found += 1\n",
    "\n",
    "assert not_found == 0"
   ]
  },
  {
   "cell_type": "code",
   "execution_count": null,
   "metadata": {},
   "outputs": [],
   "source": [
    "mid_level_features = pd.read_csv(\"mid_level_features.csv\")\n",
    "mid_level_features.set_index(\"stimulus_id\", inplace=True)\n",
    "mid_level_features.head()"
   ]
  },
  {
   "cell_type": "markdown",
   "metadata": {},
   "source": [
    "## Load embeddings"
   ]
  },
  {
   "cell_type": "code",
   "execution_count": null,
   "metadata": {},
   "outputs": [],
   "source": [
    "embedding_dim = embedding_dimensions[modality][which]\n",
    "\n",
    "all_embeddings = np.empty((groundtruth_df.shape[0], embedding_dim))\n",
    "\n",
    "for i,stimulus_id in enumerate(groundtruth_df.index):\n",
    "    embedding = np.load(f\"{modality}/embeddings_{which}{'' if voice else '_novoice'}/\" +\n",
    "                        f\"{stimulus_id}{fn_suffix[modality][which]}.npy\")\n",
    "    all_embeddings[i] = embedding.mean(axis=0)\n",
    "\n",
    "all_embeddings.shape"
   ]
  },
  {
   "cell_type": "code",
   "execution_count": null,
   "metadata": {},
   "outputs": [],
   "source": [
    "classes = [\"Girls/women\", \"Boys/men\"] if n_classes==2 else [\"Girls/women\", \"Mixed\", \"Boys/men\"]\n",
    "mask = groundtruth_df.target.isin(classes) \n",
    "\n",
    "X = all_embeddings[mask]\n",
    "y = groundtruth_df.target[mask].values\n",
    "\n",
    "# convert to integers\n",
    "le = LabelEncoder()\n",
    "y = le.fit_transform(y)"
   ]
  },
  {
   "cell_type": "code",
   "execution_count": null,
   "metadata": {},
   "outputs": [],
   "source": [
    "# k-fold cross-validation with xgboost\n",
    "kf = KFold(n_splits=5, shuffle=True, random_state=42)\n",
    "\n",
    "accuracies = []\n",
    "f1s = []\n",
    "for train_index, test_index in kf.split(X):\n",
    "    X_train, X_test = X[train_index], X[test_index]\n",
    "    y_train, y_test = y[train_index], y[test_index]\n",
    "    \n",
    "    dtrain = xgb.DMatrix(X_train, label=y_train)\n",
    "    dtest = xgb.DMatrix(X_test, label=y_test)\n",
    "    \n",
    "    param = {'max_depth': 3, 'eta': 0.3, 'objective': 'reg:squarederror'}\n",
    "    num_round = 30\n",
    "    bst = xgb.train(param, dtrain, num_round)\n",
    "    \n",
    "    y_pred = bst.predict(dtest)\n",
    "\n",
    "    # print classification report\n",
    "    # print(classification_report(y_test, y_pred, target_names=classes))\n",
    "\n"
   ]
  },
  {
   "cell_type": "code",
   "execution_count": null,
   "metadata": {},
   "outputs": [],
   "source": [
    "# print results\n",
    "print(f\"Accuracy: {np.mean(accuracies):.2f} ± {np.std(accuracies):.2f}\")\n",
    "print(f\"F1: {np.mean(f1s):.2f} ± {np.std(f1s):.2f}\")"
   ]
  },
  {
   "cell_type": "code",
   "execution_count": null,
   "metadata": {},
   "outputs": [],
   "source": [
    "# k-fold cross-validation with SVM\n",
    "from sklearn.svm import SVC\n",
    "\n",
    "accuracies = []\n",
    "f1s = []\n",
    "for train_index, test_index in kf.split(X):\n",
    "    X_train, X_test = X[train_index], X[test_index]\n",
    "    y_train, y_test = y[train_index], y[test_index]\n",
    "    \n",
    "    clf = SVC(gamma='auto')\n",
    "    clf.fit(X_train, y_train)\n",
    "    \n",
    "    y_pred = clf.predict(X_test)\n",
    "    \n",
    "    accuracies.append(accuracy_score(y_test, y_pred))\n",
    "    f1s.append(f1_score(y_test, y_pred, average='weighted'))\n",
    "\n",
    "    # print classification report\n",
    "    # print(classification_report(y_test, y_pred, target_names=classes))\n",
    "\n",
    "# print results\n",
    "print(f\"Accuracy: {np.mean(accuracies):.2f} ± {np.std(accuracies):.2f}\")\n",
    "print(f\"F1: {np.mean(f1s):.2f} ± {np.std(f1s):.2f}\")\n"
   ]
  },
  {
   "cell_type": "code",
   "execution_count": null,
   "metadata": {},
   "outputs": [],
   "source": [
    "# k-fold cross-validation with pytorch-lightning softmax classifier\n",
    "accuracies = []\n",
    "f1s = []\n",
    "for train_index, test_index in kf.split(X):\n",
    "    X_train, X_test = X[train_index], X[test_index]\n",
    "    y_train, y_test = y[train_index], y[test_index]\n",
    "    \n",
    "    train_dataset = TensorDataset(torch.from_numpy(X_train), torch.from_numpy(y_train))\n",
    "    test_dataset = TensorDataset(torch.from_numpy(X_test), torch.from_numpy(y_test))\n",
    "    \n",
    "    train_loader = DataLoader(train_dataset, batch_size=8, shuffle=True)\n",
    "    test_loader = DataLoader(test_dataset, batch_size=8, shuffle=False)\n",
    "    \n",
    "    model = MultipleRegression(input_dim=X_train.shape[1], n_regressions=y_train.shape[1])\n",
    "    \n",
    "    trainer = pl.Trainer(max_epochs=30)\n",
    "    trainer.fit(model, train_loader)\n",
    "    \n",
    "    y_pred = model(torch.from_numpy(X_test).float()).detach().numpy()\n",
    "    \n",
    "    r2_values = r2_score(y_test, y_pred, multioutput='raw_values')\n",
    "    print(f'R-squared values for each target: {r2_values}')\n",
    "\n",
    "    # print classification report\n",
    "    # print(classification_report(y_test, y_pred, target_names=classes))\n"
   ]
  },
  {
   "cell_type": "code",
   "execution_count": null,
   "metadata": {},
   "outputs": [],
   "source": [
    "# print results\n",
    "print(f\"Accuracy: {np.mean(accuracies):.2f} ± {np.std(accuracies):.2f}\")\n",
    "print(f\"F1: {np.mean(f1s):.2f} ± {np.std(f1s):.2f}\")"
   ]
  },
  {
   "cell_type": "code",
   "execution_count": null,
   "metadata": {},
   "outputs": [],
   "source": []
  }
 ],
 "metadata": {
  "kernelspec": {
   "display_name": "embeddings_pipeline_dev",
   "language": "python",
   "name": "python3"
  },
  "language_info": {
   "codemirror_mode": {
    "name": "ipython",
    "version": 3
   },
   "file_extension": ".py",
   "mimetype": "text/x-python",
   "name": "python",
   "nbconvert_exporter": "python",
   "pygments_lexer": "ipython3",
   "version": "3.10.9"
  },
  "orig_nbformat": 4
 },
 "nbformat": 4,
 "nbformat_minor": 2
}
