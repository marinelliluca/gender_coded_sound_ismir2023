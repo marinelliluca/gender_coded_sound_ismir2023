{
 "cells": [
  {
   "cell_type": "code",
   "execution_count": 1,
   "metadata": {},
   "outputs": [],
   "source": [
    "%matplotlib inline\n",
    "import os\n",
    "import numpy as np\n",
    "import pandas as pd\n",
    "import matplotlib.pyplot as plt\n",
    "\n",
    "import torch\n",
    "from pytorch_lightning import Trainer\n",
    "from pytorch_lightning.callbacks import ModelCheckpoint, EarlyStopping\n",
    "from torch.utils.data import DataLoader, TensorDataset\n",
    "from utils import MultipleRegression, load_parameters\n",
    "\n",
    "from sklearn.model_selection import KFold, train_test_split\n",
    "from sklearn.metrics import r2_score"
   ]
  },
  {
   "cell_type": "code",
   "execution_count": 2,
   "metadata": {},
   "outputs": [],
   "source": [
    "modality = 'music' # 'music', 'speech', or 'video'\n",
    "which = 'openl3' # 'mfcc', 'msd' or 'openl3' for music, 'slow_fast' for video, 'hubert' for speech\n",
    "voice = True \n",
    "\n",
    "fn_suffix = {\n",
    "    'music': {\n",
    "        'mfcc': '',\n",
    "        'msd': '_backend', \n",
    "        'openl3': '_music', # '_music' or '_env'\n",
    "    },\n",
    "    'video': {\n",
    "        'slow_fast': '_slow', # '_slow' or '_fast'\n",
    "    },\n",
    "    'speech': {\n",
    "        'hubert': '_wave_encoder', # '_wave_encoder' or '_transformer'\n",
    "    }\n",
    "}\n",
    "\n",
    "embedding_dimensions = {\n",
    "    'video': {\n",
    "        'slow_fast': 2048 if fn_suffix['video']['slow_fast']=='_slow' else 256,\n",
    "    },\n",
    "    'music': {\n",
    "        'mfcc': 60,\n",
    "        'msd': 256,\n",
    "        'openl3': 512,\n",
    "    },\n",
    "    'speech': {\n",
    "        'hubert': 1024 if fn_suffix['speech']['hubert']=='_transformer' else 512,\n",
    "    }\n",
    "}"
   ]
  },
  {
   "cell_type": "markdown",
   "metadata": {},
   "source": [
    "## Load ground truth"
   ]
  },
  {
   "cell_type": "code",
   "execution_count": 3,
   "metadata": {},
   "outputs": [
    {
     "data": {
      "text/html": [
       "<div>\n",
       "<style scoped>\n",
       "    .dataframe tbody tr th:only-of-type {\n",
       "        vertical-align: middle;\n",
       "    }\n",
       "\n",
       "    .dataframe tbody tr th {\n",
       "        vertical-align: top;\n",
       "    }\n",
       "\n",
       "    .dataframe thead th {\n",
       "        text-align: right;\n",
       "    }\n",
       "</style>\n",
       "<table border=\"1\" class=\"dataframe\">\n",
       "  <thead>\n",
       "    <tr style=\"text-align: right;\">\n",
       "      <th></th>\n",
       "      <th>product_category</th>\n",
       "      <th>filming_location</th>\n",
       "      <th>target</th>\n",
       "      <th>interaction</th>\n",
       "      <th>voice_type</th>\n",
       "      <th>voice_age</th>\n",
       "      <th>voice_gender</th>\n",
       "      <th>voice_exagg</th>\n",
       "      <th>asian</th>\n",
       "      <th>black</th>\n",
       "      <th>...</th>\n",
       "      <th>description</th>\n",
       "      <th>upload_date</th>\n",
       "      <th>duration</th>\n",
       "      <th>view_count</th>\n",
       "      <th>categories</th>\n",
       "      <th>tags</th>\n",
       "      <th>like_count</th>\n",
       "      <th>requested_subtitles</th>\n",
       "      <th>download</th>\n",
       "      <th>error_logs</th>\n",
       "    </tr>\n",
       "    <tr>\n",
       "      <th>stimulus_id</th>\n",
       "      <th></th>\n",
       "      <th></th>\n",
       "      <th></th>\n",
       "      <th></th>\n",
       "      <th></th>\n",
       "      <th></th>\n",
       "      <th></th>\n",
       "      <th></th>\n",
       "      <th></th>\n",
       "      <th></th>\n",
       "      <th></th>\n",
       "      <th></th>\n",
       "      <th></th>\n",
       "      <th></th>\n",
       "      <th></th>\n",
       "      <th></th>\n",
       "      <th></th>\n",
       "      <th></th>\n",
       "      <th></th>\n",
       "      <th></th>\n",
       "      <th></th>\n",
       "    </tr>\n",
       "  </thead>\n",
       "  <tbody>\n",
       "    <tr>\n",
       "      <th>ndzo2ZIWfiQ</th>\n",
       "      <td>High-tech Interactive Playmates and Robotics</td>\n",
       "      <td>Non-specific</td>\n",
       "      <td>Girls/women</td>\n",
       "      <td>They do not interact with each other or there ...</td>\n",
       "      <td>BOTH spoken and sung</td>\n",
       "      <td>Adults (including young adults)</td>\n",
       "      <td>Feminine</td>\n",
       "      <td>No, all voices are normal-sounding</td>\n",
       "      <td>No</td>\n",
       "      <td>No</td>\n",
       "      <td>...</td>\n",
       "      <td>NaN</td>\n",
       "      <td>20120907</td>\n",
       "      <td>20</td>\n",
       "      <td>3047</td>\n",
       "      <td>['Autos &amp; Vehicles']</td>\n",
       "      <td>['122975']</td>\n",
       "      <td>5</td>\n",
       "      <td>{'en': {'ext': 'vtt', 'url': 'https://www.yout...</td>\n",
       "      <td>True</td>\n",
       "      <td>NaN</td>\n",
       "    </tr>\n",
       "    <tr>\n",
       "      <th>yRUiwRKk6QM</th>\n",
       "      <td>High-tech Interactive Playmates and Robotics</td>\n",
       "      <td>Indoors</td>\n",
       "      <td>Mixed</td>\n",
       "      <td>They do not interact with each other or there ...</td>\n",
       "      <td>Spoken</td>\n",
       "      <td>Adults (including young adults)</td>\n",
       "      <td>Masculine</td>\n",
       "      <td>Yes a masculine voice is gender exaggerated</td>\n",
       "      <td>No</td>\n",
       "      <td>Yes</td>\n",
       "      <td>...</td>\n",
       "      <td>Now you can train like a Jedi! Use the power o...</td>\n",
       "      <td>20170920</td>\n",
       "      <td>34</td>\n",
       "      <td>25861</td>\n",
       "      <td>['Entertainment']</td>\n",
       "      <td>['Smyths Toys', 'Toys', '(Industry)kids', 'Sta...</td>\n",
       "      <td>46</td>\n",
       "      <td>NaN</td>\n",
       "      <td>True</td>\n",
       "      <td>NaN</td>\n",
       "    </tr>\n",
       "    <tr>\n",
       "      <th>3ysC1-foJT4</th>\n",
       "      <td>Apparel, Fashion, Accessories, Cosmetics, Cost...</td>\n",
       "      <td>Indoors</td>\n",
       "      <td>Girls/women</td>\n",
       "      <td>They are working or playing together in a coop...</td>\n",
       "      <td>Sung</td>\n",
       "      <td>Adults (including young adults)</td>\n",
       "      <td>Feminine</td>\n",
       "      <td>Yes a feminine voice is gender exaggerated</td>\n",
       "      <td>No</td>\n",
       "      <td>No</td>\n",
       "      <td>...</td>\n",
       "      <td>Just add water to make endless crystal creatio...</td>\n",
       "      <td>20180802</td>\n",
       "      <td>30</td>\n",
       "      <td>2545</td>\n",
       "      <td>['Entertainment']</td>\n",
       "      <td>['Smyths Toys', 'Toys (Industry)', 'kids', 'sm...</td>\n",
       "      <td>19</td>\n",
       "      <td>NaN</td>\n",
       "      <td>True</td>\n",
       "      <td>NaN</td>\n",
       "    </tr>\n",
       "    <tr>\n",
       "      <th>cYszuGaptkk</th>\n",
       "      <td>Action Figures, Battling Toys and Toy Weapons</td>\n",
       "      <td>Non-specific</td>\n",
       "      <td>Mixed</td>\n",
       "      <td>They are working or playing together in a coop...</td>\n",
       "      <td>Spoken</td>\n",
       "      <td>Adults (including young adults)</td>\n",
       "      <td>Feminine</td>\n",
       "      <td>No, all voices are normal-sounding</td>\n",
       "      <td>No</td>\n",
       "      <td>Yes</td>\n",
       "      <td>...</td>\n",
       "      <td>Create your own exciting dino rescue missions ...</td>\n",
       "      <td>20201028</td>\n",
       "      <td>21</td>\n",
       "      <td>2035695</td>\n",
       "      <td>['Entertainment']</td>\n",
       "      <td>['Smyths Toys', 'Toys (Industry)', 'kids', 'sm...</td>\n",
       "      <td>51</td>\n",
       "      <td>{'en': {'ext': 'vtt', 'url': 'https://www.yout...</td>\n",
       "      <td>True</td>\n",
       "      <td>NaN</td>\n",
       "    </tr>\n",
       "    <tr>\n",
       "      <th>2LZjLBipdfI</th>\n",
       "      <td>Dolls</td>\n",
       "      <td>Indoors</td>\n",
       "      <td>Girls/women</td>\n",
       "      <td>They do not interact with each other or there ...</td>\n",
       "      <td>BOTH spoken and sung</td>\n",
       "      <td>Adults (including young adults)</td>\n",
       "      <td>Feminine</td>\n",
       "      <td>Yes a feminine voice is gender exaggerated</td>\n",
       "      <td>No</td>\n",
       "      <td>No</td>\n",
       "      <td>...</td>\n",
       "      <td>Fabio &amp; Fabia's Hair salon is the most loved p...</td>\n",
       "      <td>20201106</td>\n",
       "      <td>15</td>\n",
       "      <td>1834</td>\n",
       "      <td>['Entertainment']</td>\n",
       "      <td>['Smyths Toys', 'Toys (Industry)', 'kids', 'sm...</td>\n",
       "      <td>10</td>\n",
       "      <td>NaN</td>\n",
       "      <td>True</td>\n",
       "      <td>NaN</td>\n",
       "    </tr>\n",
       "  </tbody>\n",
       "</table>\n",
       "<p>5 rows × 23 columns</p>\n",
       "</div>"
      ],
      "text/plain": [
       "                                              product_category  \\\n",
       "stimulus_id                                                      \n",
       "ndzo2ZIWfiQ       High-tech Interactive Playmates and Robotics   \n",
       "yRUiwRKk6QM       High-tech Interactive Playmates and Robotics   \n",
       "3ysC1-foJT4  Apparel, Fashion, Accessories, Cosmetics, Cost...   \n",
       "cYszuGaptkk      Action Figures, Battling Toys and Toy Weapons   \n",
       "2LZjLBipdfI                                              Dolls   \n",
       "\n",
       "            filming_location       target  \\\n",
       "stimulus_id                                 \n",
       "ndzo2ZIWfiQ     Non-specific  Girls/women   \n",
       "yRUiwRKk6QM          Indoors        Mixed   \n",
       "3ysC1-foJT4          Indoors  Girls/women   \n",
       "cYszuGaptkk     Non-specific        Mixed   \n",
       "2LZjLBipdfI          Indoors  Girls/women   \n",
       "\n",
       "                                                   interaction  \\\n",
       "stimulus_id                                                      \n",
       "ndzo2ZIWfiQ  They do not interact with each other or there ...   \n",
       "yRUiwRKk6QM  They do not interact with each other or there ...   \n",
       "3ysC1-foJT4  They are working or playing together in a coop...   \n",
       "cYszuGaptkk  They are working or playing together in a coop...   \n",
       "2LZjLBipdfI  They do not interact with each other or there ...   \n",
       "\n",
       "                       voice_type                        voice_age  \\\n",
       "stimulus_id                                                          \n",
       "ndzo2ZIWfiQ  BOTH spoken and sung  Adults (including young adults)   \n",
       "yRUiwRKk6QM                Spoken  Adults (including young adults)   \n",
       "3ysC1-foJT4                  Sung  Adults (including young adults)   \n",
       "cYszuGaptkk                Spoken  Adults (including young adults)   \n",
       "2LZjLBipdfI  BOTH spoken and sung  Adults (including young adults)   \n",
       "\n",
       "            voice_gender                                  voice_exagg asian  \\\n",
       "stimulus_id                                                                   \n",
       "ndzo2ZIWfiQ     Feminine           No, all voices are normal-sounding    No   \n",
       "yRUiwRKk6QM    Masculine  Yes a masculine voice is gender exaggerated    No   \n",
       "3ysC1-foJT4     Feminine   Yes a feminine voice is gender exaggerated    No   \n",
       "cYszuGaptkk     Feminine           No, all voices are normal-sounding    No   \n",
       "2LZjLBipdfI     Feminine   Yes a feminine voice is gender exaggerated    No   \n",
       "\n",
       "            black  ...                                        description  \\\n",
       "stimulus_id        ...                                                      \n",
       "ndzo2ZIWfiQ    No  ...                                                NaN   \n",
       "yRUiwRKk6QM   Yes  ...  Now you can train like a Jedi! Use the power o...   \n",
       "3ysC1-foJT4    No  ...  Just add water to make endless crystal creatio...   \n",
       "cYszuGaptkk   Yes  ...  Create your own exciting dino rescue missions ...   \n",
       "2LZjLBipdfI    No  ...  Fabio & Fabia's Hair salon is the most loved p...   \n",
       "\n",
       "            upload_date duration view_count            categories  \\\n",
       "stimulus_id                                                         \n",
       "ndzo2ZIWfiQ    20120907       20       3047  ['Autos & Vehicles']   \n",
       "yRUiwRKk6QM    20170920       34      25861     ['Entertainment']   \n",
       "3ysC1-foJT4    20180802       30       2545     ['Entertainment']   \n",
       "cYszuGaptkk    20201028       21    2035695     ['Entertainment']   \n",
       "2LZjLBipdfI    20201106       15       1834     ['Entertainment']   \n",
       "\n",
       "                                                          tags  like_count  \\\n",
       "stimulus_id                                                                  \n",
       "ndzo2ZIWfiQ                                         ['122975']           5   \n",
       "yRUiwRKk6QM  ['Smyths Toys', 'Toys', '(Industry)kids', 'Sta...          46   \n",
       "3ysC1-foJT4  ['Smyths Toys', 'Toys (Industry)', 'kids', 'sm...          19   \n",
       "cYszuGaptkk  ['Smyths Toys', 'Toys (Industry)', 'kids', 'sm...          51   \n",
       "2LZjLBipdfI  ['Smyths Toys', 'Toys (Industry)', 'kids', 'sm...          10   \n",
       "\n",
       "                                           requested_subtitles download  \\\n",
       "stimulus_id                                                               \n",
       "ndzo2ZIWfiQ  {'en': {'ext': 'vtt', 'url': 'https://www.yout...     True   \n",
       "yRUiwRKk6QM                                                NaN     True   \n",
       "3ysC1-foJT4                                                NaN     True   \n",
       "cYszuGaptkk  {'en': {'ext': 'vtt', 'url': 'https://www.yout...     True   \n",
       "2LZjLBipdfI                                                NaN     True   \n",
       "\n",
       "             error_logs  \n",
       "stimulus_id              \n",
       "ndzo2ZIWfiQ         NaN  \n",
       "yRUiwRKk6QM         NaN  \n",
       "3ysC1-foJT4         NaN  \n",
       "cYszuGaptkk         NaN  \n",
       "2LZjLBipdfI         NaN  \n",
       "\n",
       "[5 rows x 23 columns]"
      ]
     },
     "execution_count": 3,
     "metadata": {},
     "output_type": "execute_result"
    }
   ],
   "source": [
    "groundtruth_df = pd.read_csv(\"groundtruth_merged.csv\")\n",
    "groundtruth_df.set_index(\"stimulus_id\", inplace=True)\n",
    "groundtruth_df.head()"
   ]
  },
  {
   "cell_type": "code",
   "execution_count": 4,
   "metadata": {},
   "outputs": [
    {
     "data": {
      "text/html": [
       "<div>\n",
       "<style scoped>\n",
       "    .dataframe tbody tr th:only-of-type {\n",
       "        vertical-align: middle;\n",
       "    }\n",
       "\n",
       "    .dataframe tbody tr th {\n",
       "        vertical-align: top;\n",
       "    }\n",
       "\n",
       "    .dataframe thead th {\n",
       "        text-align: right;\n",
       "    }\n",
       "</style>\n",
       "<table border=\"1\" class=\"dataframe\">\n",
       "  <thead>\n",
       "    <tr style=\"text-align: right;\">\n",
       "      <th></th>\n",
       "      <th>Electric/Acoustic</th>\n",
       "      <th>Distorted/Clear</th>\n",
       "      <th>Many Instruments/Few Instruments</th>\n",
       "      <th>Loud/Soft</th>\n",
       "      <th>Heavy/Light</th>\n",
       "      <th>High pitch/Low pitch</th>\n",
       "      <th>Wide pitch variation/Narrow pitch variation</th>\n",
       "      <th>Punchy/Smooth</th>\n",
       "      <th>Harmonious/Disharmonious</th>\n",
       "      <th>Clear melody/No melody</th>\n",
       "      <th>Repetitive/Non-repetitive</th>\n",
       "      <th>Complex rhythm/Simple rhythm</th>\n",
       "      <th>Fast tempo/Slow tempo</th>\n",
       "      <th>Dense/Sparse</th>\n",
       "      <th>Strong beat/Weak beat</th>\n",
       "    </tr>\n",
       "    <tr>\n",
       "      <th>stimulus_id</th>\n",
       "      <th></th>\n",
       "      <th></th>\n",
       "      <th></th>\n",
       "      <th></th>\n",
       "      <th></th>\n",
       "      <th></th>\n",
       "      <th></th>\n",
       "      <th></th>\n",
       "      <th></th>\n",
       "      <th></th>\n",
       "      <th></th>\n",
       "      <th></th>\n",
       "      <th></th>\n",
       "      <th></th>\n",
       "      <th></th>\n",
       "    </tr>\n",
       "  </thead>\n",
       "  <tbody>\n",
       "    <tr>\n",
       "      <th>-BaTPbE0Gdo</th>\n",
       "      <td>3.666667</td>\n",
       "      <td>6.500000</td>\n",
       "      <td>4.333333</td>\n",
       "      <td>5.833333</td>\n",
       "      <td>6.666667</td>\n",
       "      <td>2.666667</td>\n",
       "      <td>4.666667</td>\n",
       "      <td>6.000000</td>\n",
       "      <td>1.500000</td>\n",
       "      <td>2.166667</td>\n",
       "      <td>4.333333</td>\n",
       "      <td>5.666667</td>\n",
       "      <td>3.500000</td>\n",
       "      <td>4.166667</td>\n",
       "      <td>4.166667</td>\n",
       "    </tr>\n",
       "    <tr>\n",
       "      <th>-KKsNKY4V8k</th>\n",
       "      <td>3.000000</td>\n",
       "      <td>5.166667</td>\n",
       "      <td>2.500000</td>\n",
       "      <td>2.500000</td>\n",
       "      <td>5.000000</td>\n",
       "      <td>2.500000</td>\n",
       "      <td>3.666667</td>\n",
       "      <td>4.000000</td>\n",
       "      <td>2.666667</td>\n",
       "      <td>2.500000</td>\n",
       "      <td>2.666667</td>\n",
       "      <td>5.000000</td>\n",
       "      <td>2.500000</td>\n",
       "      <td>3.166667</td>\n",
       "      <td>3.166667</td>\n",
       "    </tr>\n",
       "    <tr>\n",
       "      <th>-Mqc2csT3ZM</th>\n",
       "      <td>2.666667</td>\n",
       "      <td>3.500000</td>\n",
       "      <td>4.666667</td>\n",
       "      <td>4.666667</td>\n",
       "      <td>5.333333</td>\n",
       "      <td>2.666667</td>\n",
       "      <td>4.666667</td>\n",
       "      <td>3.500000</td>\n",
       "      <td>3.500000</td>\n",
       "      <td>3.333333</td>\n",
       "      <td>2.833333</td>\n",
       "      <td>5.333333</td>\n",
       "      <td>3.333333</td>\n",
       "      <td>3.666667</td>\n",
       "      <td>4.000000</td>\n",
       "    </tr>\n",
       "    <tr>\n",
       "      <th>-NEHGAMiA2I</th>\n",
       "      <td>4.833333</td>\n",
       "      <td>6.166667</td>\n",
       "      <td>5.500000</td>\n",
       "      <td>5.666667</td>\n",
       "      <td>6.166667</td>\n",
       "      <td>3.666667</td>\n",
       "      <td>4.500000</td>\n",
       "      <td>5.500000</td>\n",
       "      <td>2.333333</td>\n",
       "      <td>3.666667</td>\n",
       "      <td>2.833333</td>\n",
       "      <td>4.833333</td>\n",
       "      <td>4.333333</td>\n",
       "      <td>4.500000</td>\n",
       "      <td>4.333333</td>\n",
       "    </tr>\n",
       "    <tr>\n",
       "      <th>-SEKfzdaIK0</th>\n",
       "      <td>3.666667</td>\n",
       "      <td>3.166667</td>\n",
       "      <td>5.333333</td>\n",
       "      <td>3.500000</td>\n",
       "      <td>2.833333</td>\n",
       "      <td>4.166667</td>\n",
       "      <td>4.500000</td>\n",
       "      <td>2.166667</td>\n",
       "      <td>3.000000</td>\n",
       "      <td>3.000000</td>\n",
       "      <td>2.666667</td>\n",
       "      <td>4.833333</td>\n",
       "      <td>2.666667</td>\n",
       "      <td>4.000000</td>\n",
       "      <td>3.000000</td>\n",
       "    </tr>\n",
       "  </tbody>\n",
       "</table>\n",
       "</div>"
      ],
      "text/plain": [
       "             Electric/Acoustic  Distorted/Clear  \\\n",
       "stimulus_id                                       \n",
       "-BaTPbE0Gdo           3.666667         6.500000   \n",
       "-KKsNKY4V8k           3.000000         5.166667   \n",
       "-Mqc2csT3ZM           2.666667         3.500000   \n",
       "-NEHGAMiA2I           4.833333         6.166667   \n",
       "-SEKfzdaIK0           3.666667         3.166667   \n",
       "\n",
       "             Many Instruments/Few Instruments  Loud/Soft  Heavy/Light  \\\n",
       "stimulus_id                                                             \n",
       "-BaTPbE0Gdo                          4.333333   5.833333     6.666667   \n",
       "-KKsNKY4V8k                          2.500000   2.500000     5.000000   \n",
       "-Mqc2csT3ZM                          4.666667   4.666667     5.333333   \n",
       "-NEHGAMiA2I                          5.500000   5.666667     6.166667   \n",
       "-SEKfzdaIK0                          5.333333   3.500000     2.833333   \n",
       "\n",
       "             High pitch/Low pitch  \\\n",
       "stimulus_id                         \n",
       "-BaTPbE0Gdo              2.666667   \n",
       "-KKsNKY4V8k              2.500000   \n",
       "-Mqc2csT3ZM              2.666667   \n",
       "-NEHGAMiA2I              3.666667   \n",
       "-SEKfzdaIK0              4.166667   \n",
       "\n",
       "             Wide pitch variation/Narrow pitch variation  Punchy/Smooth  \\\n",
       "stimulus_id                                                               \n",
       "-BaTPbE0Gdo                                     4.666667       6.000000   \n",
       "-KKsNKY4V8k                                     3.666667       4.000000   \n",
       "-Mqc2csT3ZM                                     4.666667       3.500000   \n",
       "-NEHGAMiA2I                                     4.500000       5.500000   \n",
       "-SEKfzdaIK0                                     4.500000       2.166667   \n",
       "\n",
       "             Harmonious/Disharmonious  Clear melody/No melody  \\\n",
       "stimulus_id                                                     \n",
       "-BaTPbE0Gdo                  1.500000                2.166667   \n",
       "-KKsNKY4V8k                  2.666667                2.500000   \n",
       "-Mqc2csT3ZM                  3.500000                3.333333   \n",
       "-NEHGAMiA2I                  2.333333                3.666667   \n",
       "-SEKfzdaIK0                  3.000000                3.000000   \n",
       "\n",
       "             Repetitive/Non-repetitive  Complex rhythm/Simple rhythm  \\\n",
       "stimulus_id                                                            \n",
       "-BaTPbE0Gdo                   4.333333                      5.666667   \n",
       "-KKsNKY4V8k                   2.666667                      5.000000   \n",
       "-Mqc2csT3ZM                   2.833333                      5.333333   \n",
       "-NEHGAMiA2I                   2.833333                      4.833333   \n",
       "-SEKfzdaIK0                   2.666667                      4.833333   \n",
       "\n",
       "             Fast tempo/Slow tempo  Dense/Sparse  Strong beat/Weak beat  \n",
       "stimulus_id                                                              \n",
       "-BaTPbE0Gdo               3.500000      4.166667               4.166667  \n",
       "-KKsNKY4V8k               2.500000      3.166667               3.166667  \n",
       "-Mqc2csT3ZM               3.333333      3.666667               4.000000  \n",
       "-NEHGAMiA2I               4.333333      4.500000               4.333333  \n",
       "-SEKfzdaIK0               2.666667      4.000000               3.000000  "
      ]
     },
     "execution_count": 4,
     "metadata": {},
     "output_type": "execute_result"
    }
   ],
   "source": [
    "mid_level_features = pd.read_csv(\"mid_level_features.csv\").drop(columns=[\"target\"])\n",
    "mid_level_features.set_index(\"stimulus_id\", inplace=True)\n",
    "mid_level_features.head()"
   ]
  },
  {
   "cell_type": "code",
   "execution_count": 5,
   "metadata": {},
   "outputs": [],
   "source": [
    "not_found = 0\n",
    "for stimulus_id in groundtruth_df.index:\n",
    "    if os.path.exists(f\"{modality}/embeddings_{which}/{stimulus_id}{fn_suffix[modality][which]}.npy\"):\n",
    "        continue\n",
    "    else:\n",
    "        print(f\"Embedding for {stimulus_id} not found\")\n",
    "        not_found += 1\n",
    "\n",
    "assert not_found == 0"
   ]
  },
  {
   "cell_type": "markdown",
   "metadata": {},
   "source": [
    "## Load embeddings"
   ]
  },
  {
   "cell_type": "code",
   "execution_count": 6,
   "metadata": {},
   "outputs": [
    {
     "data": {
      "text/plain": [
       "(606, 512)"
      ]
     },
     "execution_count": 6,
     "metadata": {},
     "output_type": "execute_result"
    }
   ],
   "source": [
    "embedding_dim = embedding_dimensions[modality][which]\n",
    "\n",
    "X = np.empty((groundtruth_df.shape[0], embedding_dim))\n",
    "y = np.empty((mid_level_features.shape[0], mid_level_features.shape[1]))\n",
    "\n",
    "for i,stimulus_id in enumerate(groundtruth_df.index):\n",
    "    embedding = np.load(f\"{modality}/embeddings_{which}{'' if voice else '_novoice'}/\" +\n",
    "                        f\"{stimulus_id}{fn_suffix[modality][which]}.npy\")\n",
    "    X[i] = embedding.mean(axis=0)\n",
    "    y[i] = mid_level_features.loc[stimulus_id].values\n",
    "\n",
    "X.shape"
   ]
  },
  {
   "cell_type": "code",
   "execution_count": 7,
   "metadata": {},
   "outputs": [],
   "source": [
    "# split into train, validation, and test sets\n",
    "X_train, X_test, y_train, y_test = train_test_split(X, y, test_size=0.1, random_state=42)\n",
    "X_train, X_val, y_train, y_val = train_test_split(X_train, y_train, test_size=0.1, random_state=42)"
   ]
  },
  {
   "cell_type": "code",
   "execution_count": 8,
   "metadata": {},
   "outputs": [
    {
     "name": "stderr",
     "output_type": "stream",
     "text": [
      "GPU available: True (cuda), used: True\n",
      "TPU available: False, using: 0 TPU cores\n",
      "IPU available: False, using: 0 IPUs\n",
      "HPU available: False, using: 0 HPUs\n",
      "Initializing distributed: GLOBAL_RANK: 0, MEMBER: 1/4\n",
      "Initializing distributed: GLOBAL_RANK: 1, MEMBER: 2/4\n",
      "Initializing distributed: GLOBAL_RANK: 2, MEMBER: 3/4\n",
      "Initializing distributed: GLOBAL_RANK: 3, MEMBER: 4/4\n",
      "----------------------------------------------------------------------------------------------------\n",
      "distributed_backend=nccl\n",
      "All distributed processes registered. Starting with 4 processes\n",
      "----------------------------------------------------------------------------------------------------\n",
      "\n",
      "LOCAL_RANK: 2 - CUDA_VISIBLE_DEVICES: [0,1,2,3]\n",
      "LOCAL_RANK: 0 - CUDA_VISIBLE_DEVICES: [0,1,2,3]\n",
      "LOCAL_RANK: 3 - CUDA_VISIBLE_DEVICES: [0,1,2,3]\n",
      "LOCAL_RANK: 1 - CUDA_VISIBLE_DEVICES: [0,1,2,3]\n",
      "\n",
      "  | Name    | Type        | Params\n",
      "----------------------------------------\n",
      "0 | bn      | BatchNorm1d | 1.0 K \n",
      "1 | linear  | Linear      | 131 K \n",
      "2 | linear2 | Linear      | 32.9 K\n",
      "3 | linear3 | Linear      | 1.9 K \n",
      "----------------------------------------\n",
      "167 K     Trainable params\n",
      "0         Non-trainable params\n",
      "167 K     Total params\n",
      "0.669     Total estimated model params size (MB)\n"
     ]
    },
    {
     "data": {
      "application/vnd.jupyter.widget-view+json": {
       "model_id": "d0e828260bf543f2abf511e3130836db",
       "version_major": 2,
       "version_minor": 0
      },
      "text/plain": [
       "Sanity Checking: 0it [00:00, ?it/s]"
      ]
     },
     "metadata": {},
     "output_type": "display_data"
    },
    {
     "name": "stderr",
     "output_type": "stream",
     "text": [
      "/homes/lm004/.conda/envs/embeddings_pipeline_dev/lib/python3.10/site-packages/pytorch_lightning/trainer/connectors/data_connector.py:430: PossibleUserWarning: The dataloader, val_dataloader, does not have many workers which may be a bottleneck. Consider increasing the value of the `num_workers` argument` (try 16 which is the number of cpus on this machine) in the `DataLoader` init to improve performance.\n",
      "  rank_zero_warn(\n",
      "/homes/lm004/.conda/envs/embeddings_pipeline_dev/lib/python3.10/site-packages/pytorch_lightning/trainer/connectors/logger_connector/result.py:432: PossibleUserWarning: It is recommended to use `self.log('val_loss', ..., sync_dist=True)` when logging on epoch level in distributed setting to accumulate the metric across devices.\n",
      "  warning_cache.warn(\n",
      "/homes/lm004/.conda/envs/embeddings_pipeline_dev/lib/python3.10/site-packages/pytorch_lightning/trainer/connectors/data_connector.py:430: PossibleUserWarning: The dataloader, train_dataloader, does not have many workers which may be a bottleneck. Consider increasing the value of the `num_workers` argument` (try 16 which is the number of cpus on this machine) in the `DataLoader` init to improve performance.\n",
      "  rank_zero_warn(\n",
      "/homes/lm004/.conda/envs/embeddings_pipeline_dev/lib/python3.10/site-packages/pytorch_lightning/loops/fit_loop.py:280: PossibleUserWarning: The number of training batches (16) is smaller than the logging interval Trainer(log_every_n_steps=50). Set a lower value for log_every_n_steps if you want to see logs for the training epoch.\n",
      "  rank_zero_warn(\n"
     ]
    },
    {
     "data": {
      "application/vnd.jupyter.widget-view+json": {
       "model_id": "fb24918a747d4c2fab487c0158c2bb28",
       "version_major": 2,
       "version_minor": 0
      },
      "text/plain": [
       "Training: 0it [00:00, ?it/s]"
      ]
     },
     "metadata": {},
     "output_type": "display_data"
    },
    {
     "data": {
      "application/vnd.jupyter.widget-view+json": {
       "model_id": "b0651ae8976f4a2cae6b04494ed40cb1",
       "version_major": 2,
       "version_minor": 0
      },
      "text/plain": [
       "Validation: 0it [00:00, ?it/s]"
      ]
     },
     "metadata": {},
     "output_type": "display_data"
    },
    {
     "data": {
      "application/vnd.jupyter.widget-view+json": {
       "model_id": "7b8afe3d395a41d381618a4fea2eec3a",
       "version_major": 2,
       "version_minor": 0
      },
      "text/plain": [
       "Validation: 0it [00:00, ?it/s]"
      ]
     },
     "metadata": {},
     "output_type": "display_data"
    },
    {
     "data": {
      "application/vnd.jupyter.widget-view+json": {
       "model_id": "4571c83bbaa8465d9e7cc24338d739de",
       "version_major": 2,
       "version_minor": 0
      },
      "text/plain": [
       "Validation: 0it [00:00, ?it/s]"
      ]
     },
     "metadata": {},
     "output_type": "display_data"
    },
    {
     "data": {
      "application/vnd.jupyter.widget-view+json": {
       "model_id": "7eac984d89d64f7b9fcdcbdb960f24a1",
       "version_major": 2,
       "version_minor": 0
      },
      "text/plain": [
       "Validation: 0it [00:00, ?it/s]"
      ]
     },
     "metadata": {},
     "output_type": "display_data"
    },
    {
     "data": {
      "application/vnd.jupyter.widget-view+json": {
       "model_id": "86ecd23fa8064ef89136e2669e44294b",
       "version_major": 2,
       "version_minor": 0
      },
      "text/plain": [
       "Validation: 0it [00:00, ?it/s]"
      ]
     },
     "metadata": {},
     "output_type": "display_data"
    },
    {
     "data": {
      "application/vnd.jupyter.widget-view+json": {
       "model_id": "8de47202c4c34eeaac824350a6d4500c",
       "version_major": 2,
       "version_minor": 0
      },
      "text/plain": [
       "Validation: 0it [00:00, ?it/s]"
      ]
     },
     "metadata": {},
     "output_type": "display_data"
    },
    {
     "data": {
      "application/vnd.jupyter.widget-view+json": {
       "model_id": "9215426519dc466892c470928e2fb4cc",
       "version_major": 2,
       "version_minor": 0
      },
      "text/plain": [
       "Validation: 0it [00:00, ?it/s]"
      ]
     },
     "metadata": {},
     "output_type": "display_data"
    },
    {
     "data": {
      "application/vnd.jupyter.widget-view+json": {
       "model_id": "0890de2c27cf4efeb401d19248c04e7d",
       "version_major": 2,
       "version_minor": 0
      },
      "text/plain": [
       "Validation: 0it [00:00, ?it/s]"
      ]
     },
     "metadata": {},
     "output_type": "display_data"
    },
    {
     "data": {
      "application/vnd.jupyter.widget-view+json": {
       "model_id": "b6ce7aa20b594cae9ebff97074369f02",
       "version_major": 2,
       "version_minor": 0
      },
      "text/plain": [
       "Validation: 0it [00:00, ?it/s]"
      ]
     },
     "metadata": {},
     "output_type": "display_data"
    },
    {
     "data": {
      "application/vnd.jupyter.widget-view+json": {
       "model_id": "fc916ff073434dae991028dae1715128",
       "version_major": 2,
       "version_minor": 0
      },
      "text/plain": [
       "Validation: 0it [00:00, ?it/s]"
      ]
     },
     "metadata": {},
     "output_type": "display_data"
    },
    {
     "data": {
      "application/vnd.jupyter.widget-view+json": {
       "model_id": "4368d8d0db5a465da77943c0aac4b47a",
       "version_major": 2,
       "version_minor": 0
      },
      "text/plain": [
       "Validation: 0it [00:00, ?it/s]"
      ]
     },
     "metadata": {},
     "output_type": "display_data"
    },
    {
     "data": {
      "application/vnd.jupyter.widget-view+json": {
       "model_id": "9e98947cc0304a9d80fce657940953de",
       "version_major": 2,
       "version_minor": 0
      },
      "text/plain": [
       "Validation: 0it [00:00, ?it/s]"
      ]
     },
     "metadata": {},
     "output_type": "display_data"
    },
    {
     "data": {
      "application/vnd.jupyter.widget-view+json": {
       "model_id": "afd8e528210b4d00974e0251058e9400",
       "version_major": 2,
       "version_minor": 0
      },
      "text/plain": [
       "Validation: 0it [00:00, ?it/s]"
      ]
     },
     "metadata": {},
     "output_type": "display_data"
    },
    {
     "data": {
      "application/vnd.jupyter.widget-view+json": {
       "model_id": "98dd6581e6114d6dbab94f4542f9563a",
       "version_major": 2,
       "version_minor": 0
      },
      "text/plain": [
       "Validation: 0it [00:00, ?it/s]"
      ]
     },
     "metadata": {},
     "output_type": "display_data"
    },
    {
     "data": {
      "application/vnd.jupyter.widget-view+json": {
       "model_id": "f97f747a6fbb4dc89c3e217f107952b5",
       "version_major": 2,
       "version_minor": 0
      },
      "text/plain": [
       "Validation: 0it [00:00, ?it/s]"
      ]
     },
     "metadata": {},
     "output_type": "display_data"
    },
    {
     "data": {
      "application/vnd.jupyter.widget-view+json": {
       "model_id": "560ae950c0c24261bd13138984e2c8bc",
       "version_major": 2,
       "version_minor": 0
      },
      "text/plain": [
       "Validation: 0it [00:00, ?it/s]"
      ]
     },
     "metadata": {},
     "output_type": "display_data"
    },
    {
     "data": {
      "application/vnd.jupyter.widget-view+json": {
       "model_id": "4a5b6b638cb746d6b42a836ac6cb500e",
       "version_major": 2,
       "version_minor": 0
      },
      "text/plain": [
       "Validation: 0it [00:00, ?it/s]"
      ]
     },
     "metadata": {},
     "output_type": "display_data"
    },
    {
     "data": {
      "application/vnd.jupyter.widget-view+json": {
       "model_id": "dd2f56c8aa55488999f6abc9171e378b",
       "version_major": 2,
       "version_minor": 0
      },
      "text/plain": [
       "Validation: 0it [00:00, ?it/s]"
      ]
     },
     "metadata": {},
     "output_type": "display_data"
    },
    {
     "data": {
      "application/vnd.jupyter.widget-view+json": {
       "model_id": "442c040bcd224905ae4944b474fcca91",
       "version_major": 2,
       "version_minor": 0
      },
      "text/plain": [
       "Validation: 0it [00:00, ?it/s]"
      ]
     },
     "metadata": {},
     "output_type": "display_data"
    },
    {
     "data": {
      "application/vnd.jupyter.widget-view+json": {
       "model_id": "681d95e7988c473ca47fa002c5b1f969",
       "version_major": 2,
       "version_minor": 0
      },
      "text/plain": [
       "Validation: 0it [00:00, ?it/s]"
      ]
     },
     "metadata": {},
     "output_type": "display_data"
    },
    {
     "data": {
      "application/vnd.jupyter.widget-view+json": {
       "model_id": "4d71c71e002b4d49bcf65a2476962553",
       "version_major": 2,
       "version_minor": 0
      },
      "text/plain": [
       "Validation: 0it [00:00, ?it/s]"
      ]
     },
     "metadata": {},
     "output_type": "display_data"
    },
    {
     "data": {
      "application/vnd.jupyter.widget-view+json": {
       "model_id": "c2eb9fb91f3b44e2854eaf169ae8750a",
       "version_major": 2,
       "version_minor": 0
      },
      "text/plain": [
       "Validation: 0it [00:00, ?it/s]"
      ]
     },
     "metadata": {},
     "output_type": "display_data"
    },
    {
     "data": {
      "application/vnd.jupyter.widget-view+json": {
       "model_id": "f86b703bad944ad19a8bbba5784934a0",
       "version_major": 2,
       "version_minor": 0
      },
      "text/plain": [
       "Validation: 0it [00:00, ?it/s]"
      ]
     },
     "metadata": {},
     "output_type": "display_data"
    },
    {
     "data": {
      "application/vnd.jupyter.widget-view+json": {
       "model_id": "166bf84de94d41f59172d96d12346cfe",
       "version_major": 2,
       "version_minor": 0
      },
      "text/plain": [
       "Validation: 0it [00:00, ?it/s]"
      ]
     },
     "metadata": {},
     "output_type": "display_data"
    },
    {
     "data": {
      "application/vnd.jupyter.widget-view+json": {
       "model_id": "eaa9d6d2311f43abba1f005dec20df8e",
       "version_major": 2,
       "version_minor": 0
      },
      "text/plain": [
       "Validation: 0it [00:00, ?it/s]"
      ]
     },
     "metadata": {},
     "output_type": "display_data"
    },
    {
     "data": {
      "application/vnd.jupyter.widget-view+json": {
       "model_id": "80b387f1910c4e46ab1c95eae0d376a6",
       "version_major": 2,
       "version_minor": 0
      },
      "text/plain": [
       "Validation: 0it [00:00, ?it/s]"
      ]
     },
     "metadata": {},
     "output_type": "display_data"
    },
    {
     "data": {
      "application/vnd.jupyter.widget-view+json": {
       "model_id": "d7f501f6d98a4b038cd50ba31da7f150",
       "version_major": 2,
       "version_minor": 0
      },
      "text/plain": [
       "Validation: 0it [00:00, ?it/s]"
      ]
     },
     "metadata": {},
     "output_type": "display_data"
    },
    {
     "data": {
      "application/vnd.jupyter.widget-view+json": {
       "model_id": "c09993eaed75493ba8b62e1c7e8b658c",
       "version_major": 2,
       "version_minor": 0
      },
      "text/plain": [
       "Validation: 0it [00:00, ?it/s]"
      ]
     },
     "metadata": {},
     "output_type": "display_data"
    },
    {
     "data": {
      "application/vnd.jupyter.widget-view+json": {
       "model_id": "0b05eb0a2864420ebf6ba00b796d3b91",
       "version_major": 2,
       "version_minor": 0
      },
      "text/plain": [
       "Validation: 0it [00:00, ?it/s]"
      ]
     },
     "metadata": {},
     "output_type": "display_data"
    },
    {
     "data": {
      "application/vnd.jupyter.widget-view+json": {
       "model_id": "ddaec0da2f58428e967d5f138d5be37f",
       "version_major": 2,
       "version_minor": 0
      },
      "text/plain": [
       "Validation: 0it [00:00, ?it/s]"
      ]
     },
     "metadata": {},
     "output_type": "display_data"
    },
    {
     "data": {
      "application/vnd.jupyter.widget-view+json": {
       "model_id": "254db540af9c494bb3c2e2398dca128a",
       "version_major": 2,
       "version_minor": 0
      },
      "text/plain": [
       "Validation: 0it [00:00, ?it/s]"
      ]
     },
     "metadata": {},
     "output_type": "display_data"
    },
    {
     "data": {
      "application/vnd.jupyter.widget-view+json": {
       "model_id": "febc7a3d9f0944fc84b4aeff9788454b",
       "version_major": 2,
       "version_minor": 0
      },
      "text/plain": [
       "Validation: 0it [00:00, ?it/s]"
      ]
     },
     "metadata": {},
     "output_type": "display_data"
    }
   ],
   "source": [
    "train_dataset = TensorDataset(torch.from_numpy(X_train).float(), torch.from_numpy(y_train).float())\n",
    "val_dataset = TensorDataset(torch.from_numpy(X_val).float(), torch.from_numpy(y_val).float())\n",
    "\n",
    "train_loader = DataLoader(train_dataset, batch_size=8, shuffle=True)\n",
    "val_loader = DataLoader(val_dataset, batch_size=8, shuffle=False)\n",
    "\n",
    "model = MultipleRegression(input_dim=X_train.shape[1], n_regressions=y_train.shape[1])\n",
    "\n",
    "checkpoint_callback = ModelCheckpoint(monitor='val_loss')\n",
    "trainer = Trainer(max_epochs=100, callbacks=[checkpoint_callback, \n",
    "                                            EarlyStopping(monitor='val_loss', patience=20)])\n",
    "trainer.fit(model, train_loader, val_loader)\n",
    "\n",
    "model = MultipleRegression(input_dim=X_train.shape[1], n_regressions=y_train.shape[1])\n",
    "model = model.load_from_checkpoint(checkpoint_callback.best_model_path, input_dim=X_train.shape[1], n_regressions=y_train.shape[1])\n",
    "\n",
    "model.eval()\n",
    "with torch.no_grad():\n",
    "    y_pred = model(torch.from_numpy(X_test).float()).detach().numpy()\n",
    "\n",
    "\n",
    "r2_values = r2_score(y_test, y_pred, multioutput='raw_values')\n"
   ]
  },
  {
   "cell_type": "code",
   "execution_count": 9,
   "metadata": {},
   "outputs": [
    {
     "name": "stdout",
     "output_type": "stream",
     "text": [
      "Electric/Acoustic: 0.62\n",
      "Distorted/Clear: 0.36\n",
      "Many Instruments/Few Instruments: 0.07\n",
      "Loud/Soft: 0.50\n",
      "Heavy/Light: 0.57\n",
      "High pitch/Low pitch: 0.12\n",
      "Wide pitch variation/Narrow pitch variation: -0.06\n",
      "Punchy/Smooth: 0.53\n",
      "Harmonious/Disharmonious: 0.04\n",
      "Clear melody/No melody: 0.03\n",
      "Repetitive/Non-repetitive: 0.05\n",
      "Complex rhythm/Simple rhythm: -0.09\n",
      "Fast tempo/Slow tempo: 0.25\n",
      "Dense/Sparse: 0.39\n",
      "Strong beat/Weak beat: 0.38\n"
     ]
    }
   ],
   "source": [
    "features_names = mid_level_features.columns\n",
    "\n",
    "# print the R-squared values for each target with the corresponding feature name\n",
    "for i, r2 in enumerate(r2_values):\n",
    "    print(f'{features_names[i]}: {r2:.2f}')"
   ]
  },
  {
   "cell_type": "code",
   "execution_count": null,
   "metadata": {},
   "outputs": [],
   "source": []
  }
 ],
 "metadata": {
  "kernelspec": {
   "display_name": "embeddings_pipeline_dev",
   "language": "python",
   "name": "python3"
  },
  "language_info": {
   "codemirror_mode": {
    "name": "ipython",
    "version": 3
   },
   "file_extension": ".py",
   "mimetype": "text/x-python",
   "name": "python",
   "nbconvert_exporter": "python",
   "pygments_lexer": "ipython3",
   "version": "3.10.9"
  },
  "orig_nbformat": 4
 },
 "nbformat": 4,
 "nbformat_minor": 2
}
