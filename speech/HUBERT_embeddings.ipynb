{
 "cells": [
  {
   "cell_type": "code",
   "execution_count": null,
   "metadata": {},
   "outputs": [],
   "source": [
    "import numpy as np\n",
    "# import os\n",
    "import glob\n",
    "import torch\n",
    "import torchaudio\n",
    "import librosa"
   ]
  },
  {
   "attachments": {},
   "cell_type": "markdown",
   "metadata": {},
   "source": [
    "#### This notebook also does ASR, transcripts saved in the embeddings directory"
   ]
  },
  {
   "attachments": {},
   "cell_type": "markdown",
   "metadata": {},
   "source": [
    "From \n",
    "- https://pytorch.org/audio/0.10.0/pipelines.html#wav2vec-2-0-hubert-representation-learning \n",
    "- https://pytorch.org/audio/0.10.0/pipelines.html#wav2vec-2-0-hubert-fine-tuned-asr \n",
    "- https://pytorch.org/audio/main/tutorials/asr_inference_with_ctc_decoder_tutorial.html "
   ]
  },
  {
   "cell_type": "code",
   "execution_count": null,
   "metadata": {},
   "outputs": [],
   "source": [
    "# Load the model\n",
    "bundle = torchaudio.pipelines.HUBERT_ASR_LARGE # or HUBERT_ASR_XLARGE \n",
    "\n",
    "model = bundle.get_model()\n",
    "model = model.eval()\n",
    "\n",
    "# # Set to GPU or CPU\n",
    "# device = \"cuda\"\n",
    "# model = model.eval()\n",
    "# model = model.to(device)\n",
    "\n",
    "# encoder_embed_dim = 768 # HUBERT_BASE (see https://pytorch.org/audio/0.10.0/_modules/torchaudio/pipelines/_wav2vec2.html#Wav2Vec2Bundle)\n",
    "# encoder_embed_dim = 1024 # HUBERT_LARGE"
   ]
  },
  {
   "attachments": {},
   "cell_type": "markdown",
   "metadata": {},
   "source": [
    "#### Register forward hook to get the output of the encoder and acoustic features only\n",
    "\n",
    "The function extract_features() returns too many layers"
   ]
  },
  {
   "cell_type": "code",
   "execution_count": null,
   "metadata": {},
   "outputs": [],
   "source": [
    "def get_features(name):\n",
    "    def hook(model, input, output):\n",
    "        if name == \"wave_encoder\":\n",
    "            output, _ = output # second output is optional \n",
    "        features[name] = output.detach().numpy().squeeze() # type: ignore (pylance bug)\n",
    "    return hook\n",
    "\n",
    "model.feature_extractor.register_forward_hook(get_features(\"wave_encoder\"))\n",
    "model.encoder.register_forward_hook(get_features(\"transformer\"))"
   ]
  },
  {
   "cell_type": "code",
   "execution_count": null,
   "metadata": {},
   "outputs": [],
   "source": [
    "# test audio loading before building the CTC decoder\n",
    "test_audio = glob.glob(\"/homes/lm004/commercials/annotated_commercials/*.mp3\")[0]\n",
    "_, _ = librosa.core.load(test_audio, sr=bundle.sample_rate, res_type='kaiser_fast')"
   ]
  },
  {
   "cell_type": "code",
   "execution_count": null,
   "metadata": {},
   "outputs": [],
   "source": [
    "# if we import this stuff at the top, it will break librosa.core.load() for some obscure reasons\n",
    "from torchaudio.models.decoder import ctc_decoder\n",
    "from torchaudio.models.decoder import download_pretrained_files\n",
    "\n",
    "files = download_pretrained_files(\"librispeech-4-gram\")\n",
    "\n",
    "# print(files)\n",
    "LM_WEIGHT = 3.23\n",
    "WORD_SCORE = -0.26\n",
    "\n",
    "beam_search_decoder = ctc_decoder(\n",
    "    lexicon=files.lexicon,\n",
    "    tokens=files.tokens,\n",
    "    lm=files.lm,\n",
    "    nbest=3,\n",
    "    beam_size=1500,\n",
    "    lm_weight=LM_WEIGHT,\n",
    "    word_score=WORD_SCORE,\n",
    ")"
   ]
  },
  {
   "cell_type": "code",
   "execution_count": null,
   "metadata": {},
   "outputs": [],
   "source": [
    "for audio_fn in glob.glob(\"/homes/lm004/commercials/annotated_commercials/*.mp3\"):\n",
    "    features = {}\n",
    "\n",
    "    y, _ = librosa.core.load(audio_fn, sr=bundle.sample_rate, res_type='kaiser_fast')\n",
    "    y = torch.unsqueeze(torch.from_numpy(y), dim=0) # .to(device)\n",
    "\n",
    "    emission, _ = model(y) # type: ignore (pylance bug)\n",
    "    emission = emission.detach() # type: ignore (pylance bug)\n",
    "\n",
    "    beam_search_result = beam_search_decoder(emission)\n",
    "    beam_search_transcript = \" \".join(beam_search_result[0][0].words).strip()\n",
    "\n",
    "    stimulus_id = audio_fn.split('/')[-1].replace('_trimmed.mp3','')\n",
    "\n",
    "    with open(f\"embeddings_hubert/{stimulus_id}.txt\", \"w\") as text_file:\n",
    "        text_file.write(beam_search_transcript)\n",
    "\n",
    "    # NB: not saving for safety, uncomment to save\n",
    "\n",
    "    # np.save(open(f\"embeddings_hubert/{stimulus_id}_wave_encoder.npy\", 'wb'), features['wave_encoder'])\n",
    "    # np.save(open(f\"embeddings_hubert/{stimulus_id}_transformer.npy\", 'wb'), features['transformer'])"
   ]
  },
  {
   "cell_type": "markdown",
   "metadata": {},
   "source": [
    "    framesrate = 0.02 # 20ms frames rate, see paper\n",
    "    assert int(y.shape[1]//(framesrate*bundle.sample_rate)) == features['transformer'].shape[0]\n",
    "    assert int(y.shape[1]//(framesrate*bundle.sample_rate)) == features['wave_encoder'].shape[0]"
   ]
  },
  {
   "cell_type": "code",
   "execution_count": null,
   "metadata": {},
   "outputs": [],
   "source": []
  }
 ],
 "metadata": {
  "kernelspec": {
   "display_name": "embeddings_pipeline_dev",
   "language": "python",
   "name": "python3"
  },
  "language_info": {
   "codemirror_mode": {
    "name": "ipython",
    "version": 3
   },
   "file_extension": ".py",
   "mimetype": "text/x-python",
   "name": "python",
   "nbconvert_exporter": "python",
   "pygments_lexer": "ipython3",
   "version": "3.10.9"
  },
  "orig_nbformat": 4
 },
 "nbformat": 4,
 "nbformat_minor": 2
}
