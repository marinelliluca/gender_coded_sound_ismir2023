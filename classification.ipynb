{
 "cells": [
  {
   "cell_type": "code",
   "execution_count": 12,
   "metadata": {},
   "outputs": [],
   "source": [
    "%matplotlib inline\n",
    "import os\n",
    "import numpy as np\n",
    "import pandas as pd\n",
    "import matplotlib.pyplot as plt\n",
    "\n",
    "import torch\n",
    "from pytorch_lightning import Trainer\n",
    "from torch.utils.data import DataLoader\n",
    "from utils import EmbeddingsDataset, SoftmaxClassifier\n",
    "\n",
    "from sklearn.model_selection import KFold\n",
    "from sklearn.metrics import accuracy_score, f1_score, classification_report\n",
    "from sklearn.preprocessing import LabelEncoder\n",
    "import xgboost as xgb"
   ]
  },
  {
   "cell_type": "code",
   "execution_count": 13,
   "metadata": {},
   "outputs": [],
   "source": [
    "n_classes = 3\n",
    "modality = 'music' # 'music', 'speech', or 'video'\n",
    "which = 'openl3' # 'mfcc', 'msd' or 'openl3' for music, 'slow_fast' for video, 'hubert' for speech\n",
    "voice = True \n",
    "\n",
    "fn_suffix = {\n",
    "    'music': {\n",
    "        'mfcc': '',\n",
    "        'msd': '_backend', \n",
    "        'openl3': '_env', # '_music' or '_env'\n",
    "    },\n",
    "    'video': {\n",
    "        'slow_fast': '_slow', # '_slow' or '_fast'\n",
    "    },\n",
    "    'speech': {\n",
    "        'hubert': '_wave_encoder', # '_wave_encoder' or '_transformer'\n",
    "    }\n",
    "}\n",
    "\n",
    "embedding_dimensions = {\n",
    "    'video': {\n",
    "        'slow_fast': 2048 if fn_suffix['video']['slow_fast']=='_slow' else 256,\n",
    "    },\n",
    "    'music': {\n",
    "        'mfcc': 60,\n",
    "        'msd': 256,\n",
    "        'openl3': 512,\n",
    "    },\n",
    "    'speech': {\n",
    "        'hubert': 1024 if fn_suffix['speech']['hubert']=='_transformer' else 512,\n",
    "    }\n",
    "}"
   ]
  },
  {
   "cell_type": "markdown",
   "metadata": {},
   "source": [
    "## Load ground truth"
   ]
  },
  {
   "cell_type": "code",
   "execution_count": 14,
   "metadata": {},
   "outputs": [
    {
     "data": {
      "text/html": [
       "<div>\n",
       "<style scoped>\n",
       "    .dataframe tbody tr th:only-of-type {\n",
       "        vertical-align: middle;\n",
       "    }\n",
       "\n",
       "    .dataframe tbody tr th {\n",
       "        vertical-align: top;\n",
       "    }\n",
       "\n",
       "    .dataframe thead th {\n",
       "        text-align: right;\n",
       "    }\n",
       "</style>\n",
       "<table border=\"1\" class=\"dataframe\">\n",
       "  <thead>\n",
       "    <tr style=\"text-align: right;\">\n",
       "      <th></th>\n",
       "      <th>product_category</th>\n",
       "      <th>filming_location</th>\n",
       "      <th>target</th>\n",
       "      <th>interaction</th>\n",
       "      <th>voice_type</th>\n",
       "      <th>voice_age</th>\n",
       "      <th>voice_gender</th>\n",
       "      <th>voice_exagg</th>\n",
       "      <th>asian</th>\n",
       "      <th>black</th>\n",
       "      <th>...</th>\n",
       "      <th>description</th>\n",
       "      <th>upload_date</th>\n",
       "      <th>duration</th>\n",
       "      <th>view_count</th>\n",
       "      <th>categories</th>\n",
       "      <th>tags</th>\n",
       "      <th>like_count</th>\n",
       "      <th>requested_subtitles</th>\n",
       "      <th>download</th>\n",
       "      <th>error_logs</th>\n",
       "    </tr>\n",
       "    <tr>\n",
       "      <th>stimulus_id</th>\n",
       "      <th></th>\n",
       "      <th></th>\n",
       "      <th></th>\n",
       "      <th></th>\n",
       "      <th></th>\n",
       "      <th></th>\n",
       "      <th></th>\n",
       "      <th></th>\n",
       "      <th></th>\n",
       "      <th></th>\n",
       "      <th></th>\n",
       "      <th></th>\n",
       "      <th></th>\n",
       "      <th></th>\n",
       "      <th></th>\n",
       "      <th></th>\n",
       "      <th></th>\n",
       "      <th></th>\n",
       "      <th></th>\n",
       "      <th></th>\n",
       "      <th></th>\n",
       "    </tr>\n",
       "  </thead>\n",
       "  <tbody>\n",
       "    <tr>\n",
       "      <th>ndzo2ZIWfiQ</th>\n",
       "      <td>High-tech Interactive Playmates and Robotics</td>\n",
       "      <td>Non-specific</td>\n",
       "      <td>Girls/women</td>\n",
       "      <td>They do not interact with each other or there ...</td>\n",
       "      <td>BOTH spoken and sung</td>\n",
       "      <td>Adults (including young adults)</td>\n",
       "      <td>Feminine</td>\n",
       "      <td>No, all voices are normal-sounding</td>\n",
       "      <td>No</td>\n",
       "      <td>No</td>\n",
       "      <td>...</td>\n",
       "      <td>NaN</td>\n",
       "      <td>20120907</td>\n",
       "      <td>20</td>\n",
       "      <td>3047</td>\n",
       "      <td>['Autos &amp; Vehicles']</td>\n",
       "      <td>['122975']</td>\n",
       "      <td>5</td>\n",
       "      <td>{'en': {'ext': 'vtt', 'url': 'https://www.yout...</td>\n",
       "      <td>True</td>\n",
       "      <td>NaN</td>\n",
       "    </tr>\n",
       "    <tr>\n",
       "      <th>yRUiwRKk6QM</th>\n",
       "      <td>High-tech Interactive Playmates and Robotics</td>\n",
       "      <td>Indoors</td>\n",
       "      <td>Mixed</td>\n",
       "      <td>They do not interact with each other or there ...</td>\n",
       "      <td>Spoken</td>\n",
       "      <td>Adults (including young adults)</td>\n",
       "      <td>Masculine</td>\n",
       "      <td>Yes a masculine voice is gender exaggerated</td>\n",
       "      <td>No</td>\n",
       "      <td>Yes</td>\n",
       "      <td>...</td>\n",
       "      <td>Now you can train like a Jedi! Use the power o...</td>\n",
       "      <td>20170920</td>\n",
       "      <td>34</td>\n",
       "      <td>25861</td>\n",
       "      <td>['Entertainment']</td>\n",
       "      <td>['Smyths Toys', 'Toys', '(Industry)kids', 'Sta...</td>\n",
       "      <td>46</td>\n",
       "      <td>NaN</td>\n",
       "      <td>True</td>\n",
       "      <td>NaN</td>\n",
       "    </tr>\n",
       "    <tr>\n",
       "      <th>3ysC1-foJT4</th>\n",
       "      <td>Apparel, Fashion, Accessories, Cosmetics, Cost...</td>\n",
       "      <td>Indoors</td>\n",
       "      <td>Girls/women</td>\n",
       "      <td>They are working or playing together in a coop...</td>\n",
       "      <td>Sung</td>\n",
       "      <td>Adults (including young adults)</td>\n",
       "      <td>Feminine</td>\n",
       "      <td>Yes a feminine voice is gender exaggerated</td>\n",
       "      <td>No</td>\n",
       "      <td>No</td>\n",
       "      <td>...</td>\n",
       "      <td>Just add water to make endless crystal creatio...</td>\n",
       "      <td>20180802</td>\n",
       "      <td>30</td>\n",
       "      <td>2545</td>\n",
       "      <td>['Entertainment']</td>\n",
       "      <td>['Smyths Toys', 'Toys (Industry)', 'kids', 'sm...</td>\n",
       "      <td>19</td>\n",
       "      <td>NaN</td>\n",
       "      <td>True</td>\n",
       "      <td>NaN</td>\n",
       "    </tr>\n",
       "    <tr>\n",
       "      <th>cYszuGaptkk</th>\n",
       "      <td>Action Figures, Battling Toys and Toy Weapons</td>\n",
       "      <td>Non-specific</td>\n",
       "      <td>Mixed</td>\n",
       "      <td>They are working or playing together in a coop...</td>\n",
       "      <td>Spoken</td>\n",
       "      <td>Adults (including young adults)</td>\n",
       "      <td>Feminine</td>\n",
       "      <td>No, all voices are normal-sounding</td>\n",
       "      <td>No</td>\n",
       "      <td>Yes</td>\n",
       "      <td>...</td>\n",
       "      <td>Create your own exciting dino rescue missions ...</td>\n",
       "      <td>20201028</td>\n",
       "      <td>21</td>\n",
       "      <td>2035695</td>\n",
       "      <td>['Entertainment']</td>\n",
       "      <td>['Smyths Toys', 'Toys (Industry)', 'kids', 'sm...</td>\n",
       "      <td>51</td>\n",
       "      <td>{'en': {'ext': 'vtt', 'url': 'https://www.yout...</td>\n",
       "      <td>True</td>\n",
       "      <td>NaN</td>\n",
       "    </tr>\n",
       "    <tr>\n",
       "      <th>2LZjLBipdfI</th>\n",
       "      <td>Dolls</td>\n",
       "      <td>Indoors</td>\n",
       "      <td>Girls/women</td>\n",
       "      <td>They do not interact with each other or there ...</td>\n",
       "      <td>BOTH spoken and sung</td>\n",
       "      <td>Adults (including young adults)</td>\n",
       "      <td>Feminine</td>\n",
       "      <td>Yes a feminine voice is gender exaggerated</td>\n",
       "      <td>No</td>\n",
       "      <td>No</td>\n",
       "      <td>...</td>\n",
       "      <td>Fabio &amp; Fabia's Hair salon is the most loved p...</td>\n",
       "      <td>20201106</td>\n",
       "      <td>15</td>\n",
       "      <td>1834</td>\n",
       "      <td>['Entertainment']</td>\n",
       "      <td>['Smyths Toys', 'Toys (Industry)', 'kids', 'sm...</td>\n",
       "      <td>10</td>\n",
       "      <td>NaN</td>\n",
       "      <td>True</td>\n",
       "      <td>NaN</td>\n",
       "    </tr>\n",
       "  </tbody>\n",
       "</table>\n",
       "<p>5 rows × 23 columns</p>\n",
       "</div>"
      ],
      "text/plain": [
       "                                              product_category  \\\n",
       "stimulus_id                                                      \n",
       "ndzo2ZIWfiQ       High-tech Interactive Playmates and Robotics   \n",
       "yRUiwRKk6QM       High-tech Interactive Playmates and Robotics   \n",
       "3ysC1-foJT4  Apparel, Fashion, Accessories, Cosmetics, Cost...   \n",
       "cYszuGaptkk      Action Figures, Battling Toys and Toy Weapons   \n",
       "2LZjLBipdfI                                              Dolls   \n",
       "\n",
       "            filming_location       target  \\\n",
       "stimulus_id                                 \n",
       "ndzo2ZIWfiQ     Non-specific  Girls/women   \n",
       "yRUiwRKk6QM          Indoors        Mixed   \n",
       "3ysC1-foJT4          Indoors  Girls/women   \n",
       "cYszuGaptkk     Non-specific        Mixed   \n",
       "2LZjLBipdfI          Indoors  Girls/women   \n",
       "\n",
       "                                                   interaction  \\\n",
       "stimulus_id                                                      \n",
       "ndzo2ZIWfiQ  They do not interact with each other or there ...   \n",
       "yRUiwRKk6QM  They do not interact with each other or there ...   \n",
       "3ysC1-foJT4  They are working or playing together in a coop...   \n",
       "cYszuGaptkk  They are working or playing together in a coop...   \n",
       "2LZjLBipdfI  They do not interact with each other or there ...   \n",
       "\n",
       "                       voice_type                        voice_age  \\\n",
       "stimulus_id                                                          \n",
       "ndzo2ZIWfiQ  BOTH spoken and sung  Adults (including young adults)   \n",
       "yRUiwRKk6QM                Spoken  Adults (including young adults)   \n",
       "3ysC1-foJT4                  Sung  Adults (including young adults)   \n",
       "cYszuGaptkk                Spoken  Adults (including young adults)   \n",
       "2LZjLBipdfI  BOTH spoken and sung  Adults (including young adults)   \n",
       "\n",
       "            voice_gender                                  voice_exagg asian  \\\n",
       "stimulus_id                                                                   \n",
       "ndzo2ZIWfiQ     Feminine           No, all voices are normal-sounding    No   \n",
       "yRUiwRKk6QM    Masculine  Yes a masculine voice is gender exaggerated    No   \n",
       "3ysC1-foJT4     Feminine   Yes a feminine voice is gender exaggerated    No   \n",
       "cYszuGaptkk     Feminine           No, all voices are normal-sounding    No   \n",
       "2LZjLBipdfI     Feminine   Yes a feminine voice is gender exaggerated    No   \n",
       "\n",
       "            black  ...                                        description  \\\n",
       "stimulus_id        ...                                                      \n",
       "ndzo2ZIWfiQ    No  ...                                                NaN   \n",
       "yRUiwRKk6QM   Yes  ...  Now you can train like a Jedi! Use the power o...   \n",
       "3ysC1-foJT4    No  ...  Just add water to make endless crystal creatio...   \n",
       "cYszuGaptkk   Yes  ...  Create your own exciting dino rescue missions ...   \n",
       "2LZjLBipdfI    No  ...  Fabio & Fabia's Hair salon is the most loved p...   \n",
       "\n",
       "            upload_date duration view_count            categories  \\\n",
       "stimulus_id                                                         \n",
       "ndzo2ZIWfiQ    20120907       20       3047  ['Autos & Vehicles']   \n",
       "yRUiwRKk6QM    20170920       34      25861     ['Entertainment']   \n",
       "3ysC1-foJT4    20180802       30       2545     ['Entertainment']   \n",
       "cYszuGaptkk    20201028       21    2035695     ['Entertainment']   \n",
       "2LZjLBipdfI    20201106       15       1834     ['Entertainment']   \n",
       "\n",
       "                                                          tags  like_count  \\\n",
       "stimulus_id                                                                  \n",
       "ndzo2ZIWfiQ                                         ['122975']           5   \n",
       "yRUiwRKk6QM  ['Smyths Toys', 'Toys', '(Industry)kids', 'Sta...          46   \n",
       "3ysC1-foJT4  ['Smyths Toys', 'Toys (Industry)', 'kids', 'sm...          19   \n",
       "cYszuGaptkk  ['Smyths Toys', 'Toys (Industry)', 'kids', 'sm...          51   \n",
       "2LZjLBipdfI  ['Smyths Toys', 'Toys (Industry)', 'kids', 'sm...          10   \n",
       "\n",
       "                                           requested_subtitles download  \\\n",
       "stimulus_id                                                               \n",
       "ndzo2ZIWfiQ  {'en': {'ext': 'vtt', 'url': 'https://www.yout...     True   \n",
       "yRUiwRKk6QM                                                NaN     True   \n",
       "3ysC1-foJT4                                                NaN     True   \n",
       "cYszuGaptkk  {'en': {'ext': 'vtt', 'url': 'https://www.yout...     True   \n",
       "2LZjLBipdfI                                                NaN     True   \n",
       "\n",
       "             error_logs  \n",
       "stimulus_id              \n",
       "ndzo2ZIWfiQ         NaN  \n",
       "yRUiwRKk6QM         NaN  \n",
       "3ysC1-foJT4         NaN  \n",
       "cYszuGaptkk         NaN  \n",
       "2LZjLBipdfI         NaN  \n",
       "\n",
       "[5 rows x 23 columns]"
      ]
     },
     "execution_count": 14,
     "metadata": {},
     "output_type": "execute_result"
    }
   ],
   "source": [
    "groundtruth_df = pd.read_csv(\"groundtruth_merged.csv\")\n",
    "groundtruth_df.set_index(\"stimulus_id\", inplace=True)\n",
    "groundtruth_df.head()"
   ]
  },
  {
   "cell_type": "code",
   "execution_count": 15,
   "metadata": {},
   "outputs": [],
   "source": [
    "not_found = 0\n",
    "for stimulus_id in groundtruth_df.index:\n",
    "    if os.path.exists(f\"{modality}/embeddings_{which}/{stimulus_id}{fn_suffix[modality][which]}.npy\"):\n",
    "        continue\n",
    "    else:\n",
    "        print(f\"Embedding for {stimulus_id} not found\")\n",
    "        not_found += 1\n",
    "\n",
    "assert not_found == 0"
   ]
  },
  {
   "cell_type": "markdown",
   "metadata": {},
   "source": [
    "## Load embeddings"
   ]
  },
  {
   "cell_type": "code",
   "execution_count": 16,
   "metadata": {},
   "outputs": [
    {
     "data": {
      "text/plain": [
       "(606, 512)"
      ]
     },
     "execution_count": 16,
     "metadata": {},
     "output_type": "execute_result"
    }
   ],
   "source": [
    "embedding_dim = embedding_dimensions[modality][which]\n",
    "\n",
    "all_embeddings = np.empty((groundtruth_df.shape[0], embedding_dim))\n",
    "\n",
    "for i,stimulus_id in enumerate(groundtruth_df.index):\n",
    "    embedding = np.load(f\"{modality}/embeddings_{which}{'' if voice else '_novoice'}/\" +\n",
    "                        f\"{stimulus_id}{fn_suffix[modality][which]}.npy\")\n",
    "    all_embeddings[i] = embedding.mean(axis=0)\n",
    "\n",
    "all_embeddings.shape"
   ]
  },
  {
   "cell_type": "code",
   "execution_count": 17,
   "metadata": {},
   "outputs": [],
   "source": [
    "classes = [\"Girls/women\", \"Boys/men\"] if n_classes==2 else [\"Girls/women\", \"Mixed\", \"Boys/men\"]\n",
    "mask = groundtruth_df.target.isin(classes) \n",
    "\n",
    "X = all_embeddings[mask]\n",
    "y = groundtruth_df.target[mask].values\n",
    "\n",
    "# convert to integers\n",
    "le = LabelEncoder()\n",
    "y = le.fit_transform(y)"
   ]
  },
  {
   "cell_type": "code",
   "execution_count": 18,
   "metadata": {},
   "outputs": [
    {
     "name": "stdout",
     "output_type": "stream",
     "text": [
      "              precision    recall  f1-score   support\n",
      "\n",
      " Girls/women       0.68      0.79      0.73        34\n",
      "       Mixed       0.76      0.73      0.75        30\n",
      "    Boys/men       0.62      0.54      0.58        39\n",
      "\n",
      "    accuracy                           0.68       103\n",
      "   macro avg       0.68      0.69      0.68       103\n",
      "weighted avg       0.68      0.68      0.68       103\n",
      "\n",
      "              precision    recall  f1-score   support\n",
      "\n",
      " Girls/women       0.77      0.64      0.70        36\n",
      "       Mixed       0.62      0.77      0.69        30\n",
      "    Boys/men       0.50      0.49      0.49        37\n",
      "\n",
      "    accuracy                           0.62       103\n",
      "   macro avg       0.63      0.63      0.63       103\n",
      "weighted avg       0.63      0.62      0.62       103\n",
      "\n",
      "              precision    recall  f1-score   support\n",
      "\n",
      " Girls/women       0.83      0.66      0.73        29\n",
      "       Mixed       0.73      0.77      0.75        35\n",
      "    Boys/men       0.60      0.66      0.62        38\n",
      "\n",
      "    accuracy                           0.70       102\n",
      "   macro avg       0.72      0.69      0.70       102\n",
      "weighted avg       0.71      0.70      0.70       102\n",
      "\n",
      "              precision    recall  f1-score   support\n",
      "\n",
      " Girls/women       0.64      0.78      0.70        27\n",
      "       Mixed       0.74      0.74      0.74        34\n",
      "    Boys/men       0.57      0.49      0.53        41\n",
      "\n",
      "    accuracy                           0.65       102\n",
      "   macro avg       0.65      0.67      0.65       102\n",
      "weighted avg       0.64      0.65      0.64       102\n",
      "\n",
      "              precision    recall  f1-score   support\n",
      "\n",
      " Girls/women       0.68      0.65      0.67        23\n",
      "       Mixed       0.69      0.71      0.70        34\n",
      "    Boys/men       0.62      0.62      0.62        45\n",
      "\n",
      "    accuracy                           0.66       102\n",
      "   macro avg       0.66      0.66      0.66       102\n",
      "weighted avg       0.66      0.66      0.66       102\n",
      "\n"
     ]
    }
   ],
   "source": [
    "# k-fold cross-validation with xgboost\n",
    "kf = KFold(n_splits=5, shuffle=True, random_state=42)\n",
    "\n",
    "accuracies = []\n",
    "f1s = []\n",
    "for train_index, test_index in kf.split(X):\n",
    "    X_train, X_test = X[train_index], X[test_index]\n",
    "    y_train, y_test = y[train_index], y[test_index]\n",
    "    \n",
    "    dtrain = xgb.DMatrix(X_train, label=y_train)\n",
    "    dtest = xgb.DMatrix(X_test, label=y_test)\n",
    "    \n",
    "    param = {'max_depth': 3, 'eta': 0.3, 'objective': 'multi:softmax', 'num_class': len(classes)}\n",
    "    num_round = 30\n",
    "    bst = xgb.train(param, dtrain, num_round)\n",
    "    \n",
    "    y_pred = bst.predict(dtest)\n",
    "    \n",
    "    accuracies.append(accuracy_score(y_test, y_pred))\n",
    "    f1s.append(f1_score(y_test, y_pred, average='weighted'))\n",
    "\n",
    "    # print classification report\n",
    "    print(classification_report(y_test, y_pred, target_names=classes))\n",
    "\n"
   ]
  },
  {
   "cell_type": "code",
   "execution_count": 19,
   "metadata": {},
   "outputs": [
    {
     "name": "stdout",
     "output_type": "stream",
     "text": [
      "Accuracy: 0.66 ± 0.03\n",
      "F1: 0.66 ± 0.03\n"
     ]
    }
   ],
   "source": [
    "# print results\n",
    "print(f\"Accuracy: {np.mean(accuracies):.2f} ± {np.std(accuracies):.2f}\")\n",
    "print(f\"F1: {np.mean(f1s):.2f} ± {np.std(f1s):.2f}\")"
   ]
  },
  {
   "cell_type": "code",
   "execution_count": 20,
   "metadata": {},
   "outputs": [
    {
     "name": "stdout",
     "output_type": "stream",
     "text": [
      "              precision    recall  f1-score   support\n",
      "\n",
      " Girls/women       0.68      0.68      0.68        34\n",
      "       Mixed       0.81      0.73      0.77        30\n",
      "    Boys/men       0.57      0.62      0.59        39\n",
      "\n",
      "    accuracy                           0.67       103\n",
      "   macro avg       0.69      0.68      0.68       103\n",
      "weighted avg       0.68      0.67      0.67       103\n",
      "\n",
      "              precision    recall  f1-score   support\n",
      "\n",
      " Girls/women       0.80      0.56      0.66        36\n",
      "       Mixed       0.65      0.80      0.72        30\n",
      "    Boys/men       0.46      0.51      0.49        37\n",
      "\n",
      "    accuracy                           0.61       103\n",
      "   macro avg       0.64      0.62      0.62       103\n",
      "weighted avg       0.64      0.61      0.61       103\n",
      "\n",
      "              precision    recall  f1-score   support\n",
      "\n",
      " Girls/women       0.79      0.38      0.51        29\n",
      "       Mixed       0.68      0.66      0.67        35\n",
      "    Boys/men       0.48      0.68      0.57        38\n",
      "\n",
      "    accuracy                           0.59       102\n",
      "   macro avg       0.65      0.57      0.58       102\n",
      "weighted avg       0.63      0.59      0.58       102\n",
      "\n",
      "              precision    recall  f1-score   support\n",
      "\n",
      " Girls/women       0.64      0.67      0.65        27\n",
      "       Mixed       0.81      0.88      0.85        34\n",
      "    Boys/men       0.65      0.59      0.62        41\n",
      "\n",
      "    accuracy                           0.71       102\n",
      "   macro avg       0.70      0.71      0.71       102\n",
      "weighted avg       0.70      0.71      0.70       102\n",
      "\n",
      "              precision    recall  f1-score   support\n",
      "\n",
      " Girls/women       0.75      0.65      0.70        23\n",
      "       Mixed       0.68      0.76      0.72        34\n",
      "    Boys/men       0.66      0.64      0.65        45\n",
      "\n",
      "    accuracy                           0.69       102\n",
      "   macro avg       0.70      0.69      0.69       102\n",
      "weighted avg       0.69      0.69      0.69       102\n",
      "\n",
      "Accuracy: 0.65 ± 0.04\n",
      "F1: 0.65 ± 0.05\n"
     ]
    }
   ],
   "source": [
    "# k-fold cross-validation with SVM\n",
    "from sklearn.svm import SVC\n",
    "\n",
    "accuracies = []\n",
    "f1s = []\n",
    "for train_index, test_index in kf.split(X):\n",
    "    X_train, X_test = X[train_index], X[test_index]\n",
    "    y_train, y_test = y[train_index], y[test_index]\n",
    "    \n",
    "    clf = SVC(gamma='auto')\n",
    "    clf.fit(X_train, y_train)\n",
    "    \n",
    "    y_pred = clf.predict(X_test)\n",
    "    \n",
    "    accuracies.append(accuracy_score(y_test, y_pred))\n",
    "    f1s.append(f1_score(y_test, y_pred, average='weighted'))\n",
    "\n",
    "    # print classification report\n",
    "    print(classification_report(y_test, y_pred, target_names=classes))\n",
    "\n",
    "# print results\n",
    "print(f\"Accuracy: {np.mean(accuracies):.2f} ± {np.std(accuracies):.2f}\")\n",
    "print(f\"F1: {np.mean(f1s):.2f} ± {np.std(f1s):.2f}\")\n"
   ]
  },
  {
   "cell_type": "code",
   "execution_count": 21,
   "metadata": {},
   "outputs": [
    {
     "name": "stderr",
     "output_type": "stream",
     "text": [
      "GPU available: True (cuda), used: True\n",
      "TPU available: False, using: 0 TPU cores\n",
      "IPU available: False, using: 0 IPUs\n",
      "HPU available: False, using: 0 HPUs\n",
      "/homes/lm004/.conda/envs/embeddings_pipeline_dev/lib/python3.10/site-packages/pytorch_lightning/trainer/configuration_validator.py:72: PossibleUserWarning: You defined a `validation_step` but have no `val_dataloader`. Skipping val loop.\n",
      "  rank_zero_warn(\n",
      "Initializing distributed: GLOBAL_RANK: 0, MEMBER: 1/4\n",
      "/homes/lm004/.conda/envs/embeddings_pipeline_dev/lib/python3.10/site-packages/pytorch_lightning/trainer/configuration_validator.py:72: PossibleUserWarning: You defined a `validation_step` but have no `val_dataloader`. Skipping val loop.\n",
      "  rank_zero_warn(\n",
      "Initializing distributed: GLOBAL_RANK: 1, MEMBER: 2/4\n",
      "/homes/lm004/.conda/envs/embeddings_pipeline_dev/lib/python3.10/site-packages/pytorch_lightning/trainer/configuration_validator.py:72: PossibleUserWarning: You defined a `validation_step` but have no `val_dataloader`. Skipping val loop.\n",
      "  rank_zero_warn(\n",
      "Initializing distributed: GLOBAL_RANK: 2, MEMBER: 3/4\n",
      "/homes/lm004/.conda/envs/embeddings_pipeline_dev/lib/python3.10/site-packages/pytorch_lightning/trainer/configuration_validator.py:72: PossibleUserWarning: You defined a `validation_step` but have no `val_dataloader`. Skipping val loop.\n",
      "  rank_zero_warn(\n",
      "Initializing distributed: GLOBAL_RANK: 3, MEMBER: 4/4\n",
      "----------------------------------------------------------------------------------------------------\n",
      "distributed_backend=nccl\n",
      "All distributed processes registered. Starting with 4 processes\n",
      "----------------------------------------------------------------------------------------------------\n",
      "\n",
      "LOCAL_RANK: 0 - CUDA_VISIBLE_DEVICES: [0,1,2,3]\n",
      "LOCAL_RANK: 1 - CUDA_VISIBLE_DEVICES: [0,1,2,3]\n",
      "LOCAL_RANK: 2 - CUDA_VISIBLE_DEVICES: [0,1,2,3]\n",
      "LOCAL_RANK: 3 - CUDA_VISIBLE_DEVICES: [0,1,2,3]\n",
      "\n",
      "  | Name | Type        | Params\n",
      "-------------------------------------\n",
      "0 | bn   | BatchNorm1d | 1.0 K \n",
      "1 | fc1  | Linear      | 131 K \n",
      "2 | fc2  | Linear      | 32.9 K\n",
      "3 | drop | Dropout     | 0     \n",
      "4 | fc3  | Linear      | 387   \n",
      "-------------------------------------\n",
      "165 K     Trainable params\n",
      "0         Non-trainable params\n",
      "165 K     Total params\n",
      "0.663     Total estimated model params size (MB)\n",
      "/homes/lm004/.conda/envs/embeddings_pipeline_dev/lib/python3.10/site-packages/pytorch_lightning/loops/fit_loop.py:280: PossibleUserWarning: The number of training batches (13) is smaller than the logging interval Trainer(log_every_n_steps=50). Set a lower value for log_every_n_steps if you want to see logs for the training epoch.\n",
      "  rank_zero_warn(\n"
     ]
    },
    {
     "data": {
      "application/vnd.jupyter.widget-view+json": {
       "model_id": "d05f455689534b37b2d4230f4724bc75",
       "version_major": 2,
       "version_minor": 0
      },
      "text/plain": [
       "Training: 0it [00:00, ?it/s]"
      ]
     },
     "metadata": {},
     "output_type": "display_data"
    },
    {
     "name": "stderr",
     "output_type": "stream",
     "text": [
      "`Trainer.fit` stopped: `max_epochs=30` reached.\n",
      "Initializing distributed: GLOBAL_RANK: 0, MEMBER: 1/4\n",
      "Initializing distributed: GLOBAL_RANK: 1, MEMBER: 2/4\n",
      "Initializing distributed: GLOBAL_RANK: 2, MEMBER: 3/4\n",
      "Initializing distributed: GLOBAL_RANK: 3, MEMBER: 4/4\n",
      "----------------------------------------------------------------------------------------------------\n",
      "distributed_backend=nccl\n",
      "All distributed processes registered. Starting with 4 processes\n",
      "----------------------------------------------------------------------------------------------------\n",
      "\n",
      "LOCAL_RANK: 0 - CUDA_VISIBLE_DEVICES: [0,1,2,3]\n",
      "LOCAL_RANK: 1 - CUDA_VISIBLE_DEVICES: [0,1,2,3]\n",
      "LOCAL_RANK: 2 - CUDA_VISIBLE_DEVICES: [0,1,2,3]\n",
      "LOCAL_RANK: 3 - CUDA_VISIBLE_DEVICES: [0,1,2,3]\n",
      "/homes/lm004/.conda/envs/embeddings_pipeline_dev/lib/python3.10/site-packages/pytorch_lightning/trainer/connectors/data_connector.py:225: PossibleUserWarning: Using `DistributedSampler` with the dataloaders. During `trainer.test()`, it is recommended to use `Trainer(devices=1, num_nodes=1)` to ensure each sample/batch gets evaluated exactly once. Otherwise, multi-device settings use `DistributedSampler` that replicates some samples to make sure all devices have same batch size in case of uneven inputs.\n",
      "  rank_zero_warn(\n"
     ]
    },
    {
     "data": {
      "application/vnd.jupyter.widget-view+json": {
       "model_id": "c593a24045a042b58c557263cbcc3ea7",
       "version_major": 2,
       "version_minor": 0
      },
      "text/plain": [
       "Testing: 0it [00:00, ?it/s]"
      ]
     },
     "metadata": {},
     "output_type": "display_data"
    },
    {
     "name": "stderr",
     "output_type": "stream",
     "text": [
      "/homes/lm004/.conda/envs/embeddings_pipeline_dev/lib/python3.10/site-packages/pytorch_lightning/trainer/connectors/logger_connector/result.py:432: PossibleUserWarning: It is recommended to use `self.log('test_loss', ..., sync_dist=True)` when logging on epoch level in distributed setting to accumulate the metric across devices.\n",
      "  warning_cache.warn(\n"
     ]
    },
    {
     "name": "stdout",
     "output_type": "stream",
     "text": [
      "────────────────────────────────────────────────────────────────────────────────────────────────────────────────────────\n",
      "       Test metric             DataLoader 0\n",
      "────────────────────────────────────────────────────────────────────────────────────────────────────────────────────────\n",
      "        test_loss           1.9232308864593506\n",
      "────────────────────────────────────────────────────────────────────────────────────────────────────────────────────────\n"
     ]
    },
    {
     "name": "stderr",
     "output_type": "stream",
     "text": [
      "GPU available: True (cuda), used: True\n",
      "TPU available: False, using: 0 TPU cores\n",
      "IPU available: False, using: 0 IPUs\n",
      "HPU available: False, using: 0 HPUs\n"
     ]
    },
    {
     "name": "stdout",
     "output_type": "stream",
     "text": [
      "              precision    recall  f1-score   support\n",
      "\n",
      " Girls/women       0.70      0.62      0.66        34\n",
      "       Mixed       0.85      0.73      0.79        30\n",
      "    Boys/men       0.55      0.67      0.60        39\n",
      "\n",
      "    accuracy                           0.67       103\n",
      "   macro avg       0.70      0.67      0.68       103\n",
      "weighted avg       0.69      0.67      0.67       103\n",
      "\n"
     ]
    },
    {
     "name": "stderr",
     "output_type": "stream",
     "text": [
      "/homes/lm004/.conda/envs/embeddings_pipeline_dev/lib/python3.10/site-packages/pytorch_lightning/trainer/configuration_validator.py:72: PossibleUserWarning: You defined a `validation_step` but have no `val_dataloader`. Skipping val loop.\n",
      "  rank_zero_warn(\n",
      "Initializing distributed: GLOBAL_RANK: 0, MEMBER: 1/4\n",
      "/homes/lm004/.conda/envs/embeddings_pipeline_dev/lib/python3.10/site-packages/pytorch_lightning/trainer/configuration_validator.py:72: PossibleUserWarning: You defined a `validation_step` but have no `val_dataloader`. Skipping val loop.\n",
      "  rank_zero_warn(\n",
      "Initializing distributed: GLOBAL_RANK: 1, MEMBER: 2/4\n",
      "/homes/lm004/.conda/envs/embeddings_pipeline_dev/lib/python3.10/site-packages/pytorch_lightning/trainer/configuration_validator.py:72: PossibleUserWarning: You defined a `validation_step` but have no `val_dataloader`. Skipping val loop.\n",
      "  rank_zero_warn(\n",
      "Initializing distributed: GLOBAL_RANK: 2, MEMBER: 3/4\n",
      "/homes/lm004/.conda/envs/embeddings_pipeline_dev/lib/python3.10/site-packages/pytorch_lightning/trainer/configuration_validator.py:72: PossibleUserWarning: You defined a `validation_step` but have no `val_dataloader`. Skipping val loop.\n",
      "  rank_zero_warn(\n",
      "Initializing distributed: GLOBAL_RANK: 3, MEMBER: 4/4\n",
      "----------------------------------------------------------------------------------------------------\n",
      "distributed_backend=nccl\n",
      "All distributed processes registered. Starting with 4 processes\n",
      "----------------------------------------------------------------------------------------------------\n",
      "\n",
      "LOCAL_RANK: 1 - CUDA_VISIBLE_DEVICES: [0,1,2,3]\n",
      "LOCAL_RANK: 0 - CUDA_VISIBLE_DEVICES: [0,1,2,3]\n",
      "LOCAL_RANK: 2 - CUDA_VISIBLE_DEVICES: [0,1,2,3]\n",
      "LOCAL_RANK: 3 - CUDA_VISIBLE_DEVICES: [0,1,2,3]\n",
      "\n",
      "  | Name | Type        | Params\n",
      "-------------------------------------\n",
      "0 | bn   | BatchNorm1d | 1.0 K \n",
      "1 | fc1  | Linear      | 131 K \n",
      "2 | fc2  | Linear      | 32.9 K\n",
      "3 | drop | Dropout     | 0     \n",
      "4 | fc3  | Linear      | 387   \n",
      "-------------------------------------\n",
      "165 K     Trainable params\n",
      "0         Non-trainable params\n",
      "165 K     Total params\n",
      "0.663     Total estimated model params size (MB)\n",
      "/homes/lm004/.conda/envs/embeddings_pipeline_dev/lib/python3.10/site-packages/pytorch_lightning/loops/fit_loop.py:280: PossibleUserWarning: The number of training batches (13) is smaller than the logging interval Trainer(log_every_n_steps=50). Set a lower value for log_every_n_steps if you want to see logs for the training epoch.\n",
      "  rank_zero_warn(\n"
     ]
    },
    {
     "data": {
      "application/vnd.jupyter.widget-view+json": {
       "model_id": "cce0ba3b199346719ce678d19066d141",
       "version_major": 2,
       "version_minor": 0
      },
      "text/plain": [
       "Training: 0it [00:00, ?it/s]"
      ]
     },
     "metadata": {},
     "output_type": "display_data"
    },
    {
     "name": "stderr",
     "output_type": "stream",
     "text": [
      "`Trainer.fit` stopped: `max_epochs=30` reached.\n",
      "Initializing distributed: GLOBAL_RANK: 0, MEMBER: 1/4\n",
      "Initializing distributed: GLOBAL_RANK: 1, MEMBER: 2/4\n",
      "Initializing distributed: GLOBAL_RANK: 2, MEMBER: 3/4\n",
      "Initializing distributed: GLOBAL_RANK: 3, MEMBER: 4/4\n",
      "----------------------------------------------------------------------------------------------------\n",
      "distributed_backend=nccl\n",
      "All distributed processes registered. Starting with 4 processes\n",
      "----------------------------------------------------------------------------------------------------\n",
      "\n",
      "LOCAL_RANK: 0 - CUDA_VISIBLE_DEVICES: [0,1,2,3]\n",
      "LOCAL_RANK: 2 - CUDA_VISIBLE_DEVICES: [0,1,2,3]\n",
      "LOCAL_RANK: 1 - CUDA_VISIBLE_DEVICES: [0,1,2,3]\n",
      "LOCAL_RANK: 3 - CUDA_VISIBLE_DEVICES: [0,1,2,3]\n",
      "Traceback (most recent call last):\n",
      "  File \"/homes/lm004/.conda/envs/embeddings_pipeline_dev/lib/python3.10/multiprocessing/util.py\", line 300, in _run_finalizers\n",
      "    finalizer()\n",
      "  File \"/homes/lm004/.conda/envs/embeddings_pipeline_dev/lib/python3.10/multiprocessing/util.py\", line 224, in __call__\n",
      "    res = self._callback(*self._args, **self._kwargs)\n",
      "  File \"/homes/lm004/.conda/envs/embeddings_pipeline_dev/lib/python3.10/multiprocessing/util.py\", line 133, in _remove_temp_dir\n",
      "    rmtree(tempdir)\n",
      "  File \"/homes/lm004/.conda/envs/embeddings_pipeline_dev/lib/python3.10/shutil.py\", line 731, in rmtree\n",
      "    onerror(os.rmdir, path, sys.exc_info())\n",
      "  File \"/homes/lm004/.conda/envs/embeddings_pipeline_dev/lib/python3.10/shutil.py\", line 729, in rmtree\n",
      "    os.rmdir(path)\n",
      "OSError: [Errno 39] Directory not empty: '/tmp/pymp-noepodl7'\n",
      "/homes/lm004/.conda/envs/embeddings_pipeline_dev/lib/python3.10/site-packages/pytorch_lightning/trainer/connectors/data_connector.py:225: PossibleUserWarning: Using `DistributedSampler` with the dataloaders. During `trainer.test()`, it is recommended to use `Trainer(devices=1, num_nodes=1)` to ensure each sample/batch gets evaluated exactly once. Otherwise, multi-device settings use `DistributedSampler` that replicates some samples to make sure all devices have same batch size in case of uneven inputs.\n",
      "  rank_zero_warn(\n"
     ]
    },
    {
     "data": {
      "application/vnd.jupyter.widget-view+json": {
       "model_id": "4426ea4db61a4873ad5757fa9209da40",
       "version_major": 2,
       "version_minor": 0
      },
      "text/plain": [
       "Testing: 0it [00:00, ?it/s]"
      ]
     },
     "metadata": {},
     "output_type": "display_data"
    },
    {
     "name": "stderr",
     "output_type": "stream",
     "text": [
      "/homes/lm004/.conda/envs/embeddings_pipeline_dev/lib/python3.10/site-packages/pytorch_lightning/trainer/connectors/logger_connector/result.py:432: PossibleUserWarning: It is recommended to use `self.log('test_loss', ..., sync_dist=True)` when logging on epoch level in distributed setting to accumulate the metric across devices.\n",
      "  warning_cache.warn(\n"
     ]
    },
    {
     "name": "stdout",
     "output_type": "stream",
     "text": [
      "────────────────────────────────────────────────────────────────────────────────────────────────────────────────────────\n",
      "       Test metric             DataLoader 0\n",
      "────────────────────────────────────────────────────────────────────────────────────────────────────────────────────────\n",
      "        test_loss           1.3637747764587402\n",
      "────────────────────────────────────────────────────────────────────────────────────────────────────────────────────────\n"
     ]
    },
    {
     "name": "stderr",
     "output_type": "stream",
     "text": [
      "GPU available: True (cuda), used: True\n",
      "TPU available: False, using: 0 TPU cores\n",
      "IPU available: False, using: 0 IPUs\n",
      "HPU available: False, using: 0 HPUs\n"
     ]
    },
    {
     "name": "stdout",
     "output_type": "stream",
     "text": [
      "              precision    recall  f1-score   support\n",
      "\n",
      " Girls/women       0.88      0.58      0.70        36\n",
      "       Mixed       0.70      0.77      0.73        30\n",
      "    Boys/men       0.54      0.68      0.60        37\n",
      "\n",
      "    accuracy                           0.67       103\n",
      "   macro avg       0.71      0.68      0.68       103\n",
      "weighted avg       0.70      0.67      0.67       103\n",
      "\n"
     ]
    },
    {
     "name": "stderr",
     "output_type": "stream",
     "text": [
      "/homes/lm004/.conda/envs/embeddings_pipeline_dev/lib/python3.10/site-packages/pytorch_lightning/trainer/configuration_validator.py:72: PossibleUserWarning: You defined a `validation_step` but have no `val_dataloader`. Skipping val loop.\n",
      "  rank_zero_warn(\n",
      "Initializing distributed: GLOBAL_RANK: 0, MEMBER: 1/4\n",
      "Initializing distributed: GLOBAL_RANK: 1, MEMBER: 2/4\n",
      "/homes/lm004/.conda/envs/embeddings_pipeline_dev/lib/python3.10/site-packages/pytorch_lightning/trainer/configuration_validator.py:72: PossibleUserWarning: You defined a `validation_step` but have no `val_dataloader`. Skipping val loop.\n",
      "  rank_zero_warn(\n",
      "/homes/lm004/.conda/envs/embeddings_pipeline_dev/lib/python3.10/site-packages/pytorch_lightning/trainer/configuration_validator.py:72: PossibleUserWarning: You defined a `validation_step` but have no `val_dataloader`. Skipping val loop.\n",
      "  rank_zero_warn(\n",
      "Initializing distributed: GLOBAL_RANK: 2, MEMBER: 3/4\n",
      "/homes/lm004/.conda/envs/embeddings_pipeline_dev/lib/python3.10/site-packages/pytorch_lightning/trainer/configuration_validator.py:72: PossibleUserWarning: You defined a `validation_step` but have no `val_dataloader`. Skipping val loop.\n",
      "  rank_zero_warn(\n",
      "Initializing distributed: GLOBAL_RANK: 3, MEMBER: 4/4\n",
      "----------------------------------------------------------------------------------------------------\n",
      "distributed_backend=nccl\n",
      "All distributed processes registered. Starting with 4 processes\n",
      "----------------------------------------------------------------------------------------------------\n",
      "\n",
      "LOCAL_RANK: 0 - CUDA_VISIBLE_DEVICES: [0,1,2,3]\n",
      "LOCAL_RANK: 1 - CUDA_VISIBLE_DEVICES: [0,1,2,3]\n",
      "LOCAL_RANK: 2 - CUDA_VISIBLE_DEVICES: [0,1,2,3]\n",
      "LOCAL_RANK: 3 - CUDA_VISIBLE_DEVICES: [0,1,2,3]\n",
      "\n",
      "  | Name | Type        | Params\n",
      "-------------------------------------\n",
      "0 | bn   | BatchNorm1d | 1.0 K \n",
      "1 | fc1  | Linear      | 131 K \n",
      "2 | fc2  | Linear      | 32.9 K\n",
      "3 | drop | Dropout     | 0     \n",
      "4 | fc3  | Linear      | 387   \n",
      "-------------------------------------\n",
      "165 K     Trainable params\n",
      "0         Non-trainable params\n",
      "165 K     Total params\n",
      "0.663     Total estimated model params size (MB)\n",
      "/homes/lm004/.conda/envs/embeddings_pipeline_dev/lib/python3.10/site-packages/pytorch_lightning/loops/fit_loop.py:280: PossibleUserWarning: The number of training batches (13) is smaller than the logging interval Trainer(log_every_n_steps=50). Set a lower value for log_every_n_steps if you want to see logs for the training epoch.\n",
      "  rank_zero_warn(\n"
     ]
    },
    {
     "data": {
      "application/vnd.jupyter.widget-view+json": {
       "model_id": "cba09ed9d1334039a0fa8ad98749dde9",
       "version_major": 2,
       "version_minor": 0
      },
      "text/plain": [
       "Training: 0it [00:00, ?it/s]"
      ]
     },
     "metadata": {},
     "output_type": "display_data"
    },
    {
     "name": "stderr",
     "output_type": "stream",
     "text": [
      "`Trainer.fit` stopped: `max_epochs=30` reached.\n",
      "Initializing distributed: GLOBAL_RANK: 0, MEMBER: 1/4\n",
      "Initializing distributed: GLOBAL_RANK: 1, MEMBER: 2/4\n",
      "Initializing distributed: GLOBAL_RANK: 2, MEMBER: 3/4\n",
      "Initializing distributed: GLOBAL_RANK: 3, MEMBER: 4/4\n",
      "----------------------------------------------------------------------------------------------------\n",
      "distributed_backend=nccl\n",
      "All distributed processes registered. Starting with 4 processes\n",
      "----------------------------------------------------------------------------------------------------\n",
      "\n",
      "LOCAL_RANK: 0 - CUDA_VISIBLE_DEVICES: [0,1,2,3]\n",
      "LOCAL_RANK: 1 - CUDA_VISIBLE_DEVICES: [0,1,2,3]\n",
      "LOCAL_RANK: 3 - CUDA_VISIBLE_DEVICES: [0,1,2,3]\n",
      "LOCAL_RANK: 2 - CUDA_VISIBLE_DEVICES: [0,1,2,3]\n",
      "/homes/lm004/.conda/envs/embeddings_pipeline_dev/lib/python3.10/site-packages/pytorch_lightning/trainer/connectors/data_connector.py:225: PossibleUserWarning: Using `DistributedSampler` with the dataloaders. During `trainer.test()`, it is recommended to use `Trainer(devices=1, num_nodes=1)` to ensure each sample/batch gets evaluated exactly once. Otherwise, multi-device settings use `DistributedSampler` that replicates some samples to make sure all devices have same batch size in case of uneven inputs.\n",
      "  rank_zero_warn(\n"
     ]
    },
    {
     "data": {
      "application/vnd.jupyter.widget-view+json": {
       "model_id": "bd0ccbcb0bad4af0b6808585c918126c",
       "version_major": 2,
       "version_minor": 0
      },
      "text/plain": [
       "Testing: 0it [00:00, ?it/s]"
      ]
     },
     "metadata": {},
     "output_type": "display_data"
    },
    {
     "name": "stderr",
     "output_type": "stream",
     "text": [
      "/homes/lm004/.conda/envs/embeddings_pipeline_dev/lib/python3.10/site-packages/pytorch_lightning/trainer/connectors/logger_connector/result.py:432: PossibleUserWarning: It is recommended to use `self.log('test_loss', ..., sync_dist=True)` when logging on epoch level in distributed setting to accumulate the metric across devices.\n",
      "  warning_cache.warn(\n"
     ]
    },
    {
     "name": "stdout",
     "output_type": "stream",
     "text": [
      "────────────────────────────────────────────────────────────────────────────────────────────────────────────────────────\n",
      "       Test metric             DataLoader 0\n",
      "────────────────────────────────────────────────────────────────────────────────────────────────────────────────────────\n",
      "        test_loss           1.0702769756317139\n",
      "────────────────────────────────────────────────────────────────────────────────────────────────────────────────────────\n"
     ]
    },
    {
     "name": "stderr",
     "output_type": "stream",
     "text": [
      "GPU available: True (cuda), used: True\n",
      "TPU available: False, using: 0 TPU cores\n",
      "IPU available: False, using: 0 IPUs\n",
      "HPU available: False, using: 0 HPUs\n"
     ]
    },
    {
     "name": "stdout",
     "output_type": "stream",
     "text": [
      "              precision    recall  f1-score   support\n",
      "\n",
      " Girls/women       0.64      0.55      0.59        29\n",
      "       Mixed       0.79      0.77      0.78        35\n",
      "    Boys/men       0.56      0.63      0.59        38\n",
      "\n",
      "    accuracy                           0.66       102\n",
      "   macro avg       0.66      0.65      0.66       102\n",
      "weighted avg       0.66      0.66      0.66       102\n",
      "\n"
     ]
    },
    {
     "name": "stderr",
     "output_type": "stream",
     "text": [
      "/homes/lm004/.conda/envs/embeddings_pipeline_dev/lib/python3.10/site-packages/pytorch_lightning/trainer/configuration_validator.py:72: PossibleUserWarning: You defined a `validation_step` but have no `val_dataloader`. Skipping val loop.\n",
      "  rank_zero_warn(\n",
      "Initializing distributed: GLOBAL_RANK: 0, MEMBER: 1/4\n",
      "/homes/lm004/.conda/envs/embeddings_pipeline_dev/lib/python3.10/site-packages/pytorch_lightning/trainer/configuration_validator.py:72: PossibleUserWarning: You defined a `validation_step` but have no `val_dataloader`. Skipping val loop.\n",
      "  rank_zero_warn(\n",
      "Initializing distributed: GLOBAL_RANK: 1, MEMBER: 2/4\n",
      "/homes/lm004/.conda/envs/embeddings_pipeline_dev/lib/python3.10/site-packages/pytorch_lightning/trainer/configuration_validator.py:72: PossibleUserWarning: You defined a `validation_step` but have no `val_dataloader`. Skipping val loop.\n",
      "  rank_zero_warn(\n",
      "Initializing distributed: GLOBAL_RANK: 2, MEMBER: 3/4\n",
      "/homes/lm004/.conda/envs/embeddings_pipeline_dev/lib/python3.10/site-packages/pytorch_lightning/trainer/configuration_validator.py:72: PossibleUserWarning: You defined a `validation_step` but have no `val_dataloader`. Skipping val loop.\n",
      "  rank_zero_warn(\n",
      "Initializing distributed: GLOBAL_RANK: 3, MEMBER: 4/4\n",
      "----------------------------------------------------------------------------------------------------\n",
      "distributed_backend=nccl\n",
      "All distributed processes registered. Starting with 4 processes\n",
      "----------------------------------------------------------------------------------------------------\n",
      "\n",
      "LOCAL_RANK: 0 - CUDA_VISIBLE_DEVICES: [0,1,2,3]\n",
      "LOCAL_RANK: 1 - CUDA_VISIBLE_DEVICES: [0,1,2,3]\n",
      "LOCAL_RANK: 2 - CUDA_VISIBLE_DEVICES: [0,1,2,3]\n",
      "LOCAL_RANK: 3 - CUDA_VISIBLE_DEVICES: [0,1,2,3]\n",
      "\n",
      "  | Name | Type        | Params\n",
      "-------------------------------------\n",
      "0 | bn   | BatchNorm1d | 1.0 K \n",
      "1 | fc1  | Linear      | 131 K \n",
      "2 | fc2  | Linear      | 32.9 K\n",
      "3 | drop | Dropout     | 0     \n",
      "4 | fc3  | Linear      | 387   \n",
      "-------------------------------------\n",
      "165 K     Trainable params\n",
      "0         Non-trainable params\n",
      "165 K     Total params\n",
      "0.663     Total estimated model params size (MB)\n",
      "/homes/lm004/.conda/envs/embeddings_pipeline_dev/lib/python3.10/site-packages/pytorch_lightning/loops/fit_loop.py:280: PossibleUserWarning: The number of training batches (13) is smaller than the logging interval Trainer(log_every_n_steps=50). Set a lower value for log_every_n_steps if you want to see logs for the training epoch.\n",
      "  rank_zero_warn(\n"
     ]
    },
    {
     "data": {
      "application/vnd.jupyter.widget-view+json": {
       "model_id": "9380a0a9c34041bda1a1293c7c065203",
       "version_major": 2,
       "version_minor": 0
      },
      "text/plain": [
       "Training: 0it [00:00, ?it/s]"
      ]
     },
     "metadata": {},
     "output_type": "display_data"
    },
    {
     "name": "stderr",
     "output_type": "stream",
     "text": [
      "`Trainer.fit` stopped: `max_epochs=30` reached.\n",
      "Initializing distributed: GLOBAL_RANK: 0, MEMBER: 1/4\n",
      "Initializing distributed: GLOBAL_RANK: 1, MEMBER: 2/4\n",
      "Initializing distributed: GLOBAL_RANK: 2, MEMBER: 3/4\n",
      "Initializing distributed: GLOBAL_RANK: 3, MEMBER: 4/4\n",
      "----------------------------------------------------------------------------------------------------\n",
      "distributed_backend=nccl\n",
      "All distributed processes registered. Starting with 4 processes\n",
      "----------------------------------------------------------------------------------------------------\n",
      "\n",
      "LOCAL_RANK: 0 - CUDA_VISIBLE_DEVICES: [0,1,2,3]\n",
      "LOCAL_RANK: 1 - CUDA_VISIBLE_DEVICES: [0,1,2,3]\n",
      "LOCAL_RANK: 2 - CUDA_VISIBLE_DEVICES: [0,1,2,3]\n",
      "LOCAL_RANK: 3 - CUDA_VISIBLE_DEVICES: [0,1,2,3]\n",
      "/homes/lm004/.conda/envs/embeddings_pipeline_dev/lib/python3.10/site-packages/pytorch_lightning/trainer/connectors/data_connector.py:225: PossibleUserWarning: Using `DistributedSampler` with the dataloaders. During `trainer.test()`, it is recommended to use `Trainer(devices=1, num_nodes=1)` to ensure each sample/batch gets evaluated exactly once. Otherwise, multi-device settings use `DistributedSampler` that replicates some samples to make sure all devices have same batch size in case of uneven inputs.\n",
      "  rank_zero_warn(\n"
     ]
    },
    {
     "data": {
      "application/vnd.jupyter.widget-view+json": {
       "model_id": "231dd0ddbdba49dd922603e3df8e7962",
       "version_major": 2,
       "version_minor": 0
      },
      "text/plain": [
       "Testing: 0it [00:00, ?it/s]"
      ]
     },
     "metadata": {},
     "output_type": "display_data"
    },
    {
     "name": "stderr",
     "output_type": "stream",
     "text": [
      "/homes/lm004/.conda/envs/embeddings_pipeline_dev/lib/python3.10/site-packages/pytorch_lightning/trainer/connectors/logger_connector/result.py:432: PossibleUserWarning: It is recommended to use `self.log('test_loss', ..., sync_dist=True)` when logging on epoch level in distributed setting to accumulate the metric across devices.\n",
      "  warning_cache.warn(\n"
     ]
    },
    {
     "name": "stdout",
     "output_type": "stream",
     "text": [
      "────────────────────────────────────────────────────────────────────────────────────────────────────────────────────────\n",
      "       Test metric             DataLoader 0\n",
      "────────────────────────────────────────────────────────────────────────────────────────────────────────────────────────\n",
      "        test_loss           1.2938134670257568\n",
      "────────────────────────────────────────────────────────────────────────────────────────────────────────────────────────\n"
     ]
    },
    {
     "name": "stderr",
     "output_type": "stream",
     "text": [
      "GPU available: True (cuda), used: True\n",
      "TPU available: False, using: 0 TPU cores\n",
      "IPU available: False, using: 0 IPUs\n",
      "HPU available: False, using: 0 HPUs\n"
     ]
    },
    {
     "name": "stdout",
     "output_type": "stream",
     "text": [
      "              precision    recall  f1-score   support\n",
      "\n",
      " Girls/women       0.59      0.81      0.69        27\n",
      "       Mixed       0.77      0.71      0.74        34\n",
      "    Boys/men       0.65      0.54      0.59        41\n",
      "\n",
      "    accuracy                           0.67       102\n",
      "   macro avg       0.67      0.69      0.67       102\n",
      "weighted avg       0.68      0.67      0.66       102\n",
      "\n"
     ]
    },
    {
     "name": "stderr",
     "output_type": "stream",
     "text": [
      "/homes/lm004/.conda/envs/embeddings_pipeline_dev/lib/python3.10/site-packages/pytorch_lightning/trainer/configuration_validator.py:72: PossibleUserWarning: You defined a `validation_step` but have no `val_dataloader`. Skipping val loop.\n",
      "  rank_zero_warn(\n",
      "Initializing distributed: GLOBAL_RANK: 0, MEMBER: 1/4\n",
      "/homes/lm004/.conda/envs/embeddings_pipeline_dev/lib/python3.10/site-packages/pytorch_lightning/trainer/configuration_validator.py:72: PossibleUserWarning: You defined a `validation_step` but have no `val_dataloader`. Skipping val loop.\n",
      "  rank_zero_warn(\n",
      "Initializing distributed: GLOBAL_RANK: 1, MEMBER: 2/4\n",
      "/homes/lm004/.conda/envs/embeddings_pipeline_dev/lib/python3.10/site-packages/pytorch_lightning/trainer/configuration_validator.py:72: PossibleUserWarning: You defined a `validation_step` but have no `val_dataloader`. Skipping val loop.\n",
      "  rank_zero_warn(\n",
      "/homes/lm004/.conda/envs/embeddings_pipeline_dev/lib/python3.10/site-packages/pytorch_lightning/trainer/configuration_validator.py:72: PossibleUserWarning: You defined a `validation_step` but have no `val_dataloader`. Skipping val loop.\n",
      "  rank_zero_warn(\n",
      "Initializing distributed: GLOBAL_RANK: 3, MEMBER: 4/4\n",
      "Initializing distributed: GLOBAL_RANK: 2, MEMBER: 3/4\n",
      "----------------------------------------------------------------------------------------------------\n",
      "distributed_backend=nccl\n",
      "All distributed processes registered. Starting with 4 processes\n",
      "----------------------------------------------------------------------------------------------------\n",
      "\n",
      "LOCAL_RANK: 0 - CUDA_VISIBLE_DEVICES: [0,1,2,3]\n",
      "LOCAL_RANK: 1 - CUDA_VISIBLE_DEVICES: [0,1,2,3]\n",
      "LOCAL_RANK: 2 - CUDA_VISIBLE_DEVICES: [0,1,2,3]\n",
      "LOCAL_RANK: 3 - CUDA_VISIBLE_DEVICES: [0,1,2,3]\n",
      "\n",
      "  | Name | Type        | Params\n",
      "-------------------------------------\n",
      "0 | bn   | BatchNorm1d | 1.0 K \n",
      "1 | fc1  | Linear      | 131 K \n",
      "2 | fc2  | Linear      | 32.9 K\n",
      "3 | drop | Dropout     | 0     \n",
      "4 | fc3  | Linear      | 387   \n",
      "-------------------------------------\n",
      "165 K     Trainable params\n",
      "0         Non-trainable params\n",
      "165 K     Total params\n",
      "0.663     Total estimated model params size (MB)\n",
      "/homes/lm004/.conda/envs/embeddings_pipeline_dev/lib/python3.10/site-packages/pytorch_lightning/loops/fit_loop.py:280: PossibleUserWarning: The number of training batches (13) is smaller than the logging interval Trainer(log_every_n_steps=50). Set a lower value for log_every_n_steps if you want to see logs for the training epoch.\n",
      "  rank_zero_warn(\n"
     ]
    },
    {
     "data": {
      "application/vnd.jupyter.widget-view+json": {
       "model_id": "486fb0883eb34df7ab87722aa6dbf4ec",
       "version_major": 2,
       "version_minor": 0
      },
      "text/plain": [
       "Training: 0it [00:00, ?it/s]"
      ]
     },
     "metadata": {},
     "output_type": "display_data"
    },
    {
     "name": "stderr",
     "output_type": "stream",
     "text": [
      "`Trainer.fit` stopped: `max_epochs=30` reached.\n",
      "Initializing distributed: GLOBAL_RANK: 0, MEMBER: 1/4\n",
      "Initializing distributed: GLOBAL_RANK: 2, MEMBER: 3/4\n",
      "Initializing distributed: GLOBAL_RANK: 1, MEMBER: 2/4\n",
      "Initializing distributed: GLOBAL_RANK: 3, MEMBER: 4/4\n",
      "----------------------------------------------------------------------------------------------------\n",
      "distributed_backend=nccl\n",
      "All distributed processes registered. Starting with 4 processes\n",
      "----------------------------------------------------------------------------------------------------\n",
      "\n",
      "LOCAL_RANK: 0 - CUDA_VISIBLE_DEVICES: [0,1,2,3]\n",
      "LOCAL_RANK: 1 - CUDA_VISIBLE_DEVICES: [0,1,2,3]\n",
      "LOCAL_RANK: 2 - CUDA_VISIBLE_DEVICES: [0,1,2,3]\n",
      "LOCAL_RANK: 3 - CUDA_VISIBLE_DEVICES: [0,1,2,3]\n",
      "/homes/lm004/.conda/envs/embeddings_pipeline_dev/lib/python3.10/site-packages/pytorch_lightning/trainer/connectors/data_connector.py:225: PossibleUserWarning: Using `DistributedSampler` with the dataloaders. During `trainer.test()`, it is recommended to use `Trainer(devices=1, num_nodes=1)` to ensure each sample/batch gets evaluated exactly once. Otherwise, multi-device settings use `DistributedSampler` that replicates some samples to make sure all devices have same batch size in case of uneven inputs.\n",
      "  rank_zero_warn(\n"
     ]
    },
    {
     "data": {
      "application/vnd.jupyter.widget-view+json": {
       "model_id": "433988b4b08f482086deadd30dbb3e23",
       "version_major": 2,
       "version_minor": 0
      },
      "text/plain": [
       "Testing: 0it [00:00, ?it/s]"
      ]
     },
     "metadata": {},
     "output_type": "display_data"
    },
    {
     "name": "stderr",
     "output_type": "stream",
     "text": [
      "/homes/lm004/.conda/envs/embeddings_pipeline_dev/lib/python3.10/site-packages/pytorch_lightning/trainer/connectors/logger_connector/result.py:432: PossibleUserWarning: It is recommended to use `self.log('test_loss', ..., sync_dist=True)` when logging on epoch level in distributed setting to accumulate the metric across devices.\n",
      "  warning_cache.warn(\n"
     ]
    },
    {
     "name": "stdout",
     "output_type": "stream",
     "text": [
      "────────────────────────────────────────────────────────────────────────────────────────────────────────────────────────\n",
      "       Test metric             DataLoader 0\n",
      "────────────────────────────────────────────────────────────────────────────────────────────────────────────────────────\n",
      "        test_loss           2.0617198944091797\n",
      "────────────────────────────────────────────────────────────────────────────────────────────────────────────────────────\n",
      "              precision    recall  f1-score   support\n",
      "\n",
      " Girls/women       0.53      0.78      0.63        23\n",
      "       Mixed       0.63      0.71      0.67        34\n",
      "    Boys/men       0.53      0.36      0.43        45\n",
      "\n",
      "    accuracy                           0.57       102\n",
      "   macro avg       0.56      0.61      0.57       102\n",
      "weighted avg       0.57      0.57      0.55       102\n",
      "\n"
     ]
    }
   ],
   "source": [
    "# k-fold cross-validation with pytorch-lightning softmax classifier\n",
    "accuracies = []\n",
    "f1s = []\n",
    "for train_index, test_index in kf.split(X):\n",
    "    X_train, X_test = X[train_index], X[test_index]\n",
    "    y_train, y_test = y[train_index], y[test_index]\n",
    "    \n",
    "    train_dataset = EmbeddingsDataset(X_train, y_train)\n",
    "    test_dataset = EmbeddingsDataset(X_test, y_test)\n",
    "    \n",
    "    train_loader = DataLoader(train_dataset, batch_size=8, shuffle=True, num_workers=10)\n",
    "    test_loader = DataLoader(test_dataset, batch_size=8, shuffle=False, num_workers=10)\n",
    "    \n",
    "    model = SoftmaxClassifier(embedding_dim, len(classes))\n",
    "    \n",
    "    trainer = Trainer(max_epochs=30)\n",
    "    trainer.fit(model, train_loader)\n",
    "    trainer.test(model, test_loader)\n",
    "    \n",
    "    y_pred = torch.argmax(model(torch.from_numpy(X_test).float()), dim=1).numpy()\n",
    "    \n",
    "    accuracies.append(accuracy_score(y_test, y_pred))\n",
    "    f1s.append(f1_score(y_test, y_pred, average='weighted'))\n",
    "\n",
    "    # print classification report\n",
    "    print(classification_report(y_test, y_pred, target_names=classes))\n"
   ]
  },
  {
   "cell_type": "code",
   "execution_count": 22,
   "metadata": {},
   "outputs": [
    {
     "name": "stdout",
     "output_type": "stream",
     "text": [
      "Accuracy: 0.65 ± 0.04\n",
      "F1: 0.64 ± 0.05\n"
     ]
    }
   ],
   "source": [
    "# print results\n",
    "print(f\"Accuracy: {np.mean(accuracies):.2f} ± {np.std(accuracies):.2f}\")\n",
    "print(f\"F1: {np.mean(f1s):.2f} ± {np.std(f1s):.2f}\")"
   ]
  },
  {
   "cell_type": "code",
   "execution_count": null,
   "metadata": {},
   "outputs": [],
   "source": []
  }
 ],
 "metadata": {
  "kernelspec": {
   "display_name": "embeddings_pipeline_dev",
   "language": "python",
   "name": "python3"
  },
  "language_info": {
   "codemirror_mode": {
    "name": "ipython",
    "version": 3
   },
   "file_extension": ".py",
   "mimetype": "text/x-python",
   "name": "python",
   "nbconvert_exporter": "python",
   "pygments_lexer": "ipython3",
   "version": "3.10.9"
  },
  "orig_nbformat": 4
 },
 "nbformat": 4,
 "nbformat_minor": 2
}
