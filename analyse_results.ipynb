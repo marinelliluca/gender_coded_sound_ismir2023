{
 "cells": [
  {
   "attachments": {},
   "cell_type": "markdown",
   "metadata": {},
   "source": [
    "Here do also the t-test for the results of the different models by metric."
   ]
  },
  {
   "cell_type": "code",
   "execution_count": 1,
   "metadata": {},
   "outputs": [],
   "source": [
    "import json\n",
    "import pandas as pd\n",
    "import numpy as np\n",
    "import matplotlib.pyplot as plt\n",
    "import seaborn as sns\n",
    "import os\n",
    "import glob\n",
    "from tabulate import tabulate"
   ]
  },
  {
   "cell_type": "code",
   "execution_count": 2,
   "metadata": {},
   "outputs": [],
   "source": [
    "def display_structure(dictionary):\n",
    "    rows = []\n",
    "    for key, value in dictionary.items():\n",
    "        if isinstance(value, dict):\n",
    "            for subkey, subvalue in value.items():\n",
    "                if isinstance(subvalue, dict):\n",
    "                    for subsubkey, subsubvalue in subvalue.items():\n",
    "                        rows.append([key, subkey, subsubkey, type(subsubvalue).__name__])\n",
    "                        key = ''\n",
    "                        subkey = ''\n",
    "                else:\n",
    "                    rows.append([key, subkey, '', type(subvalue).__name__])\n",
    "                    key = ''\n",
    "                    subkey = ''\n",
    "        else:\n",
    "            rows.append([key, '', '', type(value).__name__])\n",
    "    print(tabulate(rows, headers=['Key', 'Subkey', 'Sub-subkey', 'Type']))"
   ]
  },
  {
   "cell_type": "code",
   "execution_count": 5,
   "metadata": {},
   "outputs": [],
   "source": [
    "def display_results(dictionary, detailed=False):\n",
    "    rows = []\n",
    "    config_rows = []\n",
    "    f1_rows = []\n",
    "    r2_rows = []\n",
    "    pearson_rows = []\n",
    "    average_rows = []\n",
    "    for key, value in dictionary.items():\n",
    "        if key == 'config':\n",
    "            target_rows = config_rows\n",
    "        elif key == 'f1':\n",
    "            target_rows = f1_rows\n",
    "            \n",
    "            # aggregate secondary f1 scores\n",
    "            f1_secondary_means = [v['mean'] for k,v in value.items() if k != 'target']\n",
    "            f1_secondary_stds = [v['std'] for k,v in value.items() if k != 'target']\n",
    "            \n",
    "        elif key == 'r2':\n",
    "            target_rows = r2_rows\n",
    "        elif key == 'pearson':\n",
    "            target_rows = pearson_rows\n",
    "        elif key == 'average':\n",
    "            target_rows = average_rows\n",
    "        else:\n",
    "            target_rows = rows\n",
    "        if isinstance(value, dict):\n",
    "            for subkey, subvalue in value.items():\n",
    "                if isinstance(subvalue, dict):\n",
    "                    for subsubkey, subsubvalue in subvalue.items():\n",
    "                        target_rows.append([key, subkey, subsubkey, format_value(subsubvalue)])\n",
    "                        key = ''\n",
    "                        subkey = ''\n",
    "                else:\n",
    "                    target_rows.append([key, subkey, '', format_value(subvalue)])\n",
    "                    key = ''\n",
    "        else:\n",
    "            target_rows.append([key, '', '', format_value(value)])\n",
    "    \n",
    "    # add f1 secondary scores\n",
    "    average_rows.append(['', 'secondary f1', 'mean', format_value(np.mean(f1_secondary_means))])\n",
    "    average_rows.append(['', '', 'std', format_value(np.mean(f1_secondary_stds))])\n",
    "\n",
    "    if not detailed:\n",
    "        final_rows = config_rows + average_rows\n",
    "    else:\n",
    "        final_rows = config_rows + average_rows + f1_rows + r2_rows + pearson_rows + rows\n",
    "    print(\n",
    "        tabulate(\n",
    "            final_rows, # + rows, \n",
    "            headers=['Key', 'Subkey', 'Sub-subkey', 'Value']\n",
    "        )\n",
    "    )\n",
    "    #return average_rows\n",
    "\n",
    "def format_value(value):\n",
    "    if isinstance(value,(int,float)):\n",
    "        return f'{value:.2f}'\n",
    "    elif isinstance(value,list):\n",
    "        return f'{len(value)} cls'\n",
    "    else:\n",
    "        return value"
   ]
  },
  {
   "cell_type": "code",
   "execution_count": 57,
   "metadata": {},
   "outputs": [
    {
     "name": "stdout",
     "output_type": "stream",
     "text": [
      "./results/targCls_2_music_openl3_env_voice_True_TotCls_5_dropNs_True_rep_5_fold_5.json\n",
      "Key      Subkey                    Sub-subkey         Value\n",
      "-------  ------------------------  -----------------  ----------\n",
      "config   modality                                     music\n",
      "         voice                                        1.00\n",
      "         classifications           voice_gender       4 cls\n",
      "                                   voice_exagg        4 cls\n",
      "                                   voice_type         4 cls\n",
      "                                   voice_age          4 cls\n",
      "                                   target             2 cls\n",
      "         which_embeddings                             openl3_env\n",
      "         drop_non_significant                         1.00\n",
      "average  mid_r2                    mean               0.35\n",
      "                                   std                0.12\n",
      "         mid_pears                 mean               0.62\n",
      "                                   std                0.08\n",
      "         emo_r2                    mean               0.34\n",
      "                                   std                0.13\n",
      "         emo_pears                 mean               0.62\n",
      "                                   std                0.08\n",
      "         secondary f1              mean               0.77\n",
      "                                   std                0.05\n",
      "f1       voice_gender              mean               0.80\n",
      "                                   std                0.05\n",
      "         voice_exagg               mean               0.72\n",
      "                                   std                0.06\n",
      "         voice_type                mean               0.76\n",
      "                                   std                0.04\n",
      "         voice_age                 mean               0.80\n",
      "                                   std                0.04\n",
      "         target                    mean               0.95\n",
      "                                   std                0.04\n",
      "r2       Electric/Acoustic         mean               0.29\n",
      "                                   std                0.12\n",
      "         Distorted/Clear           mean               0.46\n",
      "                                   std                0.07\n",
      "         Many/Few Instruments      mean               0.10\n",
      "                                   std                0.23\n",
      "         Loud/Soft                 mean               0.42\n",
      "                                   std                0.08\n",
      "         Heavy/Light               mean               0.62\n",
      "                                   std                0.06\n",
      "         High/Low pitch            mean               0.39\n",
      "                                   std                0.11\n",
      "         Punchy/Smooth             mean               0.39\n",
      "                                   std                0.13\n",
      "         Harmonious/Disharmonious  mean               0.36\n",
      "                                   std                0.11\n",
      "         Clear melody/No melody    mean               0.32\n",
      "                                   std                0.12\n",
      "         Complex/Simple rhythm     mean               0.15\n",
      "                                   std                0.17\n",
      "         Dense/Sparse              mean               0.36\n",
      "                                   std                0.17\n",
      "         Strong beat/Weak beat     mean               0.31\n",
      "                                   std                0.11\n",
      "         Happy                     mean               0.33\n",
      "                                   std                0.13\n",
      "         Beauty                    mean               0.40\n",
      "                                   std                0.11\n",
      "         Calm                      mean               0.38\n",
      "                                   std                0.11\n",
      "         Energizing                mean               0.28\n",
      "                                   std                0.13\n",
      "         Angry                     mean               0.50\n",
      "                                   std                0.18\n",
      "         Triumphant                mean               0.16\n",
      "                                   std                0.14\n",
      "pearson  Electric/Acoustic         mean               0.57\n",
      "                                   std                0.09\n",
      "                                   ratio_significant  1.00\n",
      "         Distorted/Clear           mean               0.70\n",
      "                                   std                0.05\n",
      "                                   ratio_significant  1.00\n",
      "         Many/Few Instruments      mean               0.43\n",
      "                                   std                0.11\n",
      "                                   ratio_significant  0.92\n",
      "         Loud/Soft                 mean               0.68\n",
      "                                   std                0.05\n",
      "                                   ratio_significant  1.00\n",
      "         Heavy/Light               mean               0.80\n",
      "                                   std                0.03\n",
      "                                   ratio_significant  1.00\n",
      "         High/Low pitch            mean               0.67\n",
      "                                   std                0.07\n",
      "                                   ratio_significant  1.00\n",
      "         Punchy/Smooth             mean               0.66\n",
      "                                   std                0.09\n",
      "                                   ratio_significant  1.00\n",
      "         Harmonious/Disharmonious  mean               0.64\n",
      "                                   std                0.07\n",
      "                                   ratio_significant  1.00\n",
      "         Clear melody/No melody    mean               0.60\n",
      "                                   std                0.07\n",
      "                                   ratio_significant  1.00\n",
      "         Complex/Simple rhythm     mean               0.45\n",
      "                                   std                0.12\n",
      "                                   ratio_significant  0.80\n",
      "         Dense/Sparse              mean               0.66\n",
      "                                   std                0.07\n",
      "                                   ratio_significant  1.00\n",
      "         Strong beat/Weak beat     mean               0.61\n",
      "                                   std                0.09\n",
      "                                   ratio_significant  1.00\n",
      "         Happy                     mean               0.61\n",
      "                                   std                0.09\n",
      "                                   ratio_significant  1.00\n",
      "         Beauty                    mean               0.65\n",
      "                                   std                0.08\n",
      "                                   ratio_significant  1.00\n",
      "         Calm                      mean               0.65\n",
      "                                   std                0.08\n",
      "                                   ratio_significant  1.00\n",
      "         Energizing                mean               0.58\n",
      "                                   std                0.08\n",
      "                                   ratio_significant  1.00\n",
      "         Angry                     mean               0.75\n",
      "                                   std                0.07\n",
      "                                   ratio_significant  1.00\n",
      "         Triumphant                mean               0.46\n",
      "                                   std                0.09\n",
      "                                   ratio_significant  1.00\n"
     ]
    }
   ],
   "source": [
    "# import any json file from the results folders\n",
    "\n",
    "file = \"./results/targCls_2_music_openl3_env_voice_True_TotCls_5_dropNs_True_rep_5_fold_5.json\"\n",
    "\n",
    "with open(file) as f:\n",
    "    data = json.load(f)\n",
    "    print(file)\n",
    "    display_results(data, detailed=True)\n",
    "    #print(data[\"config\"][\"classifications\"].keys())\n"
   ]
  },
  {
   "attachments": {},
   "cell_type": "markdown",
   "metadata": {},
   "source": [
    "Target f1 \n",
    "    - with\n",
    "    - without voice\n",
    "Avg. secondary f1\n",
    "    - with\n",
    "    - without voice\n",
    "Avg. R2 emotions\n",
    "    - with\n",
    "    - without voice\n",
    "Avg. r emotions\n",
    "    - with\n",
    "    - without voice\n",
    "Avg. R2 mid-level\n",
    "    - with\n",
    "    - without voice\n",
    "Avg. r mid-level\n",
    "    - with\n",
    "    - without voice"
   ]
  },
  {
   "cell_type": "code",
   "execution_count": 73,
   "metadata": {},
   "outputs": [],
   "source": [
    "columns = [\"Embeddings\" ,\"Target F1\", \"Avg. secondary F1\", \"Avg. R2 emotions\", \"Avg. r emotions\", \"Avg. R2 mid-level\", \"Avg. r mid-level\"]\n",
    "\n",
    "lvl_1 = [\"Binary\", \"Ternary\"]\n",
    "\n",
    "lvl_2 = [\"Voice\", \"No voice\"]\n",
    "\n",
    "dict_of_dfs = {k1: {k2: pd.DataFrame(columns=columns) for k2 in lvl_2} for k1 in lvl_1}\n",
    "\n",
    "for fn in glob.glob(\"./results/*.json\"):\n",
    "    \n",
    "    with open(fn) as f:\n",
    "        results = json.load(f)\n",
    "\n",
    "    # aggregate secondary f1 scores\n",
    "    f1_secondary_means = [v['mean'] for k,v in results[\"f1\"].items() if k != 'target']\n",
    "    f1_secondary_stds = [v['std'] for k,v in results[\"f1\"].items() if k != 'target']\n",
    "    results[\"average\"][\"secondary f1\"] = { \"mean\": np.mean(f1_secondary_means), \"std\": np.mean(f1_secondary_stds)}\n",
    "\n",
    "    first_level = \"Binary\" if len(results[\"config\"][\"classifications\"][\"target\"]) == 2 else \"Ternary\"\n",
    "    second_level = \"Voice\" if results[\"config\"][\"voice\"] else \"No voice\"\n",
    "\n",
    "    row = {\n",
    "        \"Embeddings\": results[\"config\"][\"which_embeddings\"],\n",
    "        \"Target F1\": f'{results[\"f1\"][\"target\"][\"mean\"]:.2f} ± {results[\"f1\"][\"target\"][\"std\"]:.2f}',\n",
    "        \"Avg. secondary F1\": f'{results[\"average\"][\"secondary f1\"][\"mean\"]:.2f} ± {results[\"average\"][\"secondary f1\"][\"std\"]:.2f}',\n",
    "        \"Avg. R2 emotions\": f'{results[\"average\"][\"emo_r2\"][\"mean\"]:.2f} ± {results[\"average\"][\"emo_r2\"][\"std\"]:.2f}',\n",
    "        \"Avg. r emotions\": f'{results[\"average\"][\"emo_pears\"][\"mean\"]:.2f} ± {results[\"average\"][\"emo_pears\"][\"std\"]:.2f}',\n",
    "        \"Avg. R2 mid-level\": f'{results[\"average\"][\"mid_r2\"][\"mean\"]:.2f} ± {results[\"average\"][\"mid_r2\"][\"std\"]:.2f}',\n",
    "        \"Avg. r mid-level\": f'{results[\"average\"][\"mid_pears\"][\"mean\"]:.2f} ± {results[\"average\"][\"mid_pears\"][\"std\"]:.2f}',\n",
    "        \n",
    "\n",
    "    }\n",
    "\n",
    "    df = dict_of_dfs[first_level][second_level].copy()\n",
    "    df = df.append(row, ignore_index=True)\n",
    "    dict_of_dfs[first_level][second_level] = df\n",
    "\n",
    "\n"
   ]
  },
  {
   "cell_type": "code",
   "execution_count": 79,
   "metadata": {},
   "outputs": [
    {
     "name": "stderr",
     "output_type": "stream",
     "text": [
      "/tmp/ipykernel_162590/3711744804.py:22: FutureWarning: The frame.append method is deprecated and will be removed from pandas in a future version. Use pandas.concat instead.\n",
      "  df = df.append(row, ignore_index=True)\n"
     ]
    }
   ],
   "source": [
    "# aggregate secondary f1 scores\n",
    "f1_secondary_means = [v['mean'] for k,v in results[\"f1\"].items() if k != 'target']\n",
    "f1_secondary_stds = [v['std'] for k,v in results[\"f1\"].items() if k != 'target']\n",
    "results[\"average\"][\"secondary f1\"] = { \"mean\": np.mean(f1_secondary_means), \"std\": np.mean(f1_secondary_stds)}\n",
    "\n",
    "first_level = \"Binary\" if len(results[\"config\"][\"classifications\"][\"target\"]) == 2 else \"Ternary\"\n",
    "second_level = \"Voice\" if results[\"config\"][\"voice\"] else \"No voice\"\n",
    "\n",
    "row = {\n",
    "    \"Embeddings\": results[\"config\"][\"which_embeddings\"],\n",
    "    \"Target F1\": f'{results[\"f1\"][\"target\"][\"mean\"]:.2f} ± {results[\"f1\"][\"target\"][\"std\"]:.2f}',\n",
    "    \"Avg. secondary F1\": f'{results[\"average\"][\"secondary f1\"][\"mean\"]:.2f} ± {results[\"average\"][\"secondary f1\"][\"std\"]:.2f}',\n",
    "    \"Avg. R2 emotions\": f'{results[\"average\"][\"emo_r2\"][\"mean\"]:.2f} ± {results[\"average\"][\"emo_r2\"][\"std\"]:.2f}',\n",
    "    \"Avg. r emotions\": f'{results[\"average\"][\"emo_pears\"][\"mean\"]:.2f} ± {results[\"average\"][\"emo_pears\"][\"std\"]:.2f}',\n",
    "    \"Avg. R2 mid-level\": f'{results[\"average\"][\"mid_r2\"][\"mean\"]:.2f} ± {results[\"average\"][\"mid_r2\"][\"std\"]:.2f}',\n",
    "    \"Avg. r mid-level\": f'{results[\"average\"][\"mid_pears\"][\"mean\"]:.2f} ± {results[\"average\"][\"mid_pears\"][\"std\"]:.2f}',\n",
    "    \n",
    "\n",
    "}\n",
    "\n",
    "df = dict_of_dfs[first_level][second_level].copy()\n",
    "df = df.append(row, ignore_index=True)\n",
    "\n"
   ]
  },
  {
   "cell_type": "code",
   "execution_count": 82,
   "metadata": {},
   "outputs": [
    {
     "data": {
      "text/html": [
       "<div>\n",
       "<style scoped>\n",
       "    .dataframe tbody tr th:only-of-type {\n",
       "        vertical-align: middle;\n",
       "    }\n",
       "\n",
       "    .dataframe tbody tr th {\n",
       "        vertical-align: top;\n",
       "    }\n",
       "\n",
       "    .dataframe thead th {\n",
       "        text-align: right;\n",
       "    }\n",
       "</style>\n",
       "<table border=\"1\" class=\"dataframe\">\n",
       "  <thead>\n",
       "    <tr style=\"text-align: right;\">\n",
       "      <th></th>\n",
       "      <th>Target F1</th>\n",
       "      <th>Avg. secondary F1</th>\n",
       "      <th>Avg. R2 emotions</th>\n",
       "      <th>Avg. r emotions</th>\n",
       "      <th>Avg. R2 mid-level</th>\n",
       "      <th>Avg. r mid-level</th>\n",
       "    </tr>\n",
       "    <tr>\n",
       "      <th>Embeddings</th>\n",
       "      <th></th>\n",
       "      <th></th>\n",
       "      <th></th>\n",
       "      <th></th>\n",
       "      <th></th>\n",
       "      <th></th>\n",
       "    </tr>\n",
       "  </thead>\n",
       "  <tbody>\n",
       "    <tr>\n",
       "      <th>mfcc</th>\n",
       "      <td>0.79 ± 0.08</td>\n",
       "      <td>0.66 ± 0.07</td>\n",
       "      <td>0.02 ± 0.17</td>\n",
       "      <td>0.36 ± 0.11</td>\n",
       "      <td>0.14 ± 0.16</td>\n",
       "      <td>0.48 ± 0.09</td>\n",
       "    </tr>\n",
       "  </tbody>\n",
       "</table>\n",
       "</div>"
      ],
      "text/plain": [
       "              Target F1 Avg. secondary F1 Avg. R2 emotions Avg. r emotions  \\\n",
       "Embeddings                                                                   \n",
       "mfcc        0.79 ± 0.08       0.66 ± 0.07      0.02 ± 0.17     0.36 ± 0.11   \n",
       "\n",
       "           Avg. R2 mid-level Avg. r mid-level  \n",
       "Embeddings                                     \n",
       "mfcc             0.14 ± 0.16      0.48 ± 0.09  "
      ]
     },
     "execution_count": 82,
     "metadata": {},
     "output_type": "execute_result"
    }
   ],
   "source": [
    "df"
   ]
  },
  {
   "cell_type": "code",
   "execution_count": 60,
   "metadata": {},
   "outputs": [
    {
     "data": {
      "text/html": [
       "<div>\n",
       "<style scoped>\n",
       "    .dataframe tbody tr th:only-of-type {\n",
       "        vertical-align: middle;\n",
       "    }\n",
       "\n",
       "    .dataframe tbody tr th {\n",
       "        vertical-align: top;\n",
       "    }\n",
       "\n",
       "    .dataframe thead th {\n",
       "        text-align: right;\n",
       "    }\n",
       "</style>\n",
       "<table border=\"1\" class=\"dataframe\">\n",
       "  <thead>\n",
       "    <tr style=\"text-align: right;\">\n",
       "      <th></th>\n",
       "      <th>Target F1</th>\n",
       "      <th>Avg. secondary F1</th>\n",
       "      <th>Avg. R2 emotions</th>\n",
       "      <th>Avg. r emotions</th>\n",
       "      <th>Avg. R2 mid-level</th>\n",
       "      <th>Avg. r mid-level</th>\n",
       "    </tr>\n",
       "  </thead>\n",
       "  <tbody>\n",
       "  </tbody>\n",
       "</table>\n",
       "</div>"
      ],
      "text/plain": [
       "Empty DataFrame\n",
       "Columns: [Target F1, Avg. secondary F1, Avg. R2 emotions, Avg. r emotions, Avg. R2 mid-level, Avg. r mid-level]\n",
       "Index: []"
      ]
     },
     "execution_count": 60,
     "metadata": {},
     "output_type": "execute_result"
    }
   ],
   "source": [
    "dict_of_dfs[\"Binary\"][\"Vanilla\"][\"Voice\"]"
   ]
  },
  {
   "cell_type": "code",
   "execution_count": 9,
   "metadata": {},
   "outputs": [
    {
     "name": "stderr",
     "output_type": "stream",
     "text": [
      "/tmp/ipykernel_162590/2702114544.py:7: FutureWarning: In future versions `DataFrame.to_latex` is expected to utilise the base implementation of `Styler.to_latex` for formatting and rendering. The arguments signature may therefore change. It is recommended instead to use `DataFrame.style.to_latex` which also contains additional functionality.\n",
      "  latex_table = df.to_latex(index=False)\n"
     ]
    }
   ],
   "source": [
    "# Create a DataFrame with nested columns\n",
    "iterables = [['A', 'B'], ['x', 'y']]\n",
    "columns = pd.MultiIndex.from_product(iterables, names=['first', 'second'])\n",
    "df = pd.DataFrame([[1, 2, 3, 4], [5, 6, 7, 8]], columns=columns)\n",
    "\n",
    "# Convert the DataFrame to a LaTeX table\n",
    "latex_table = df.to_latex(index=False)\n",
    "\n",
    "# Write the LaTeX table to a file\n",
    "with open('table.tex', 'w') as f:\n",
    "    f.write(latex_table)"
   ]
  },
  {
   "cell_type": "code",
   "execution_count": 23,
   "metadata": {},
   "outputs": [],
   "source": [
    "def df_to_latex(df, file_name):\n",
    "    # Determine the number of columns in the DataFrame\n",
    "    num_columns = len(df.columns)\n",
    "\n",
    "    # Create a column format string with centered columns\n",
    "    column_format = 'c' * num_columns\n",
    "\n",
    "    # Convert the DataFrame to a LaTeX table with centered headers\n",
    "    latex_table = df.to_latex(index=False, column_format=column_format, multicolumn=True, multicolumn_format='c')\n",
    "\n",
    "    # Write the LaTeX table to a file\n",
    "    with open(file_name, 'w') as f:\n",
    "        f.write(latex_table)"
   ]
  },
  {
   "cell_type": "code",
   "execution_count": 29,
   "metadata": {},
   "outputs": [
    {
     "name": "stdout",
     "output_type": "stream",
     "text": [
      "\\begin{tabular}{rrrr}\n",
      "\\toprule\n",
      "A & \\multicolumn{2}{c}{B} \\\\\n",
      "x & y & x & y \\\\\n",
      "\\midrule\n",
      "1 & 2 & 3 & 4 \\\\\n",
      "5 & 6 & 7 & 8 \\\\\n",
      "\\bottomrule\n",
      "\\end{tabular}\n",
      "\n"
     ]
    },
    {
     "name": "stderr",
     "output_type": "stream",
     "text": [
      "/tmp/ipykernel_162590/3352871230.py:6: FutureWarning: In future versions `DataFrame.to_latex` is expected to utilise the base implementation of `Styler.to_latex` for formatting and rendering. The arguments signature may therefore change. It is recommended instead to use `DataFrame.style.to_latex` which also contains additional functionality.\n",
      "  latex_table = df.to_latex(index=False, multicolumn=True, multicolumn_format='c')\n"
     ]
    }
   ],
   "source": [
    "# Create a DataFrame with multi-level columns and unique labels in the top level\n",
    "columns = pd.MultiIndex.from_arrays([['A', '', 'B', ''], ['x', 'y', 'x', 'y']])\n",
    "df = pd.DataFrame([[1, 2, 3, 4], [5, 6, 7, 8]], columns=columns)\n",
    "\n",
    "# Convert the DataFrame to a LaTeX table\n",
    "latex_table = df.to_latex(index=False, multicolumn=True, multicolumn_format='c')\n",
    "\n",
    "# Write the LaTeX table to a file\n",
    "with open('table.tex', 'w') as f:\n",
    "    f.write(latex_table)\n",
    "\n",
    "# Display the resulting LaTeX table\n",
    "print(latex_table)"
   ]
  },
  {
   "cell_type": "code",
   "execution_count": 48,
   "metadata": {},
   "outputs": [
    {
     "name": "stderr",
     "output_type": "stream",
     "text": [
      "/tmp/ipykernel_162590/2727934183.py:3: FutureWarning: In future versions `DataFrame.to_latex` is expected to utilise the base implementation of `Styler.to_latex` for formatting and rendering. The arguments signature may therefore change. It is recommended instead to use `DataFrame.style.to_latex` which also contains additional functionality.\n",
      "  latex_table = df.to_latex(index=False, column_format='c'*len(df.columns))\n"
     ]
    }
   ],
   "source": [
    "df = pd.DataFrame(columns=['A x', \"A y\", \"B x\", \"B y\", \"C x\", \"C y \"], data=[[1,2,3,4,5,6],[5,6,7,8,9,10]])\n",
    "# Convert the DataFrame to a LaTeX table\n",
    "latex_table = df.to_latex(index=False, column_format='c'*len(df.columns))"
   ]
  },
  {
   "cell_type": "code",
   "execution_count": 49,
   "metadata": {},
   "outputs": [
    {
     "data": {
      "text/html": [
       "<div>\n",
       "<style scoped>\n",
       "    .dataframe tbody tr th:only-of-type {\n",
       "        vertical-align: middle;\n",
       "    }\n",
       "\n",
       "    .dataframe tbody tr th {\n",
       "        vertical-align: top;\n",
       "    }\n",
       "\n",
       "    .dataframe thead th {\n",
       "        text-align: right;\n",
       "    }\n",
       "</style>\n",
       "<table border=\"1\" class=\"dataframe\">\n",
       "  <thead>\n",
       "    <tr style=\"text-align: right;\">\n",
       "      <th></th>\n",
       "      <th>A x</th>\n",
       "      <th>A y</th>\n",
       "      <th>B x</th>\n",
       "      <th>B y</th>\n",
       "      <th>C x</th>\n",
       "      <th>C y</th>\n",
       "    </tr>\n",
       "  </thead>\n",
       "  <tbody>\n",
       "    <tr>\n",
       "      <th>0</th>\n",
       "      <td>1</td>\n",
       "      <td>2</td>\n",
       "      <td>3</td>\n",
       "      <td>4</td>\n",
       "      <td>5</td>\n",
       "      <td>6</td>\n",
       "    </tr>\n",
       "    <tr>\n",
       "      <th>1</th>\n",
       "      <td>5</td>\n",
       "      <td>6</td>\n",
       "      <td>7</td>\n",
       "      <td>8</td>\n",
       "      <td>9</td>\n",
       "      <td>10</td>\n",
       "    </tr>\n",
       "  </tbody>\n",
       "</table>\n",
       "</div>"
      ],
      "text/plain": [
       "   A x  A y  B x  B y  C x  C y \n",
       "0    1    2    3    4    5     6\n",
       "1    5    6    7    8    9    10"
      ]
     },
     "execution_count": 49,
     "metadata": {},
     "output_type": "execute_result"
    }
   ],
   "source": [
    "df"
   ]
  },
  {
   "cell_type": "code",
   "execution_count": 50,
   "metadata": {},
   "outputs": [
    {
     "name": "stdout",
     "output_type": "stream",
     "text": [
      "\\begin{tabular}{cccccc}\n",
      "\\toprule\n",
      " A x &  A y &  B x &  B y &  C x &  C y  \\\\\n",
      "\\midrule\n",
      "   1 &    2 &    3 &    4 &    5 &     6 \\\\\n",
      "   5 &    6 &    7 &    8 &    9 &    10 \\\\\n",
      "\\bottomrule\n",
      "\\end{tabular}\n",
      "\n"
     ]
    }
   ],
   "source": [
    "# Write the LaTeX table to a file\n",
    "with open('table.tex', 'w') as f:\n",
    "    f.write(latex_table)\n",
    "\n",
    "# Display the resulting LaTeX table\n",
    "print(latex_table)"
   ]
  },
  {
   "cell_type": "code",
   "execution_count": 28,
   "metadata": {},
   "outputs": [
    {
     "name": "stdout",
     "output_type": "stream",
     "text": [
      "first   A     B       C    \n",
      "second  x  y  x   y   x   y\n",
      "0       1  2  3   4   5   6\n",
      "1       7  8  9  10  11  12\n"
     ]
    },
    {
     "name": "stderr",
     "output_type": "stream",
     "text": [
      "/tmp/ipykernel_162590/57950410.py:9: FutureWarning: In future versions `DataFrame.to_latex` is expected to utilise the base implementation of `Styler.to_latex` for formatting and rendering. The arguments signature may therefore change. It is recommended instead to use `DataFrame.style.to_latex` which also contains additional functionality.\n",
      "  latex_table = df.to_latex(index=False, column_format=column_format, multicolumn=True, multicolumn_format='c')\n"
     ]
    }
   ],
   "source": [
    "# Create a list of tuples representing the labels for each level of the MultiIndex\n",
    "first_level = ['A', 'B', 'C']\n",
    "second_level = ['x', 'y']\n",
    "\n",
    "tuples = [(a, b) for a in first_level for b in second_level]\n",
    "\n",
    "# Create a MultiIndex from the list of tuples\n",
    "multiindex = pd.MultiIndex.from_tuples(tuples, names=['first', 'second'])\n",
    "\n",
    "# Create a DataFrame with the MultiIndex as columns\n",
    "df = pd.DataFrame([[1, 2, 3, 4, 5, 6], [7,8,9,10,11,12]], columns=multiindex)\n",
    "\n",
    "# Display the resulting DataFrame\n",
    "print(df)\n",
    "\n",
    "# Write the DataFrame to a LaTeX table\n",
    "df_to_latex(df, 'table.tex')"
   ]
  }
 ],
 "metadata": {
  "kernelspec": {
   "display_name": "embeddings_pipeline_dev",
   "language": "python",
   "name": "python3"
  },
  "language_info": {
   "codemirror_mode": {
    "name": "ipython",
    "version": 3
   },
   "file_extension": ".py",
   "mimetype": "text/x-python",
   "name": "python",
   "nbconvert_exporter": "python",
   "pygments_lexer": "ipython3",
   "version": "3.10.10"
  },
  "orig_nbformat": 4
 },
 "nbformat": 4,
 "nbformat_minor": 2
}
