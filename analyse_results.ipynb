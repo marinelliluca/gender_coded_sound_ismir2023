{
 "cells": [
  {
   "attachments": {},
   "cell_type": "markdown",
   "metadata": {},
   "source": [
    "Here do also the t-test for the results of the different models by metric."
   ]
  },
  {
   "cell_type": "code",
   "execution_count": null,
   "metadata": {},
   "outputs": [],
   "source": [
    "import json\n",
    "import pandas as pd\n",
    "import numpy as np\n",
    "import matplotlib.pyplot as plt\n",
    "import seaborn as sns\n",
    "import os\n",
    "import glob\n",
    "from tabulate import tabulate"
   ]
  },
  {
   "cell_type": "code",
   "execution_count": null,
   "metadata": {},
   "outputs": [],
   "source": [
    "def display_structure(dictionary):\n",
    "    rows = []\n",
    "    for key, value in dictionary.items():\n",
    "        if isinstance(value, dict):\n",
    "            for subkey, subvalue in value.items():\n",
    "                if isinstance(subvalue, dict):\n",
    "                    for subsubkey, subsubvalue in subvalue.items():\n",
    "                        rows.append([key, subkey, subsubkey, type(subsubvalue).__name__])\n",
    "                        key = ''\n",
    "                        subkey = ''\n",
    "                else:\n",
    "                    rows.append([key, subkey, '', type(subvalue).__name__])\n",
    "                    key = ''\n",
    "                    subkey = ''\n",
    "        else:\n",
    "            rows.append([key, '', '', type(value).__name__])\n",
    "    print(tabulate(rows, headers=['Key', 'Subkey', 'Sub-subkey', 'Type']))"
   ]
  },
  {
   "cell_type": "code",
   "execution_count": null,
   "metadata": {},
   "outputs": [],
   "source": [
    "def display_results(dictionary):\n",
    "    rows = []\n",
    "    config_rows = []\n",
    "    f1_rows = []\n",
    "    r2_rows = []\n",
    "    pearson_rows = []\n",
    "    average_rows = []\n",
    "    for key, value in dictionary.items():\n",
    "        if key == 'config':\n",
    "            target_rows = config_rows\n",
    "        elif key == 'f1':\n",
    "            target_rows = f1_rows\n",
    "            \n",
    "            # aggregate secondary f1 scores\n",
    "            f1_secondary_means = [v['mean'] for k,v in value.items() if k != 'target']\n",
    "            f1_secondary_stds = [v['std'] for k,v in value.items() if k != 'target']\n",
    "            \n",
    "        elif key == 'r2':\n",
    "            target_rows = r2_rows\n",
    "        elif key == 'pearson':\n",
    "            target_rows = pearson_rows\n",
    "        elif key == 'average':\n",
    "            target_rows = average_rows\n",
    "        else:\n",
    "            target_rows = rows\n",
    "        if isinstance(value, dict):\n",
    "            for subkey, subvalue in value.items():\n",
    "                if isinstance(subvalue, dict):\n",
    "                    for subsubkey, subsubvalue in subvalue.items():\n",
    "                        target_rows.append([key, subkey, subsubkey, format_value(subsubvalue)])\n",
    "                        key = ''\n",
    "                        subkey = ''\n",
    "                else:\n",
    "                    target_rows.append([key, subkey, '', format_value(subvalue)])\n",
    "                    key = ''\n",
    "        else:\n",
    "            target_rows.append([key, '', '', format_value(value)])\n",
    "    \n",
    "    # add f1 secondary scores\n",
    "    average_rows.append(['', 'secondary f1', 'mean', format_value(np.mean(f1_secondary_means))])\n",
    "    average_rows.append(['', '', 'std', format_value(np.mean(f1_secondary_stds))])\n",
    "    print(\n",
    "        tabulate(\n",
    "            config_rows + average_rows + f1_rows + r2_rows + pearson_rows, # + rows, \n",
    "            headers=['Key', 'Subkey', 'Sub-subkey', 'Value']\n",
    "        )\n",
    "    )\n",
    "    #return average_rows\n",
    "\n",
    "def format_value(value):\n",
    "    if isinstance(value,(int,float)):\n",
    "        return f'{value:.2f}'\n",
    "    elif isinstance(value,list):\n",
    "        return f'{len(value)} cls'\n",
    "    else:\n",
    "        return value"
   ]
  },
  {
   "cell_type": "code",
   "execution_count": null,
   "metadata": {},
   "outputs": [],
   "source": [
    "# import any json file from the results folders\n",
    "\n",
    "file = \"./results/targCls_2_music_openl3_env_voice_True_TotCls_5_dropNs_True_rep_5_fold_5.json\"\n",
    "\n",
    "with open(file) as f:\n",
    "    data = json.load(f)\n",
    "    print(file)\n",
    "    display_results(data)\n",
    "    #print(data[\"config\"][\"classifications\"].keys())\n"
   ]
  },
  {
   "cell_type": "code",
   "execution_count": null,
   "metadata": {},
   "outputs": [],
   "source": []
  }
 ],
 "metadata": {
  "kernelspec": {
   "display_name": "embeddings_pipeline_dev",
   "language": "python",
   "name": "python3"
  },
  "language_info": {
   "codemirror_mode": {
    "name": "ipython",
    "version": 3
   },
   "file_extension": ".py",
   "mimetype": "text/x-python",
   "name": "python",
   "nbconvert_exporter": "python",
   "pygments_lexer": "ipython3",
   "version": "3.10.10"
  },
  "orig_nbformat": 4
 },
 "nbformat": 4,
 "nbformat_minor": 2
}
