{
 "cells": [
  {
   "attachments": {},
   "cell_type": "markdown",
   "metadata": {},
   "source": [
    "Here do also the t-test for the results of the different models by metric."
   ]
  },
  {
   "cell_type": "code",
   "execution_count": null,
   "metadata": {},
   "outputs": [],
   "source": [
    "import json\n",
    "import pandas as pd\n",
    "import numpy as np\n",
    "import matplotlib.pyplot as plt\n",
    "import seaborn as sns\n",
    "import os\n",
    "import glob\n",
    "from utils import display_results, display_structure\n"
   ]
  },
  {
   "cell_type": "code",
   "execution_count": null,
   "metadata": {},
   "outputs": [],
   "source": [
    "# import any json file from the results folders\n",
    "\n",
    "file = \"./results/targCls_2_music_openl3_env_voice_True_TotCls_5_dropNs_True_rep_5_fold_5.json\"\n",
    "\n",
    "with open(file) as f:\n",
    "    data = json.load(f)\n",
    "    print(file)\n",
    "    display_results(data)\n",
    "    #print(data[\"config\"][\"classifications\"].keys())\n"
   ]
  },
  {
   "cell_type": "code",
   "execution_count": null,
   "metadata": {},
   "outputs": [],
   "source": [
    "columns = [\"Embeddings\" ,\"Target F1\", \"Avg. secondary F1\", \"Avg. R2 emotions\", \"Avg. r emotions\", \"Avg. R2 mid-level\", \"Avg. r mid-level\"]\n",
    "\n",
    "lvl_1 = [\"Binary\", \"Ternary\"]\n",
    "\n",
    "lvl_2 = [\"Voice\", \"No voice\"]\n",
    "\n",
    "dict_of_dfs = {k1: {k2: pd.DataFrame(columns=columns) for k2 in lvl_2} for k1 in lvl_1}\n",
    "\n",
    "for fn in glob.glob(\"./results/*.json\"):\n",
    "    \n",
    "    with open(fn) as f:\n",
    "        results = json.load(f)\n",
    "\n",
    "    # aggregate secondary f1 scores\n",
    "    f1_secondary_means = [v['mean'] for k,v in results[\"f1\"].items() if k != 'target']\n",
    "    f1_secondary_stds = [v['std'] for k,v in results[\"f1\"].items() if k != 'target']\n",
    "    results[\"average\"][\"secondary f1\"] = { \"mean\": np.mean(f1_secondary_means), \"std\": np.mean(f1_secondary_stds)}\n",
    "\n",
    "    first_level = \"Binary\" if len(results[\"config\"][\"classifications\"][\"target\"]) == 2 else \"Ternary\"\n",
    "    second_level = \"Voice\" if results[\"config\"][\"voice\"] else \"No voice\"\n",
    "\n",
    "    row = {\n",
    "        \"Embeddings\": results[\"config\"][\"which_embeddings\"],\n",
    "        \"Target F1\": f'{results[\"f1\"][\"target\"][\"mean\"]:.2f} ± {results[\"f1\"][\"target\"][\"std\"]:.2f}',\n",
    "        \"Avg. secondary F1\": f'{results[\"average\"][\"secondary f1\"][\"mean\"]:.2f} ± {results[\"average\"][\"secondary f1\"][\"std\"]:.2f}',\n",
    "        \"Avg. R2 emotions\": f'{results[\"average\"][\"emo_r2\"][\"mean\"]:.2f} ± {results[\"average\"][\"emo_r2\"][\"std\"]:.2f}',\n",
    "        \"Avg. r emotions\": f'{results[\"average\"][\"emo_pears\"][\"mean\"]:.2f} ± {results[\"average\"][\"emo_pears\"][\"std\"]:.2f}',\n",
    "        \"Avg. R2 mid-level\": f'{results[\"average\"][\"mid_r2\"][\"mean\"]:.2f} ± {results[\"average\"][\"mid_r2\"][\"std\"]:.2f}',\n",
    "        \"Avg. r mid-level\": f'{results[\"average\"][\"mid_pears\"][\"mean\"]:.2f} ± {results[\"average\"][\"mid_pears\"][\"std\"]:.2f}',\n",
    "        \n",
    "\n",
    "    }\n",
    "\n",
    "    df = dict_of_dfs[first_level][second_level].copy()\n",
    "    df = pd.concat([df, pd.DataFrame(row, index=[0])], ignore_index=True)\n",
    "    dict_of_dfs[first_level][second_level] = df\n",
    "\n",
    "\n"
   ]
  },
  {
   "cell_type": "code",
   "execution_count": null,
   "metadata": {},
   "outputs": [],
   "source": [
    "for first_level in lvl_1:\n",
    "    for second_level in lvl_2:\n",
    "        print(f\"{first_level} - {second_level}\")\n",
    "        display(dict_of_dfs[first_level][second_level])"
   ]
  },
  {
   "cell_type": "code",
   "execution_count": null,
   "metadata": {},
   "outputs": [],
   "source": []
  }
 ],
 "metadata": {
  "kernelspec": {
   "display_name": "embeddings_pipeline_dev",
   "language": "python",
   "name": "python3"
  },
  "language_info": {
   "codemirror_mode": {
    "name": "ipython",
    "version": 3
   },
   "file_extension": ".py",
   "mimetype": "text/x-python",
   "name": "python",
   "nbconvert_exporter": "python",
   "pygments_lexer": "ipython3",
   "version": "3.10.10"
  },
  "orig_nbformat": 4
 },
 "nbformat": 4,
 "nbformat_minor": 2
}
