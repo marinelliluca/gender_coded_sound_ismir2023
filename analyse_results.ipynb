{
 "cells": [
  {
   "attachments": {},
   "cell_type": "markdown",
   "metadata": {},
   "source": [
    "Here do also the t-test for the results of the different models by metric."
   ]
  },
  {
   "cell_type": "code",
   "execution_count": null,
   "metadata": {},
   "outputs": [],
   "source": [
    "import json\n",
    "import pandas as pd\n",
    "import numpy as np\n",
    "import matplotlib.pyplot as plt\n",
    "import seaborn as sns\n",
    "import os\n",
    "import glob\n",
    "from utils import display_results, display_structure, experiments_to_dict_of_dfs\n"
   ]
  },
  {
   "cell_type": "code",
   "execution_count": null,
   "metadata": {},
   "outputs": [],
   "source": [
    "# import any json file from the results folders\n",
    "\n",
    "file = \"./results/targCls_2_music_openl3_env_voice_True_TotCls_5_dropNs_True_rep_5_fold_5.json\"\n",
    "\n",
    "with open(file) as f:\n",
    "    data = json.load(f)\n",
    "    print(file)\n",
    "    display_results(data)\n"
   ]
  },
  {
   "cell_type": "code",
   "execution_count": null,
   "metadata": {},
   "outputs": [],
   "source": [
    "rep = 5\n",
    "fold = 5\n",
    "dict_of_dfs = experiments_to_dict_of_dfs(\"results\", rep, fold)\n",
    "metrics = [\"Target F1\", \"Avg. secondary F1\", \"Avg. R2 emotions\", \"Avg. r emotions\", \"Avg. R2 mid-level\", \"Avg. r mid-level\"]\n",
    "for tt in dict_of_dfs:\n",
    "    print(f\"{tt}\")\n",
    "    display(dict_of_dfs[tt])\n",
    "    #display(df_std)\n",
    "    print(\"\")\n",
    "    latex_table = dict_of_dfs[tt].to_latex(column_format= \"l\" + \"c\" * 2*len(metrics))\n",
    "    # then replace \\multicolumn{2}{l} to \\multicolumn{2}{c}\n",
    "    latex_table = latex_table.replace(\"\\\\multicolumn{2}{l}\", \"\\\\multicolumn{2}{c}\")\n",
    "    print(latex_table)\n",
    "    print(\"_____________________________________________________________\")"
   ]
  },
  {
   "attachments": {},
   "cell_type": "markdown",
   "metadata": {},
   "source": [
    "    lvl_0 = [\"Baseline\", \"FiLM-ed\"]\n",
    "    target_task = [\"Binary\", \"Ternary\"]\n",
    "    voice_task = [\"Voice\", \"No voice\"]\n",
    "    numerical_values = [\"Target F1\", \"Avg. secondary F1\", \"Avg. R2 emotions\", \"Avg. r emotions\", \"Avg. R2 mid-level\", \"Avg. r mid-level\"]\n",
    "\n",
    "    columns = [\"Embeddings\"] + [f\"{col} mean\" for col in numerical_values] + [f\"{col} std\" for col in numerical_values]\n",
    "    dict_of_dfs = {k0: {k1: {k2: pd.DataFrame(columns=columns) for k2 in voice_task} for k1 in target_task} for k0 in lvl_0}\n",
    "\n",
    "    for suffix, l0 in zip([\"\", \"_filmed\"], lvl_0):\n",
    "        temp_dict = dict_of_dfs[l0]\n",
    "        for fn in glob.glob(f\"./results{suffix}/*.json\"):\n",
    "            with open(fn) as f:\n",
    "                results = json.load(f)\n",
    "\n",
    "            # aggregate secondary f1 scores\n",
    "            f1_secondary_means = [v['mean'] for k,v in results[\"f1\"].items() if k != 'target']\n",
    "            f1_secondary_stds = [v['std'] for k,v in results[\"f1\"].items() if k != 'target']\n",
    "            results[\"average\"][\"secondary f1\"] = { \"mean\": np.mean(f1_secondary_means), \"std\": np.mean(f1_secondary_stds)}\n",
    "\n",
    "            first_level = \"Binary\" if len(results[\"config\"][\"classifications\"][\"target\"]) == 2 else \"Ternary\"\n",
    "            second_level = \"Voice\" if results[\"config\"][\"voice\"] else \"No voice\"\n",
    "\n",
    "            row = {\n",
    "                \"Embeddings\": results[\"config\"][\"which_embeddings\"],\n",
    "                \"Target F1 mean\": results[\"f1\"][\"target\"][\"mean\"],\n",
    "                \"Target F1 std\": results[\"f1\"][\"target\"][\"std\"],\n",
    "                \"Avg. secondary F1 mean\": results[\"average\"][\"secondary f1\"][\"mean\"],\n",
    "                \"Avg. secondary F1 std\": results[\"average\"][\"secondary f1\"][\"std\"],\n",
    "                \"Avg. R2 emotions mean\": results[\"average\"][\"emo_r2\"][\"mean\"],\n",
    "                \"Avg. R2 emotions std\": results[\"average\"][\"emo_r2\"][\"std\"],\n",
    "                \"Avg. r emotions mean\": results[\"average\"][\"emo_pears\"][\"mean\"],\n",
    "                \"Avg. r emotions std\": results[\"average\"][\"emo_pears\"][\"std\"],\n",
    "                \"Avg. R2 mid-level mean\": results[\"average\"][\"mid_r2\"][\"mean\"],\n",
    "                \"Avg. R2 mid-level std\": results[\"average\"][\"mid_r2\"][\"std\"],\n",
    "                \"Avg. r mid-level mean\": results[\"average\"][\"mid_pears\"][\"mean\"],\n",
    "                \"Avg. r mid-level std\": results[\"average\"][\"mid_pears\"][\"std\"]\n",
    "            }\n",
    "\n",
    "            df = temp_dict[first_level][second_level].copy()\n",
    "            df = pd.concat([df, pd.DataFrame(row, index=[0])], ignore_index=True)\n",
    "            \n",
    "            temp_dict[first_level][second_level] = df\n",
    "        \n",
    "        dict_of_dfs[l0] = temp_dict\n",
    "\n",
    "    for l0 in lvl_0:\n",
    "        for l1 in target_task:\n",
    "            for l2 in voice_task:\n",
    "                dict_of_dfs[l0][l1][l2] = dict_of_dfs[l0][l1][l2].sort_values(by=\"Embeddings\").set_index(\"Embeddings\")\n"
   ]
  }
 ],
 "metadata": {
  "kernelspec": {
   "display_name": "embeddings_pipeline_dev",
   "language": "python",
   "name": "python3"
  },
  "language_info": {
   "codemirror_mode": {
    "name": "ipython",
    "version": 3
   },
   "file_extension": ".py",
   "mimetype": "text/x-python",
   "name": "python",
   "nbconvert_exporter": "python",
   "pygments_lexer": "ipython3",
   "version": "3.10.10"
  },
  "orig_nbformat": 4
 },
 "nbformat": 4,
 "nbformat_minor": 2
}
